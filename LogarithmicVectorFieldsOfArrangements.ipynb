{
 "cells": [
  {
   "cell_type": "markdown",
   "metadata": {
    "collapsed": false,
    "editable": true,
    "jupyter": {
     "outputs_hidden": false
    },
    "slideshow": {
     "slide_type": ""
    },
    "tags": []
   },
   "source": [
    "# Module of logarithmic vector fields $D(A)$ of a central arrangement $A$\n",
    "\n",
    "- Created: 6 June 2023\n",
    "- Last modifed: 7 December 2023\n",
    "\n",
    "\n",
    "TODO\n",
    "\n",
    "- Follow the SAGE style: https://doc.sagemath.org/html/en/developer/coding_basics.html#documentation-strings\n",
    "- Make a package: https://doc.sagemath.org/html/en/developer/index.html#packaging\n"
   ]
  },
  {
   "cell_type": "code",
   "execution_count": 1,
   "metadata": {},
   "outputs": [],
   "source": [
    "!pip install -q tqdm"
   ]
  },
  {
   "cell_type": "markdown",
   "metadata": {},
   "source": [
    "## Function definition\n",
    "First, execute the cells under this section to define necessary functions"
   ]
  },
  {
   "cell_type": "markdown",
   "metadata": {},
   "source": [
    "### main functions"
   ]
  },
  {
   "cell_type": "code",
   "execution_count": 2,
   "metadata": {
    "collapsed": false,
    "editable": true,
    "jupyter": {
     "outputs_hidden": false
    },
    "slideshow": {
     "slide_type": ""
    },
    "tags": []
   },
   "outputs": [
    {
     "name": "stdout",
     "output_type": "stream",
     "text": [
      "SageMath version 10.0, Release Date: 2023-05-20\n"
     ]
    }
   ],
   "source": [
    "# sage functions\n",
    "from sage.rings.polynomial.toy_variety import linear_representation\n",
    "from sage.matrix.args import MatrixArgs\n",
    "from sage.structure.element import is_Vector\n",
    "from sage.libs.singular.function_factory import singular_function\n",
    "from sage.modules.free_module_element import FreeModuleElement_generic_dense as module_elem\n",
    "minbase = lambda L:singular_function('minbase')(Sequence(L))\n",
    "syz = singular_function(\"syz\")\n",
    "groebner = singular_function(\"groebner\")\n",
    "\n",
    "# python libraries\n",
    "import itertools\n",
    "import numpy as np\n",
    "from tqdm.auto import tqdm\n",
    "import matplotlib.pyplot as plt\n",
    "from mpl_toolkits.mplot3d import Axes3D\n",
    "import mpl_toolkits.axes_grid1\n",
    "\n",
    "class HyperPlaneArr():\n",
    "    r\"\"\"\n",
    "    The main class for the logarithmic derivation module of a central arrangement.\n",
    "\n",
    "    INPUT:\n",
    "\n",
    "    - ``mat`` -- matrix or list; a `p \\times n' matrix whose row vectors correspond to the linear forms defining the planes\n",
    "    - ``Q`` -- polynomial (default: `None`); the defining polynomial of an arrangement that is the product of all linear forms defining the planes\n",
    "    - ``base_field`` -- field (default: `QQ`); Base field for the ambient space. Used only when the arrangement is specified by a list or an array\n",
    "\n",
    "    ATTRIBUTES:\n",
    "    - ``mat``: a matrix whose row vectors correspond to the linear forms defining the planes\n",
    "    - ``K``: the base field\n",
    "    - ``n``: the dimension of the ambient space V\n",
    "    - ``v``: the generators [v[0],...,v[n-1]] of V^*\n",
    "    - ``S``: the base polynomial ring K[v[0],...,v[n-1]]\n",
    "    - ``Q``: the defining polynomial\n",
    "    - ``jacob_I``: the Jacobian ideal of Q\n",
    "    - ``minimal_generators``: the list of minimal generators of the logarithmic derivation module D(A)\n",
    "    - ``euler``: the Euler derivation\n",
    "    \"\"\"\n",
    "    \n",
    "    def __init__(self, mat=None, *, multiplicity=None, Q=None, base_field=QQ):\n",
    "        if mat is not None and Q is None:\n",
    "            # arrangement from matrix\n",
    "            if isinstance(mat,sage.matrix.matrix0.Matrix):\n",
    "                self.mat = mat\n",
    "            else:\n",
    "                self.mat = matrix(base_field, mat)\n",
    "            if not is_distinct_planes(self.mat):\n",
    "                raise ValueError('the given arrangement contains duplicated planes!')\n",
    "            self.K = self.mat.base_ring()\n",
    "            self.n = self.mat.ncols()\n",
    "            self.S = PolynomialRing(self.K, 'x', self.n)\n",
    "            self.v = self.S.gens()\n",
    "            self.Q = mul([sum(u[j]*self.v[j] for j in range(self.n)) for u in self.mat.rows()]) # defining polynomial\n",
    "        elif mat is None and Q is not None:\n",
    "            # arrangement from the defining polynomial\n",
    "            self.Q = Q\n",
    "            self.S = Q.parent()\n",
    "            self.v = self.S.gens() \n",
    "            self.K = self.S.base_ring()\n",
    "            self.n = len(self.v)\n",
    "            try:\n",
    "                QF = factor(Q)\n",
    "            except:\n",
    "                QF = Q\n",
    "            B = []\n",
    "            for linear_factor,exponent in QF: \n",
    "                assert exponent==1 ## assuming QF is square-free\n",
    "                B.append([linear_factor.coefficient(self.v[i]) for i in range(self.n)])\n",
    "            self.mat = matrix(self.K,B)\n",
    "        else:\n",
    "            raise ValueError('provide either matrix ``mat`` or defining polynomial ``Q``.')\n",
    "\n",
    "        ## parameters\n",
    "        self.multiplicity = multiplicity\n",
    "        self.euler = vector(self.v) # Euler derivation\n",
    "        self.SPOG = None # True, if the arramgenet is SPOG. Computed when self.is_SPOG() is called\n",
    "        self.num_planes = self.mat.nrows() # number of hyperplanes in the arrangement\n",
    "        \n",
    "        # compute minimal generators of D(A) by D(A) \\cong <Euler> \\oplus Syz(J_Q) \n",
    "        self.jacob_I = ideal(*[self.Q.derivative(self.v[j]) for j in range(self.n)]) # Jacobian ideal of Q\n",
    "        self.minimal_generators = [self.euler]+[self.euler_complement(u) for u in minbase(self.jacob_I.syzygy_module())] # vector(v) is the Euler derivation\n",
    "        self.degs = degseq(self.minimal_generators) # derivation degree sequence\n",
    "        self.is_free = (len(self.degs)==self.n) # True, if the arrangement is free\n",
    "        self.linear_forms = [sum(self.mat[i,j]*self.v[j] for j in range(self.n)) for i in range(self.num_planes)] # list of linear forms defining the planes\n",
    "\n",
    "    def is_in_DA(self,gv):\n",
    "        # check if an element `gv` of S^n is in D(A)\n",
    "        for i in range(self.num_planes):\n",
    "            gva = sum([self.mat[i,j]*gv[j] for j in range(len(gv))])\n",
    "            if not gva in ideal(self.linear_forms[i]):\n",
    "                return(False)\n",
    "        return(True)\n",
    "\n",
    "    def compute_multi_minimal_generators(self):\n",
    "        S1 = self.S^1\n",
    "        M=[]\n",
    "        for alpha,m in zip(self.linear_forms,self.multiplicity):\n",
    "            RM=Sequence([module_elem(S1, (alpha.derivative(self.v[j]),)) for j in range(self.n)]+[module_elem(S1,(alpha^m,))])\n",
    "            M.append(matrix([u[:-1] for u in syz(RM)]))\n",
    "        return(list(module_intersection(M)))        \n",
    "        \n",
    "    def free_resolution(self):\n",
    "        # compute free resolution of D(A)\n",
    "        M = self.minimal_generators[0].parent()\n",
    "        return(M.submodule(self.minimal_generators).graded_free_resolution())\n",
    "\n",
    "    def euler_complement(self,g,alpha=None):\n",
    "        # decompose S^n into a direct sum of <euler> + D_0(A) \n",
    "        if alpha is None:\n",
    "            ag = self.v[-1]\n",
    "        elif is_Vector(alpha):\n",
    "            ag = self.euler.dot_product(alpha)\n",
    "        elif type(alpha)==Integer:\n",
    "            ag = self.v[alpha]  \n",
    "        return(g-ag(*g)//ag*self.euler)\n",
    "\n",
    "    def restriction(self,i):\n",
    "        # restriction of A with respect to i-th hyperplane\n",
    "        B=copy(self.mat)\n",
    "        piv = np.where(np.array(B[i])!=0)[0][0] # first non-zero coord\n",
    "        for t in range(B.nrows()):\n",
    "            B[t] = self.mat[i,piv]*B[t]-B[t,piv]*self.mat[i]\n",
    "        B = B.delete_columns([piv]).delete_rows([i])\n",
    "        B, multiplicity = remove_duplicate_planes(B)\n",
    "        for t in range(B.nrows()):\n",
    "            B[t] /= gcd(B[t])\n",
    "            c = np.where(np.array(B[t])!=0)[0][0]\n",
    "            B[t] *= sgn(B[t,c])\n",
    "        return(HyperPlaneArr(B,multiplicity=multiplicity))\n",
    "    \n",
    "    def localisation(self,L):\n",
    "        ## localisation of A at X = \\cap_{i\\in L} A_i\n",
    "        I = Ideal(*[a.dot_product(self.euler) for a in self.mat[L,:]])\n",
    "        indices = []\n",
    "        for i,a in enumerate(self.mat):\n",
    "            if a.dot_product(self.euler) in I:\n",
    "                indices.append(i)\n",
    "        return(HyperPlaneArr(self.mat[indices,:]))\n",
    "\n",
    "    def deletion(self,L):\n",
    "        ## delete planes of A at indices specified by L\n",
    "        return(HyperPlaneArr(self.mat.delete_rows(L)))\n",
    "\n",
    "    def addition(self,mat):\n",
    "        if isinstance(mat,list):\n",
    "            return(HyperPlaneArr(self.mat.stack(vector(mat))))\n",
    "        else:\n",
    "            return(HyperPlaneArr(self.mat.stack(mat)))\n",
    "\n",
    "    def intersection_lattice(self):\n",
    "        #TODO\n",
    "        return(None)\n",
    "        \n",
    "    def is_SPOG(self):\n",
    "        # check if the arrangement is SPOG(strictly plus-one generated).\n",
    "        # if it is, returns degrees (exponents with level as the last element)\n",
    "        self.SPOG = False\n",
    "        fr=self.free_resolution()\n",
    "        if fr._length != 2:\n",
    "            return(False)\n",
    "        if len(fr.betti(2)) != 1: # there should be only a single relation\n",
    "            return(False)\n",
    "        for deg, multiplicity in fr.betti(2).items(): # relations\n",
    "            if multiplicity != 1:\n",
    "                return(False)\n",
    "            else:\n",
    "                level = deg-1\n",
    "        if level not in fr.betti(1).keys(): # the relation should be in degree level+1\n",
    "            return(False)\n",
    "        degs = []\n",
    "        for deg, multiplicity in fr.betti(1).items(): # generators\n",
    "            if deg==level:\n",
    "                degs.extend([deg]*(multiplicity-1))\n",
    "            else:\n",
    "                degs.extend([deg]*multiplicity)\n",
    "        self.SPOG = True\n",
    "        return(sorted(degs)+[level])\n",
    "\n",
    "    def level_coeff(self):\n",
    "        # returns level coefficient and level element\n",
    "        if self.SPOG is None:\n",
    "            self.is_SPOG()\n",
    "        if not self.SPOG:\n",
    "            raise ValueError('the given arrangement is not SPOG.')\n",
    "        MG = self.minimal_generators\n",
    "        u = MG[0]\n",
    "        RM=Sequence([module_elem(self.S**self.n,tuple(MG[i])) for i in range(len(MG))])\n",
    "        LHS = None\n",
    "        RHS = []\n",
    "        #print(syz(RM))\n",
    "        for g in syz(RM):\n",
    "            if 1 in [m.degree() for m in g]: # find degree one\n",
    "                for i,m in enumerate(g):\n",
    "                    if LHS is None and m.degree()==1:\n",
    "                        LHS = (m,i,MG[i])\n",
    "                    elif m!=0:\n",
    "                        RHS.append((-m,i,MG[i]))\n",
    "        return(LHS,RHS)\n",
    "                \n",
    "    # search for a free addition: experimental\n",
    "    def search_free_addition(self,a_range=range(-10,10),b_range=range(-10,10)):\n",
    "        plane = None\n",
    "        found = False\n",
    "        for a in tqdm(a_range):\n",
    "            if found:\n",
    "                break\n",
    "            for b in b_range:\n",
    "                if found:\n",
    "                    break\n",
    "                for c in [0,1]:\n",
    "                    plane=[c,a,b]+[0]*(self.n-3)\n",
    "                    try:\n",
    "                        B=self.addition(plane)\n",
    "                    except:\n",
    "                        continue\n",
    "                    if B.is_free:\n",
    "                        print(\"plane: \",vector(plane),\"degrees: \",B.degs)\n",
    "                        found=True\n",
    "                        break\n",
    "        if not found:\n",
    "            print(\"No planes found\")\n",
    "        return(plane)\n",
    "\n",
    "    def plot_arr(self,xlim=None,ylim=None,ax=None,levels=0,nx=100,ny=100,legend=True,offset = 5):\n",
    "        # plot arrangement\n",
    "        ## (TODO): how to draw the line at infinity?\n",
    "        if self.n not in [2,3]:\n",
    "            raise ValueError('plot works only for two or three dimensional arrangements')\n",
    "        if ax is None:\n",
    "            fig, ax = plt.subplots(1,1)\n",
    "        ax.set_aspect('equal')\n",
    "        if xlim:\n",
    "            ax.set_xlim(xlim)\n",
    "        if ylim:\n",
    "            ax.set_ylim(ylim)\n",
    "        latex_str=[latex(s) for s in self.linear_forms]\n",
    "        for i in range(self.num_planes):\n",
    "            l = self._line_ends(self.mat[i],xlim=xlim,ylim=ylim)\n",
    "            if l is not None:\n",
    "                ax.axline(*l,label=f'${latex_str[i]}$')\n",
    "                #print(latex_str[i],l[1])\n",
    "                if legend:\n",
    "                    ax.annotate(f'${latex_str[i]}$',l[1],xytext=(-offset, -1.5*offset), textcoords='offset points')\n",
    "    \n",
    "        xlim = ax.get_xlim()\n",
    "        ylim = ax.get_ylim()\n",
    "        # plot contours of Q\n",
    "        if levels>0:\n",
    "            px = np.linspace(xlim[0],xlim[1],nx)\n",
    "            py = np.linspace(ylim[0],ylim[1],ny)\n",
    "            xv, yv = np.meshgrid(px, py)\n",
    "            Z = []\n",
    "            if self.n==3:\n",
    "                for x,y in zip(xv.ravel(),yv.ravel()):\n",
    "                    Z.append(self.Q(Rational(x),Rational(y),1))   \n",
    "                    #Z.append(Q(Rational(y),1,Rational(x)))    \n",
    "            elif self.n==2:\n",
    "                for x,y in zip(xv.ravel(),yv.ravel()):\n",
    "                    Z.append(self.Q(Rational(x),Rational(y)))\n",
    "            Z = np.array(Z).reshape(*xv.shape)\n",
    "            ax.contour(px,py,Z,levels=levels)        \n",
    "        ##\n",
    "        Qstr = \"\".join([f\"({x})\" for x in latex_str])\n",
    "        ax.set_title(f'${Qstr}$')\n",
    "        # if legend:\n",
    "        #     plt.legend(loc='upper left', bbox_to_anchor=(1, 1.0),fancybox=True, shadow=True)\n",
    "        plt.axis('off')\n",
    "        return(ax)\n",
    "            \n",
    "    def _line_ends(self,alpha,xlim=None,ylim=None):\n",
    "        # find end points of the line defined by a linear form alpha\n",
    "        if xlim is None:\n",
    "            xlim=(-1,1)\n",
    "        if ylim is None:\n",
    "            ylim=(-1,1)\n",
    "        if len(alpha)==2:\n",
    "            a,b = alpha\n",
    "            c = 0\n",
    "        else:\n",
    "            a,b,c = alpha\n",
    "        if (a==0 and b==0):\n",
    "            return(None)\n",
    "        if (a*b !=0) and ((-c-a*xlim[1])/b < ylim[0] or (-c-a*xlim[1])/b > ylim[1]):\n",
    "            xlim = (xlim[0], -(b*ylim[0]+c)/a)\n",
    "        return [(-c/a,q) if b==0 else (p,(-c-a*p)/b) for p,q in zip(xlim,(ylim[1],ylim[0]))]\n",
    "    \n",
    "    # plot an element u of D(A) as a vector field (works only for n=2,3)\n",
    "    def plot_vfield(self, u, quiver=True, cmap=\"coolwarm\", nx=30,ny=30, scale = None, xlim=None, ylim=None, ax=None):\n",
    "        if self.n not in [2,3]:\n",
    "            raise ValueError('plot works only for two or three dimensional arrangements')\n",
    "        ax = self.plot_arr(xlim,ylim,ax=ax)\n",
    "        xlim = ax.get_xlim()\n",
    "        ylim = ax.get_ylim()\n",
    "    \n",
    "        px = np.linspace(xlim[0],xlim[1],nx)\n",
    "        py = np.linspace(ylim[0],ylim[1],ny)\n",
    "        xv, yv = np.meshgrid(px, py)\n",
    "        vx,vy = [],[]\n",
    "        if len(u)==3:\n",
    "            u_c = self.euler_complement(u,-1)\n",
    "            for x,y in zip(xv.ravel(),yv.ravel()):\n",
    "                vx.append(u_c[0](Rational(x),Rational(y),1))        \n",
    "                vy.append(u_c[1](Rational(x),Rational(y),1))\n",
    "        else:\n",
    "            u_c = u\n",
    "            for x,y in zip(xv.ravel(),yv.ravel()):\n",
    "                vx.append(u[0](Rational(x),Rational(y)))        \n",
    "                vy.append(u[1](Rational(x),Rational(y)))\n",
    "            \n",
    "        vx = np.array(vx).reshape(*xv.shape)\n",
    "        vy = np.array(vy).reshape(*yv.shape)\n",
    "        mgn = (np.sqrt(vx*vx+vy*vy))\n",
    "        if quiver:\n",
    "            strm = ax.quiver(xv,yv,vx,vy,mgn,cmap=cmap,scale=scale)#,scale_units='width',width=0.005)\n",
    "        else:\n",
    "            strm = ax.streamplot(xv, yv, vx,vy, color=mgn, linewidth=2, cmap=cmap, density=[float(0.5),float(1.)])\n",
    "        ax.set_title(f'${latex(u_c)}$')\n",
    "        ax.set_aspect('equal')\n",
    "        ax.axis('off')\n",
    "        return(ax)\n",
    "    \n",
    "# convert vector representation of elements in S^n to a linear combination of partial_i\n",
    "def vec2d(u):\n",
    "    if type(u) is list:\n",
    "        return(list(map(vec2d,u)))\n",
    "    else:\n",
    "        S = u.parent().base_ring()\n",
    "        K=S.base_ring()\n",
    "        v= S.gens()\n",
    "        PD = PolynomialRing(K,'d',len(v))\n",
    "        FM = K[v+PD.gens()]\n",
    "        d=FM.gens()[len(v):]\n",
    "        return(sum(u[j]*d[j] for j in range(len(v))))\n",
    "\n",
    "# convert a linear combination of partial_i to a vector representation in S^n\n",
    "def d2vec(u):\n",
    "    if type(u) is list:\n",
    "        return(list(map(d2vec,u)))\n",
    "    else:\n",
    "        gens = u.parent().gens()\n",
    "        d = gens[(len(gens)//2):]\n",
    "        vec = []\n",
    "        for i in range(len(d)):\n",
    "            subs_d = {d[j]:0 for j in range(len(d))}\n",
    "            subs_d[d[i]] = 1\n",
    "            vec.append(u.subs(subs_d))\n",
    "        return(vector(vec))\n",
    "\n",
    "# arrange generators w.r.t. degrees\n",
    "def gendic(MG):\n",
    "    MGs={}\n",
    "    for g in MG:\n",
    "        deg = max(m.degree() for m in g)\n",
    "        if deg in MGs.keys():\n",
    "            MGs[deg].append(g)\n",
    "            #MGs[deg].append(vec2d(g))\n",
    "        else:\n",
    "            MGs[deg] = [g]\n",
    "    return(MGs)\n",
    "\n",
    "# degree sequence\n",
    "def degseq(MG):\n",
    "    return(sorted([max(m.degree() for m in g) for g in MG]))\n",
    "\n",
    "# check if all the planes are distinct\n",
    "def is_distinct_planes(mat):\n",
    "    for plane in itertools.combinations(range(mat.nrows()),2):\n",
    "        if mat[plane,:].rank()<2:\n",
    "            return(False)\n",
    "    return(True)\n",
    "\n",
    "# remove duplicate planes\n",
    "def remove_duplicate_planes(mat):\n",
    "    # TODO: make it more efficient by normalising all vectors and select unique elements\n",
    "    indices = list(range(mat.nrows()))\n",
    "    K=mat.base_ring()\n",
    "    n=mat.ncols()\n",
    "    # first, remove zero plane\n",
    "    zerovec = zero_vector(K,n)\n",
    "    for plane in indices:\n",
    "        if mat[plane]==zerovec:\n",
    "            indices.remove(plane)\n",
    "    multiplicity = [1]*len(indices)\n",
    "    for pair in itertools.combinations(indices,2):\n",
    "        if (pair[1] in indices) and (mat[pair,:].rank()<2):\n",
    "            indices.remove(pair[1]) # remove the one with a larger index\n",
    "            multiplicity[pair[0]] += 1\n",
    "    return(mat[indices,:], [multiplicity[i] for i in indices])\n",
    "\n",
    "# coordinate vectors\n",
    "def coord_vec(n):\n",
    "    return(list(np.eye(n)))\n",
    "\n",
    "## check if elements of S^n are S-independent\n",
    "def is_S_indep(MG):\n",
    "    return(det(saito(MG))!=0)\n",
    "    \n",
    "## The matrix in Saito's criterion\n",
    "def saito(MG):\n",
    "    assert len(MG[0])==len(MG) # the number of generators == n\n",
    "    M=matrix(MG)\n",
    "    return(M)\n",
    "\n",
    "## compute the intersection of two modules\n",
    "def module_intersection(Ms):\n",
    "    Mint = Ms[0].transpose()\n",
    "    for M in Ms[1:]:\n",
    "        Mint = singular.intersect(Mint,M.transpose())\n",
    "        #Mint = Mint.sage()  ## to void a bug of misidentifing the base ring...\n",
    "    return singular.minbase(Mint).sage().transpose()\n",
    "\n",
    "# experimental\n",
    "import sage.parallel.multiprocessing_sage\n",
    "def list_ntf2(i,A=None):\n",
    "    results={}\n",
    "    B=A.deletion([i])\n",
    "    if B.is_free:\n",
    "        print(f\"del {i} is free\",B.degs)\n",
    "    else:\n",
    "        C=A.restriction(i)\n",
    "        print(f\"Res to {i} free?: {C.is_free}\")\n",
    "        for j in range(i+1,A.num_planes):        \n",
    "            B=A.deletion([i,j])\n",
    "            results[(i,j)]=B.degs\n",
    "            if B.is_SPOG():\n",
    "                #LHS,RHS = B.level_coeff()\n",
    "                print('SPOG:',(i,j),B.degs)#, f\"level coeff: {LHS[0]}\")\n",
    "            elif B.is_free:\n",
    "                print('free: ',(i,j),B.degs)\n",
    "            else:\n",
    "                st = f\"pd={len(B.free_resolution())-1}\"\n",
    "                print(st,(i,j),B.degs)\n",
    "    return(results)\n",
    "    \n",
    "# version\n",
    "print(sage.version.banner)"
   ]
  },
  {
   "cell_type": "markdown",
   "metadata": {},
   "source": [
    "### linear algebraic algorithm"
   ]
  },
  {
   "cell_type": "code",
   "execution_count": 3,
   "metadata": {},
   "outputs": [],
   "source": [
    "# computation of D(A) by linear algebraic methods\n",
    "\n",
    "# matrices representing the multiplication by x[i]: S_k to S_{k+1}\n",
    "# faster than coef_map2 and works for any characteristic\n",
    "def coef_map(k,S):\n",
    "    v=S.gens()\n",
    "    K=S.base_ring()\n",
    "    n=len(v)\n",
    "    Sk_list=Sk_expo(k,n)\n",
    "    Sk1_list=Sk_expo(k+1,n)\n",
    "    Sk1_dic = {ex:i for i,ex in enumerate(Sk1_list)}\n",
    "    Mi=[[] for i in range(n)]\n",
    "    eye = np.eye(n)\n",
    "    for i,expo in enumerate(Sk_list):\n",
    "        for j in range(n):\n",
    "            e = np.array(expo)+eye[j]\n",
    "            Mi[j].append((i,Sk1_dic[tuple(e)]))\n",
    "    M = [MatrixArgs(K,len(Sk_list),len(Sk1_list),entries={k:1 for k in Mi[j]}).matrix() for j in range(n)]\n",
    "    return(M,[expo2poly(expo,v) for expo in Sk1_list])\n",
    "\n",
    "# not used currently\n",
    "def coef_map2(k,S): #S_k到S_k+1的系数矩阵, coefficient_matrix of linear map from S_k to S_k+1\n",
    "    v=S.gens()\n",
    "    f=((sum(v))^k)\n",
    "    Sk = f.monomials() #S_k的基向量，basis of vector space S_k\n",
    "    Sk1 = (sum(v)*f).monomials() \n",
    "    M=[]                 #M[i]: coefficient_matrix of linear map of product v[i]\n",
    "    for i in range(n):\n",
    "        e1=(v[i]*f).monomials() #S_k的基向量*x_i，basis of vector space S_k product x_i\n",
    "        M.append(matrix([linear_representation(e1[j],Sk1) for j in range(len(e1))]))\n",
    "    return  M,Sk1\n",
    "\n",
    "# enumerate all exponents of monomials in Sk\n",
    "def Sk_expo(k,n): # can we find better indexing?\n",
    "    Sk_list = []\n",
    "    ones = np.ones(n,dtype=int)\n",
    "    for e in Compositions(k+n,length=n):\n",
    "        Sk_list.append(tuple(np.array(e)-ones))\n",
    "    return(Sk_list)\n",
    "\n",
    "# convert a list of exponents to a polynomial in indeterminants v[]\n",
    "def expo2poly(Ls,v):\n",
    "    if type(Ls) is list:\n",
    "        u = 0\n",
    "        for L in Ls:\n",
    "            m = v[0]^0\n",
    "            for i in range(len(L)):\n",
    "                m *= v[i]^L[i]\n",
    "            u += m\n",
    "        return(u)\n",
    "    else:\n",
    "        return(expo2poly([Ls],v))\n",
    "\n",
    "\n",
    "# image of lambda_i of V, a list of vector representations of elements of S^n\n",
    "def image_lambda(V,n):\n",
    "    k = max([V[0][j].degree() for j in range(n)])\n",
    "    Sk1_list=Sk_expo(k+1,n)\n",
    "    Sk1_dic = {e:i for i,e in enumerate(Sk1_list)}\n",
    "    eye = np.eye(n,dtype=int)\n",
    "    M=[]\n",
    "    L={}\n",
    "    num = 0\n",
    "    for u in V:\n",
    "        for j in range(n):  # times v[j]\n",
    "            for i in range(n): # each exponent           \n",
    "                for e,c in u[i].dict().items():\n",
    "                    le = tuple(np.array(e[:n])+eye[j])\n",
    "                    L[Sk1_dic[le]*n+i,num] = c\n",
    "            num += 1\n",
    "    M = MatrixArgs(QQ,len(Sk1_dic)*n,len(V)*n,entries=L).matrix()\n",
    "    return(M)\n",
    "\n",
    "# convert a list of elements in S^k to a list of flattened vectors of dim=dim(Sk)*n\n",
    "def vec2flatten(U,Sk_dic):\n",
    "    L={}\n",
    "    n = len(list(Sk_dic.keys())[0])\n",
    "    for j,u in enumerate(U):\n",
    "        for i in range(n):            \n",
    "            for e,c in u[i].dict().items():\n",
    "                L[Sk_dic[tuple(e[:n])]*n+i,j] = c\n",
    "    M = MatrixArgs(QQ,len(Sk_dic)*n,len(U),entries=L).matrix()\n",
    "    return(M)    \n",
    "        \n",
    "# vector basis of D(A) of degree k+1\n",
    "def gener_sk(mat,k):\n",
    "    p=mat.nrows()\n",
    "    n=mat.ncols()\n",
    "    K=mat.base_ring()\n",
    "    S=PolynomialRing(K, 'x', n)\n",
    "    M,Sk1=coef_map(k,S)#M:coefficient_matrix,Sk1:basis of S_k+1\n",
    "    m1=binomial(n+k-1, k)#dimension of S_k\n",
    "    m2=len(Sk1)#dimension of S_k+1\n",
    "    C=zero_matrix(K,n*m2+p*m1,p*m2)#coefficient_matrix of XC=0, where X_1(A[i])+A[i]*X_2 = 0 \n",
    "    for i in range(p):# C[i] is the coefficient_matrix of derivation equation of i-th hyperplane \n",
    "        D=zero_matrix(K,n*m2+p*m1,m2) #C[i]==D\n",
    "        Y = sum([mat[i,j]*M[j] for j in range(n)]) # matrix for multiplication by A[i]\n",
    "        D[(n*m2+i*m1):(n*m2+(i+1)*m1),:]=Y\n",
    "        for j in range(m2):\n",
    "            D[j*n:(j+1)*n,j]=mat[i,:].transpose()\n",
    "        C[:,i*m2:(i+1)*m2]=D\n",
    "    B=kernel(C.sparse_matrix()).matrix()#solution space of XC=0\n",
    "    #B=kernel(C).matrix()#solution space of XC=0\n",
    "    B=B[:,:n*m2]# each row is the coordinate of a derivation, and they are linearly independent\n",
    "    Gener=[] # K-linear basis for D(A) of degree k+1\n",
    "    for i in range(B.nrows()):\n",
    "        if B[i]!=0:\n",
    "            E=sum(Sk1[j]*B[i,j*n:(j+1)*n] for j in range(m2))\n",
    "            Gener.append(vector(E))\n",
    "    return Gener\n",
    "\n",
    "\n",
    "# find the minimal set of homogeneous generators given any generating set of a submodule of S^n\n",
    "## for the homogeneous case, use minbase, which is more efficient\n",
    "def minimal_generating_set(G):\n",
    "    if len(G)==0:\n",
    "        return([])\n",
    "    S = G[0].parent().base_ring()\n",
    "    v = S.gens()\n",
    "    K=S.base_ring()\n",
    "    PD = PolynomialRing(K,'d',len(v))\n",
    "    FM = K[v+PD.gens()]\n",
    "    d=FM.gens()[len(v):]\n",
    "    G = sorted(G,key=lambda x:x.degree()) #  sort G in the increasing order w.r.t. degree\n",
    "    r = [d[i]*d[j] for i in range(len(v)) for j in range(i,len(v))] # relations among partial_i\n",
    "    MG = []\n",
    "    MG_index = []\n",
    "    I = ideal(*r,*MG)\n",
    "    for i in range(len(G)):        \n",
    "        g = vec2d(G[i])\n",
    "        if g not in I:\n",
    "            MG.append(g)\n",
    "            MG_index.append(i)\n",
    "            I = ideal(*r,*MG)\n",
    "    return([G[i] for i in MG_index])\n",
    "\n",
    "\n",
    "# find the minimal set of homogeneous generators for D(A)\n",
    "def min_gen_arr(mat,verbose=True):\n",
    "    if not is_distinct_planes(mat):\n",
    "        raise ValueError('the given arrangement contains duplicated planes!')\n",
    "    p=mat.nrows()\n",
    "    n=mat.ncols()\n",
    "    K=mat.base_ring()\n",
    "    S=PolynomialRing(K, 'x', n)\n",
    "    v = S.gens()\n",
    "    PD = PolynomialRing(K,'d',len(v))\n",
    "    FM = K[v+PD.gens()]\n",
    "    d=FM.gens()[len(v):]\n",
    "    \n",
    "    if verbose:\n",
    "        print(f'num of planes is {p}')\n",
    "    r = [d[i]*d[j] for i in range(len(v)) for j in range(i,len(v))] # relations among partial_i\n",
    "    GEN=[]\n",
    "    GEN_vec = []\n",
    "    degs=[]\n",
    "    for k in range(p-n+2):\n",
    "        # check Saito's criterion\n",
    "        if sum(degs[:len(v)-1])+k<p<sum(degs):\n",
    "            flag_skip = False\n",
    "            for comb in itertools.combinations(degs, len(v)-1):\n",
    "                if sum(comb)+k+1==p:\n",
    "                    flag_skip = True\n",
    "            if flag_skip:\n",
    "                print(f\"skipping deg {k+1} by Saito's criterion\")\n",
    "                continue\n",
    "        # generate module basis\n",
    "        G=gener_sk(mat,k)\n",
    "        if verbose:\n",
    "            print(f'number of vector generators at deg {k+1} is {len(G)}')\n",
    "        I = ideal(*r,*GEN)\n",
    "        for i in range(len(G)):\n",
    "            g = vec2d(G[i])\n",
    "            if g not in I:\n",
    "                GEN.append(g)\n",
    "                GEN_vec.append(G[i])\n",
    "                I = ideal(*r,*GEN)\n",
    "                degs.append(k+1) # degree sequence\n",
    "                if len(degs)==len(v) and sum(degs)==p: # given the freeness of arrangement by Saito's criterion \n",
    "                    if verbose:\n",
    "                        print('free')\n",
    "                        print('degree sequence: ',degs)\n",
    "                    return(GEN_vec)\n",
    "    if verbose:\n",
    "        print('degree sequence: ',degs)\n",
    "    return(GEN_vec)\n",
    "\n",
    "# find minimal set of homogeneous generators by row echelon form\n",
    "def min_gen_arr_linear(mat,max_k=None,verbose=True):\n",
    "    p=mat.nrows()\n",
    "    n=mat.ncols()\n",
    "    if max_k is not None:\n",
    "        mk = max_k\n",
    "    else:\n",
    "        mk = p-n+1\n",
    "    K=mat.base_ring()\n",
    "    S=PolynomialRing(K, 'x', n)\n",
    "    v = S.gens()\n",
    "    V = gener_sk(mat,0)\n",
    "    if verbose:\n",
    "        print(f'deg 1, num gens {len(V)}')\n",
    "    MG=V\n",
    "    for k in range(mk-1):\n",
    "        M = image_lambda(V,n)\n",
    "        V = gener_sk(mat,k+1)\n",
    "        Sk1_list=Sk_expo(k+2,n)\n",
    "        Sk1_dic = {e:i for i,e in enumerate(Sk1_list)}\n",
    "        Sk1=[expo2poly(expo,v) for expo in Sk1_list]\n",
    "        V1 = vec2flatten(V,Sk1_dic)\n",
    "        lDk1 = M.augment(V1)\n",
    "        piv=np.array(lDk1.pivots())\n",
    "        mask = piv>=M.ncols()\n",
    "        MG.extend([vector(sum(Sk1[j]*lDk1[j*n:(j+1)*n,i] for j in range(len(Sk1)))) for i in piv[mask] ])\n",
    "        if verbose:\n",
    "            print(f'deg {k+2}, dim {len(V)}, codim {n*binomial(n+k, k+1)-len(V)}, num new gen {sum(mask)}')\n",
    "    return(MG)\n"
   ]
  },
  {
   "cell_type": "markdown",
   "metadata": {
    "collapsed": false,
    "jupyter": {
     "outputs_hidden": false
    }
   },
   "source": [
    "# Examples\n",
    "This section illustrates the main functionality of the code by examples"
   ]
  },
  {
   "cell_type": "markdown",
   "metadata": {},
   "source": [
    "## dim 3, |A|=3, free"
   ]
  },
  {
   "cell_type": "code",
   "execution_count": 4,
   "metadata": {
    "collapsed": false,
    "jupyter": {
     "outputs_hidden": false
    }
   },
   "outputs": [
    {
     "name": "stdout",
     "output_type": "stream",
     "text": [
      "[(x0, x1, x2), (x0, 2*x1, 0), (2*x0, x1, 0)]\n",
      "[1, 1, 1]\n"
     ]
    }
   ],
   "source": [
    "# an arrangement is represented by a matrix whose row vectors correspond to the linear forms defining the planes\n",
    "A=HyperPlaneArr([[1,0,0],[0,1,0],[0,0,1]],base_field=QQ)\n",
    "# minimal set of generators\n",
    "print(A.minimal_generators)\n",
    "# degree sequence of D(A)\n",
    "print(A.degs)"
   ]
  },
  {
   "cell_type": "code",
   "execution_count": 5,
   "metadata": {},
   "outputs": [
    {
     "name": "stdout",
     "output_type": "stream",
     "text": [
      "num of planes is 3\n",
      "number of vector generators at deg 1 is 3\n",
      "free\n",
      "degree sequence:  [1, 1, 1]\n"
     ]
    },
    {
     "data": {
      "text/plain": [
       "[x0*d0, x1*d1, x2*d2]"
      ]
     },
     "execution_count": 5,
     "metadata": {},
     "output_type": "execute_result"
    }
   ],
   "source": [
    "# alternatively\n",
    "MG=min_gen_arr(A.mat,verbose=True)\n",
    "vec2d(MG)"
   ]
  },
  {
   "cell_type": "code",
   "execution_count": 6,
   "metadata": {
    "collapsed": false,
    "jupyter": {
     "outputs_hidden": false
    }
   },
   "outputs": [
    {
     "name": "stdout",
     "output_type": "stream",
     "text": [
      "            [x0  0  0]      \n",
      "            [ 0 x1  0]      \n",
      "            [ 0  0 x2]      \n",
      " 0 <-- C_0 <----------- C_1 <-- 0 \n"
     ]
    },
    {
     "data": {
      "text/plain": [
       "S(0)⊕S(0)⊕S(0) <-- S(-1)⊕S(-1)⊕S(-1) <-- 0"
      ]
     },
     "execution_count": 6,
     "metadata": {},
     "output_type": "execute_result"
    }
   ],
   "source": [
    "# Free resolution\n",
    "res=A.free_resolution()\n",
    "print(ascii_art(res.chain_complex()))\n",
    "res"
   ]
  },
  {
   "cell_type": "code",
   "execution_count": 7,
   "metadata": {},
   "outputs": [
    {
     "name": "stdout",
     "output_type": "stream",
     "text": [
      "[0 0 1]\n",
      "[0 1 0]\n",
      "[1 0 0]\n"
     ]
    },
    {
     "data": {
      "text/plain": [
       "[(x, y, z), (x, 2*y, 0), (2*x, y, 0)]"
      ]
     },
     "execution_count": 7,
     "metadata": {},
     "output_type": "execute_result"
    }
   ],
   "source": [
    "# define arrangement by the defining polynomial\n",
    "R.<x,y,z> = QQ['x,y,z']\n",
    "A=HyperPlaneArr(Q=x*y*z)\n",
    "print(A.mat)\n",
    "A.minimal_generators"
   ]
  },
  {
   "cell_type": "markdown",
   "metadata": {},
   "source": [
    "## dim 3, |A|=4, non-free, SPOG"
   ]
  },
  {
   "cell_type": "code",
   "execution_count": 8,
   "metadata": {
    "collapsed": false,
    "jupyter": {
     "outputs_hidden": false
    }
   },
   "outputs": [
    {
     "data": {
      "text/plain": [
       "{1: [(x0, x1, x2)],\n",
       " 2: [(4*x0*x1, 4*x1^2 + 4*x1*x2, 0),\n",
       "  (x0^2 + 2*x0*x1 + x0*x2, 2*x0*x1 + 3*x1^2 + 3*x1*x2, 0),\n",
       "  (3*x0^2 - 2*x0*x1 + 3*x0*x2, 2*x0*x1 - 3*x1^2 - 3*x1*x2, 0)]}"
      ]
     },
     "execution_count": 8,
     "metadata": {},
     "output_type": "execute_result"
    }
   ],
   "source": [
    "# the default base field is QQ\n",
    "A=HyperPlaneArr([[1,0,0],[0,1,0],[0,0,1],[1,1,1]])\n",
    "gendic(A.minimal_generators)"
   ]
  },
  {
   "cell_type": "code",
   "execution_count": 9,
   "metadata": {},
   "outputs": [
    {
     "data": {
      "text/plain": [
       "[(x, y, z),\n",
       " (4*x*y, 4*y^2 + 4*y*z, 0),\n",
       " (x^2 + 2*x*y + x*z, 2*x*y + 3*y^2 + 3*y*z, 0),\n",
       " (3*x^2 - 2*x*y + 3*x*z, 2*x*y - 3*y^2 - 3*y*z, 0)]"
      ]
     },
     "execution_count": 9,
     "metadata": {},
     "output_type": "execute_result"
    }
   ],
   "source": [
    "# we can define the arrangement also by the defining polynomial\n",
    "R.<x,y,z> = QQ['x,y,z']\n",
    "A=HyperPlaneArr(Q=x*y*z*(x+y+z))\n",
    "A.minimal_generators"
   ]
  },
  {
   "cell_type": "code",
   "execution_count": 10,
   "metadata": {},
   "outputs": [
    {
     "name": "stdout",
     "output_type": "stream",
     "text": [
      "(x, y, z) True\n",
      "(4*x*y, 4*y^2 + 4*y*z, 0) True\n",
      "(x^2 + 2*x*y + x*z, 2*x*y + 3*y^2 + 3*y*z, 0) True\n",
      "(3*x^2 - 2*x*y + 3*x*z, 2*x*y - 3*y^2 - 3*y*z, 0) True\n"
     ]
    }
   ],
   "source": [
    "# check if generators are indeed in D(A)\n",
    "for gv in A.minimal_generators:\n",
    "    print(gv,A.is_in_DA(gv))"
   ]
  },
  {
   "cell_type": "code",
   "execution_count": 11,
   "metadata": {
    "collapsed": false,
    "jupyter": {
     "outputs_hidden": false
    }
   },
   "outputs": [
    {
     "name": "stdout",
     "output_type": "stream",
     "text": [
      "                                                                              \n",
      "            [              x               0               0               0] \n",
      "            [              y x*y + y^2 + y*z            -y*z             y*z] \n",
      "            [              z               0             y*z       x*z + z^2] \n",
      " 0 <-- C_0 <------------------------------------------------------------------\n",
      "\n",
      "      [     0]      \n",
      "      [    -z]      \n",
      "      [-x - z]      \n",
      "      [     y]      \n",
      " C_1 <--------- C_2 <-- 0 \n"
     ]
    },
    {
     "data": {
      "text/plain": [
       "S(0)⊕S(0)⊕S(0) <-- S(-1)⊕S(-2)⊕S(-2)⊕S(-2) <-- S(-3) <-- 0"
      ]
     },
     "execution_count": 11,
     "metadata": {},
     "output_type": "execute_result"
    }
   ],
   "source": [
    "# Free resolution\n",
    "res=A.free_resolution()\n",
    "print(ascii_art(res.chain_complex()))\n",
    "res"
   ]
  },
  {
   "cell_type": "code",
   "execution_count": 12,
   "metadata": {},
   "outputs": [
    {
     "name": "stdout",
     "output_type": "stream",
     "text": [
      "[(x, y, z), (0, x*y + y^2 + y*z, 0), (0, -y*z, y*z), (0, y*z, x*z + z^2)]\n"
     ]
    }
   ],
   "source": [
    "# the column vectors of the first differential corresponds to the generators\n",
    "MG=[vector(u) for u in res.differential(1).matrix().columns()]\n",
    "print(MG)\n"
   ]
  },
  {
   "cell_type": "code",
   "execution_count": 13,
   "metadata": {},
   "outputs": [
    {
     "data": {
      "text/plain": [
       "[0]\n",
       "[0]\n",
       "[0]"
      ]
     },
     "execution_count": 13,
     "metadata": {},
     "output_type": "execute_result"
    }
   ],
   "source": [
    "# the second differential gives the relation between the generators\n",
    "matrix(MG).T * res.differential(2).matrix()\n"
   ]
  },
  {
   "cell_type": "code",
   "execution_count": 14,
   "metadata": {},
   "outputs": [
    {
     "name": "stdout",
     "output_type": "stream",
     "text": [
      "(x + 3*z, 1, (4*x*y, 4*y^2 + 4*y*z, 0)) \n",
      " [(y + 3*z, 2, (x^2 + 2*x*y + x*z, 2*x*y + 3*y^2 + 3*y*z, 0)), (y - z, 3, (3*x^2 - 2*x*y + 3*x*z, 2*x*y - 3*y^2 - 3*y*z, 0))]\n",
      "(0, 0, 0)\n"
     ]
    }
   ],
   "source": [
    "# This is an example of SPOG\n",
    "S = MG[0].parent().base_ring()\n",
    "v = S.gens()\n",
    "\n",
    "LHS,RHS=A.level_coeff()\n",
    "print(LHS,\"\\n\",RHS)\n",
    "print(LHS[0]*LHS[2]-sum(c[0]*c[2] for c in RHS))\n"
   ]
  },
  {
   "cell_type": "markdown",
   "metadata": {
    "tags": []
   },
   "source": [
    "## $Q_IA_I = \\bigcap_{i\\in I} a_i A_i$"
   ]
  },
  {
   "cell_type": "code",
   "execution_count": 15,
   "metadata": {
    "tags": []
   },
   "outputs": [
    {
     "name": "stdout",
     "output_type": "stream",
     "text": [
      "Num of planes: 10, Deg. Seq. [1, 3, 3, 3]\n"
     ]
    },
    {
     "data": {
      "text/plain": [
       "S(0)⊕S(0)⊕S(0)⊕S(0) <-- S(-1)⊕S(-3)⊕S(-3)⊕S(-3) <-- 0"
      ]
     },
     "execution_count": 15,
     "metadata": {},
     "output_type": "execute_result"
    }
   ],
   "source": [
    "mat=[[ 1,  0,  0,  0],\n",
    "[ 0,  1,  0,  0],\n",
    "[ 0,  0,  1,  0],\n",
    "[-1,  1,  0,  0],\n",
    "[-1,  0,  1,  0],\n",
    "[ 0, -1,  1,  0],\n",
    "[ 0,  0,  0,  1],\n",
    "[ 0,  1, -1,  1],\n",
    "[-1,  1, -1,  1],\n",
    "[ 0,  0, -1,  1]]\n",
    "A=HyperPlaneArr(mat)\n",
    "print(f\"Num of planes: {A.num_planes}, Deg. Seq. {A.degs}\")\n",
    "A.free_resolution()\n"
   ]
  },
  {
   "cell_type": "code",
   "execution_count": 16,
   "metadata": {
    "tags": []
   },
   "outputs": [
    {
     "data": {
      "text/plain": [
       "([1, 2, 2, 2], [4, 5, 5, 5])"
      ]
     },
     "execution_count": 16,
     "metadata": {},
     "output_type": "execute_result"
    }
   ],
   "source": [
    "# compute intersection\n",
    "I = [2,4,9]\n",
    "M=[matrix([g * A.linear_forms[i] for g in A.deletion([i]).minimal_generators]) for i in I]\n",
    "Mint = module_intersection(M)\n",
    "#M01a = [g/(A.linear_forms[i]*A.linear_forms[j]) for g in module_intersection(matrix(M0),matrix(M1))]\n",
    "M01=A.deletion(I).minimal_generators\n",
    "degseq(M01),degseq(list(Mint)) # degree shift by |I|"
   ]
  },
  {
   "cell_type": "markdown",
   "metadata": {},
   "source": [
    "## Splitting the rank-one submodule generated by the Euler derivation"
   ]
  },
  {
   "cell_type": "code",
   "execution_count": 17,
   "metadata": {},
   "outputs": [
    {
     "data": {
      "text/plain": [
       "[(x0, x1, x2),\n",
       " (0, 4*x1*x2, -4*x1*x2),\n",
       " (0, x0*x1 + x1^2 + 2*x1*x2, -x0*x2 - 2*x1*x2 - x2^2),\n",
       " (0, -x0*x1 - x1^2 - 6*x1*x2, -3*x0*x2 + 2*x1*x2 - 3*x2^2)]"
      ]
     },
     "execution_count": 17,
     "metadata": {},
     "output_type": "execute_result"
    }
   ],
   "source": [
    "A=HyperPlaneArr([[1,0,0],[0,1,0],[0,0,1],[1,1,1]])\n",
    "# make 0-th coordinate to vanish except for the euler derivation\n",
    "G1 = [A.euler]+[A.euler_complement(g,0) for g in A.minimal_generators[1:]]\n",
    "G1"
   ]
  },
  {
   "cell_type": "markdown",
   "metadata": {},
   "source": [
    "## Ex4.36 of Orlik-Terao\n",
    "free $\\subset$ non-free $\\subset$ free"
   ]
  },
  {
   "cell_type": "code",
   "execution_count": 113,
   "metadata": {},
   "outputs": [
    {
     "data": {
      "text/plain": [
       "[1, 2, 2]"
      ]
     },
     "execution_count": 113,
     "metadata": {},
     "output_type": "execute_result"
    }
   ],
   "source": [
    "#free\n",
    "A=HyperPlaneArr(matrix(QQ,coord_vec(3)+[[1,1,-1],[1,1,0]]))\n",
    "A.degs"
   ]
  },
  {
   "cell_type": "code",
   "execution_count": 20,
   "metadata": {},
   "outputs": [
    {
     "data": {
      "text/plain": [
       "[1, 2, 2, 2]"
      ]
     },
     "execution_count": 20,
     "metadata": {},
     "output_type": "execute_result"
    }
   ],
   "source": [
    "#non-free\n",
    "B = A.deletion([4])\n",
    "B.degs"
   ]
  },
  {
   "cell_type": "code",
   "execution_count": 114,
   "metadata": {},
   "outputs": [
    {
     "data": {
      "text/plain": [
       "[1, 1, 2]"
      ]
     },
     "execution_count": 114,
     "metadata": {},
     "output_type": "execute_result"
    }
   ],
   "source": [
    "#free\n",
    "B = A.deletion([3])\n",
    "B.degs"
   ]
  },
  {
   "cell_type": "code",
   "execution_count": 21,
   "metadata": {},
   "outputs": [
    {
     "data": {
      "text/plain": [
       "[1, 1, 1]"
      ]
     },
     "execution_count": 21,
     "metadata": {},
     "output_type": "execute_result"
    }
   ],
   "source": [
    "#free\n",
    "C = B.deletion([3])\n",
    "C.degs"
   ]
  },
  {
   "cell_type": "markdown",
   "metadata": {},
   "source": [
    "## Restriction"
   ]
  },
  {
   "cell_type": "code",
   "execution_count": 20,
   "metadata": {},
   "outputs": [
    {
     "name": "stdout",
     "output_type": "stream",
     "text": [
      "[1 1 1]\n",
      "[1 0 0]\n",
      "[0 1 0]\n",
      "[0 0 1]\n",
      "[(x0, x1, x2, x3), (0, -x1*x2, x1*x2, 0), (-x0*x1 + x0*x2, x0*x1 + 5*x1*x2, -x0*x2 - 5*x1*x2, 0), (-x0*x1 - 5*x0*x2, x0*x1 + 5*x1*x2, 5*x0*x2 - 5*x1*x2, 0), (x0^2*x2 + x0*x1*x2, x0*x1*x2 + x1^2*x2, 2*x0*x2^2 + 2*x1*x2^2 + x2^3 - x2*x3^2, 0), (x0^2*x1 + x0*x1^2, x0*x1^2 + x1^3 + 3*x1*x2^2 - x1*x3^2, 2*x0*x1*x2 + 2*x1^2*x2 - 2*x1*x2^2, 0), (x0^3 - x0*x1^2 + 2*x0^2*x2 + 2*x0*x1*x2 + 3*x0*x2^2 - x0*x3^2, x0^2*x1 - x1^3 + 2*x0*x1*x2 + 2*x1^2*x2 - 3*x1*x2^2 + x1*x3^2, 2*x0^2*x2 - 2*x1^2*x2 + 2*x0*x2^2 + 6*x1*x2^2 + 2*x2^3 - 2*x2*x3^2, 0)]\n",
      "[(x0, x1, x2), (x0*x1, x1^2 + x1*x2, 0), (x0^2 + 2*x0*x1 + x0*x2, 2*x0*x1 + 3*x1^2 + 3*x1*x2, 0), (3*x0^2 - 2*x0*x1 + 3*x0*x2, 2*x0*x1 - 3*x1^2 - 3*x1*x2, 0)]\n"
     ]
    }
   ],
   "source": [
    "A=HyperPlaneArr(matrix(QQ,[[1,0,0,0],[0,1,0,0],[0,0,1,0],[0,0,0,1],[1,1,1,1],[1,1,1,-1]]))\n",
    "B=A.restriction(4) # restriction on the 4th plane\n",
    "print(B.mat)\n",
    "print(A.minimal_generators)\n",
    "print(B.minimal_generators)"
   ]
  },
  {
   "cell_type": "markdown",
   "metadata": {},
   "source": [
    "## Parametrised family of arrangements"
   ]
  },
  {
   "cell_type": "code",
   "execution_count": 116,
   "metadata": {
    "collapsed": false,
    "jupyter": {
     "outputs_hidden": false
    }
   },
   "outputs": [
    {
     "name": "stdout",
     "output_type": "stream",
     "text": [
      "t=-5 free? False\n",
      "S(0)⊕S(0)⊕S(0) <-- S(-1)⊕S(-3)⊕S(-4)⊕S(-4) <-- S(-5) <-- 0 \n",
      "\n",
      "t=-4 free? False\n",
      "S(0)⊕S(0)⊕S(0) <-- S(-1)⊕S(-3)⊕S(-4)⊕S(-4) <-- S(-5) <-- 0 \n",
      "\n",
      "t=-3 free? False\n",
      "S(0)⊕S(0)⊕S(0) <-- S(-1)⊕S(-3)⊕S(-4)⊕S(-4) <-- S(-5) <-- 0 \n",
      "\n",
      "t=-2 free? True\n",
      "S(0)⊕S(0)⊕S(0) <-- S(-1)⊕S(-3)⊕S(-3) <-- 0 \n",
      "\n",
      "t=-1 free? False\n",
      "S(0)⊕S(0)⊕S(0) <-- S(-1)⊕S(-3)⊕S(-4)⊕S(-4) <-- S(-5) <-- 0 \n",
      "\n",
      "t=0 contains duplicate planes\n",
      "t=1 free? False\n",
      "S(0)⊕S(0)⊕S(0) <-- S(-1)⊕S(-3)⊕S(-4)⊕S(-4) <-- S(-5) <-- 0 \n",
      "\n",
      "t=2 free? False\n",
      "S(0)⊕S(0)⊕S(0) <-- S(-1)⊕S(-3)⊕S(-4)⊕S(-4) <-- S(-5) <-- 0 \n",
      "\n",
      "t=3 contains duplicate planes\n",
      "t=4 free? False\n",
      "S(0)⊕S(0)⊕S(0) <-- S(-1)⊕S(-3)⊕S(-4)⊕S(-4) <-- S(-5) <-- 0 \n",
      "\n"
     ]
    }
   ],
   "source": [
    "#Ex: arr. is free iff b = -t\n",
    "b=2\n",
    "t2=3\n",
    "for t in range(-5,5):\n",
    "    try:\n",
    "        A=HyperPlaneArr(coord_vec(3)+[[1,1,0],[b,0,1],[0,t,1],[0,t2,1]])\n",
    "        res=A.free_resolution()\n",
    "        print(f\"t={t} free? {A.is_free}\")\n",
    "        print(res,\"\\n\")\n",
    "    except:\n",
    "        print(f\"t={t} contains duplicate planes\")\n"
   ]
  },
  {
   "cell_type": "markdown",
   "metadata": {},
   "source": [
    "## Random arrangement\n",
    "with speed comparison"
   ]
  },
  {
   "cell_type": "code",
   "execution_count": 40,
   "metadata": {
    "collapsed": false,
    "jupyter": {
     "outputs_hidden": false
    }
   },
   "outputs": [
    {
     "name": "stdout",
     "output_type": "stream",
     "text": [
      "CPU times: user 66.7 ms, sys: 25 µs, total: 66.8 ms\n",
      "Wall time: 66.6 ms\n"
     ]
    },
    {
     "data": {
      "text/plain": [
       "(\n",
       "[  1 -12   1]                              \n",
       "[  1   2  -1]                              \n",
       "[  2   0 195]                              \n",
       "[ -1   0   1]                              \n",
       "[ 18   3  -1]                              \n",
       "[  2   1  -1]                              \n",
       "[ -4   0   1]                              \n",
       "[  1  -1  -1]                              \n",
       "[  5  -1  -1]                              \n",
       "[ -1   1   0], 10, [1, 7, 7, 7, 7, 8, 8], 8\n",
       ")"
      ]
     },
     "execution_count": 40,
     "metadata": {},
     "output_type": "execute_result"
    }
   ],
   "source": [
    "%%time\n",
    "# Ex. random\n",
    "p,n = 10,3\n",
    "mat = remove_duplicate_planes(random_matrix(ZZ,p,n).change_ring(QQ))\n",
    "A = HyperPlaneArr(mat)\n",
    "A.mat,A.num_planes,A.degs,p-n+1"
   ]
  },
  {
   "cell_type": "code",
   "execution_count": 34,
   "metadata": {
    "collapsed": false,
    "jupyter": {
     "outputs_hidden": false
    }
   },
   "outputs": [
    {
     "name": "stdout",
     "output_type": "stream",
     "text": [
      "CPU times: user 2.73 s, sys: 9.42 ms, total: 2.74 s\n",
      "Wall time: 2.74 s\n"
     ]
    },
    {
     "data": {
      "text/plain": [
       "[1, 6, 6, 8, 8, 8]"
      ]
     },
     "execution_count": 34,
     "metadata": {},
     "output_type": "execute_result"
    }
   ],
   "source": [
    "%%time\n",
    "MG=min_gen_arr(mat,verbose=False)\n",
    "degseq(MG)"
   ]
  },
  {
   "cell_type": "code",
   "execution_count": 35,
   "metadata": {},
   "outputs": [
    {
     "name": "stdout",
     "output_type": "stream",
     "text": [
      "CPU times: user 1.43 s, sys: 0 ns, total: 1.43 s\n",
      "Wall time: 1.43 s\n"
     ]
    },
    {
     "data": {
      "text/plain": [
       "[1, 6, 6, 8, 8, 8]"
      ]
     },
     "execution_count": 35,
     "metadata": {},
     "output_type": "execute_result"
    }
   ],
   "source": [
    "%%time\n",
    "G = sum([gener_sk(mat,k) for k in range(p-n+1)],[]) # module basis\n",
    "MG = minimal_generating_set(G)\n",
    "degseq(MG)"
   ]
  },
  {
   "cell_type": "code",
   "execution_count": 36,
   "metadata": {},
   "outputs": [
    {
     "name": "stdout",
     "output_type": "stream",
     "text": [
      "deg 1, num gens 1\n",
      "deg 2, dim 3, codim 6, num new gen 0\n",
      "deg 3, dim 6, codim 12, num new gen 0\n",
      "deg 4, dim 10, codim 20, num new gen 0\n",
      "deg 5, dim 15, codim 30, num new gen 0\n",
      "deg 6, dim 23, codim 40, num new gen 2\n",
      "deg 7, dim 34, codim 50, num new gen 0\n",
      "deg 8, dim 51, codim 57, num new gen 3\n",
      "CPU times: user 1.49 s, sys: 16 µs, total: 1.49 s\n",
      "Wall time: 1.49 s\n"
     ]
    },
    {
     "data": {
      "text/plain": [
       "[1, 6, 6, 8, 8, 8]"
      ]
     },
     "execution_count": 36,
     "metadata": {},
     "output_type": "execute_result"
    }
   ],
   "source": [
    "%%time\n",
    "MG=min_gen_arr_linear(mat)\n",
    "degseq(MG)"
   ]
  },
  {
   "cell_type": "markdown",
   "metadata": {},
   "source": [
    "## Large |MG| and max(deg(MG))"
   ]
  },
  {
   "cell_type": "code",
   "execution_count": 27,
   "metadata": {},
   "outputs": [
    {
     "name": "stdout",
     "output_type": "stream",
     "text": [
      "searching for A with large |MG| and max(deg)\n"
     ]
    },
    {
     "data": {
      "application/vnd.jupyter.widget-view+json": {
       "model_id": "a1f6453211154a8f9cb08af0d1eae635",
       "version_major": 2,
       "version_minor": 0
      },
      "text/plain": [
       "  0%|          | 0/19 [00:00<?, ?it/s]"
      ]
     },
     "metadata": {},
     "output_type": "display_data"
    },
    {
     "name": "stdout",
     "output_type": "stream",
     "text": [
      "(a,b)=(11,1), p=14, |MG|=12\n",
      "(a,b)=(11,1), p=14, deg=12\n",
      "(a,b)=(11,3), p=14, |MG|=13\n",
      "(a,b)=(11,10), p=14, |MG|=14\n"
     ]
    }
   ],
   "source": [
    "range_a = [11]\n",
    "range_b = list(range(1,20))\n",
    "n=3\n",
    "max_num = 0\n",
    "max_deg = 0\n",
    "print('searching for A with large |MG| and max(deg)')\n",
    "for b in tqdm(range_b):\n",
    "    for a in range_a:\n",
    "        mat=matrix(QQ,coord_vec(n)+[[1,1,1],[2,3,1],[3,4,1],[4,8,1],[5,11,1],[6,15,1],[7,9,1],[8,2,1],[9,5,1],[10,7,1],[a,b,1]])\n",
    "        try:\n",
    "            A=HyperPlaneArr(mat)\n",
    "        except:\n",
    "            continue\n",
    "        MG = A.minimal_generators\n",
    "        if len(MG)>max_num:\n",
    "            max_num=len(MG)\n",
    "            print(f\"(a,b)=({a},{b}), p={A.num_planes}, |MG|={max_num}\")\n",
    "        MG_dic = gendic(MG)\n",
    "        if max(MG_dic.keys())>max_deg:\n",
    "            max_deg = max(MG_dic.keys())\n",
    "            print(f\"(a,b)=({a},{b}), p={A.num_planes}, deg={max_deg}\")\n"
   ]
  },
  {
   "cell_type": "code",
   "execution_count": 28,
   "metadata": {},
   "outputs": [
    {
     "name": "stdout",
     "output_type": "stream",
     "text": [
      "3 [1, 1, 1] 3\n",
      "S(0)⊕S(0)⊕S(0) <-- S(-1)⊕S(-1)⊕S(-1) <-- 0\n",
      "4 [1, 2, 2, 2] 4\n",
      "S(0)⊕S(0)⊕S(0) <-- S(-1)⊕S(-2)⊕S(-2)⊕S(-2) <-- S(-3) <-- 0\n",
      "5 [1, 3, 3, 3, 3] 5\n",
      "S(0)⊕S(0)⊕S(0) <-- S(-1)⊕S(-3)⊕S(-3)⊕S(-3)⊕S(-3) <-- S(-4)⊕S(-4) <-- 0\n",
      "6 [1, 4, 4, 4, 4, 4] 6\n",
      "S(0)⊕S(0)⊕S(0) <-- S(-1)⊕S(-4)⊕S(-4)⊕S(-4)⊕S(-4)⊕S(-4) <-- S(-5)⊕S(-5)⊕S(-5) <-- 0\n",
      "7 [1, 5, 5, 5, 5, 5, 5] 7\n",
      "S(0)⊕S(0)⊕S(0) <-- S(-1)⊕S(-5)⊕S(-5)⊕S(-5)⊕S(-5)⊕S(-5)⊕S(-5) <-- S(-6)⊕S(-6)⊕S(-6)⊕S(-6) <-- 0\n",
      "8 [1, 6, 6, 6, 6, 6, 6, 6] 8\n",
      "S(0)⊕S(0)⊕S(0) <-- S(-1)⊕S(-6)⊕S(-6)⊕S(-6)⊕S(-6)⊕S(-6)⊕S(-6)⊕S(-6) <-- S(-7)⊕S(-7)⊕S(-7)⊕S(-7)⊕S(-7) <-- 0\n",
      "9 [1, 7, 7, 7, 7, 7, 7, 7, 7] 9\n",
      "S(0)⊕S(0)⊕S(0) <-- S(-1)⊕S(-7)⊕S(-7)⊕S(-7)⊕S(-7)⊕S(-7)⊕S(-7)⊕S(-7)⊕S(-7) <-- S(-8)⊕S(-8)⊕S(-8)⊕S(-8)⊕S(-8)⊕S(-8) <-- 0\n",
      "10 [1, 8, 8, 8, 8, 8, 8, 8, 8, 8] 10\n",
      "S(0)⊕S(0)⊕S(0) <-- S(-1)⊕S(-8)⊕S(-8)⊕S(-8)⊕S(-8)⊕S(-8)⊕S(-8)⊕S(-8)⊕S(-8)⊕S(-8) <-- S(-9)⊕S(-9)⊕S(-9)⊕S(-9)⊕S(-9)⊕S(-9)⊕S(-9) <-- 0\n",
      "11 [1, 9, 9, 9, 9, 9, 9, 9, 9, 9, 9] 11\n",
      "S(0)⊕S(0)⊕S(0) <-- S(-1)⊕S(-9)⊕S(-9)⊕S(-9)⊕S(-9)⊕S(-9)⊕S(-9)⊕S(-9)⊕S(-9)⊕S(-9)⊕S(-9) <-- S(-10)⊕S(-10)⊕S(-10)⊕S(-10)⊕S(-10)⊕S(-10)⊕S(-10)⊕S(-10) <-- 0\n",
      "12 [1, 10, 10, 10, 10, 10, 10, 10, 10, 10, 10, 10] 12\n",
      "S(0)⊕S(0)⊕S(0) <-- S(-1)⊕S(-10)⊕S(-10)⊕S(-10)⊕S(-10)⊕S(-10)⊕S(-10)⊕S(-10)⊕S(-10)⊕S(-10)⊕S(-10)⊕S(-10) <-- S(-11)⊕S(-11)⊕S(-11)⊕S(-11)⊕S(-11)⊕S(-11)⊕S(-11)⊕S(-11)⊕S(-11) <-- 0\n",
      "13 [1, 11, 11, 11, 11, 11, 11, 11, 11, 11, 11, 11, 11] 13\n",
      "S(0)⊕S(0)⊕S(0) <-- S(-1)⊕S(-11)⊕S(-11)⊕S(-11)⊕S(-11)⊕S(-11)⊕S(-11)⊕S(-11)⊕S(-11)⊕S(-11)⊕S(-11)⊕S(-11)⊕S(-11) <-- S(-12)⊕S(-12)⊕S(-12)⊕S(-12)⊕S(-12)⊕S(-12)⊕S(-12)⊕S(-12)⊕S(-12)⊕S(-12) <-- 0\n",
      "14 [1, 12, 12, 12, 12, 12, 12, 12, 12, 12, 12, 12, 12, 12] 14\n",
      "S(0)⊕S(0)⊕S(0) <-- S(-1)⊕S(-12)⊕S(-12)⊕S(-12)⊕S(-12)⊕S(-12)⊕S(-12)⊕S(-12)⊕S(-12)⊕S(-12)⊕S(-12)⊕S(-12)⊕S(-12)⊕S(-12) <-- S(-13)⊕S(-13)⊕S(-13)⊕S(-13)⊕S(-13)⊕S(-13)⊕S(-13)⊕S(-13)⊕S(-13)⊕S(-13)⊕S(-13) <-- 0\n"
     ]
    }
   ],
   "source": [
    "# this is a generic arrangement\n",
    "# see https://www.sciencedirect.com/science/article/pii/002186939190052A?ref=pdf_download&fr=RR-2&rr=81815b587c4c17bb\n",
    "n=3\n",
    "mat=matrix(QQ,coord_vec(n)+[[1,1,1],[2,3,1],[3,4,1],[4,8,1],[5,11,1],[6,15,1],[7,9,1],[8,2,1],[9,5,1],[10,7,1],[11,10,1]])\n",
    "for p in range(3,mat.nrows()+1):\n",
    "    A = HyperPlaneArr(mat[:p,:])\n",
    "    print(mat[:p,:].nrows(),degseq(A.minimal_generators),len(A.minimal_generators))\n",
    "    print(A.free_resolution())\n"
   ]
  },
  {
   "cell_type": "markdown",
   "metadata": {},
   "source": [
    "### max(deg) = p-n+1"
   ]
  },
  {
   "cell_type": "code",
   "execution_count": 117,
   "metadata": {},
   "outputs": [
    {
     "name": "stdout",
     "output_type": "stream",
     "text": [
      "8 [1, 1, 1, 1, 1, 1, 1, 1] 1\n",
      "9 [1, 2, 2, 2, 2, 2, 2, 2, 2, 2, 2, 2, 2, 2, 2, 2, 2, 2, 2, 2, 2, 2, 2, 2, 2, 2, 2, 2, 2] 2\n",
      "10 [1, 2, 2, 2, 2, 2, 2, 2, 2, 2, 2, 2, 2, 2, 2, 2, 2, 2, 2, 2, 2, 2, 3, 3, 3, 3, 3, 3, 3] 3\n",
      "11 [1, 2, 2, 2, 2, 2, 2, 2, 2, 2, 2, 2, 2, 2, 2, 2, 2, 2, 2, 2, 2, 2, 4, 4, 4, 4, 4, 4, 4] 4\n",
      "12 [1, 2, 2, 2, 2, 2, 2, 2, 2, 2, 2, 2, 2, 2, 2, 2, 2, 2, 2, 2, 2, 2, 5, 5, 5, 5, 5, 5, 5] 5\n",
      "13 [1, 2, 2, 2, 2, 2, 2, 2, 2, 2, 2, 2, 2, 2, 2, 2, 2, 2, 2, 2, 2, 2, 6, 6, 6, 6, 6, 6, 6] 6\n",
      "14 [1, 2, 2, 2, 2, 2, 2, 2, 2, 2, 2, 2, 2, 2, 2, 2, 2, 2, 2, 2, 2, 2, 7, 7, 7, 7, 7, 7, 7] 7\n",
      "15 [1, 2, 2, 2, 2, 2, 2, 2, 2, 2, 2, 2, 2, 2, 2, 2, 2, 2, 2, 2, 2, 2, 8, 8, 8, 8, 8, 8, 8] 8\n",
      "16 [1, 2, 2, 2, 2, 2, 2, 2, 2, 2, 2, 2, 2, 2, 2, 2, 2, 2, 2, 2, 2, 2, 9, 9, 9, 9, 9, 9, 9] 9\n",
      "17 [1, 2, 2, 2, 2, 2, 2, 2, 2, 2, 2, 2, 2, 2, 2, 2, 2, 2, 2, 2, 2, 2, 10, 10, 10, 10, 10, 10, 10] 10\n"
     ]
    }
   ],
   "source": [
    "n=8 # dimension\n",
    "for p in range(n,n+10):\n",
    "    mat=matrix(QQ,coord_vec(n)+[[2*t+1]+[1]*(n-1) for t in range(p-n)])\n",
    "    try:\n",
    "        A=HyperPlaneArr(mat)\n",
    "    except:\n",
    "        continue\n",
    "    print(A.num_planes,A.degs,A.num_planes-n+1)"
   ]
  },
  {
   "cell_type": "code",
   "execution_count": 245,
   "metadata": {},
   "outputs": [
    {
     "name": "stdout",
     "output_type": "stream",
     "text": [
      "5 [1, 1, 1, 1, 1] 1\n",
      "6 [1, 2, 2, 2, 2, 2, 2, 2, 2, 2, 2] 2\n",
      "7 [1, 2, 2, 2, 2, 2, 2, 3, 3, 3, 3] 3\n",
      "8 [1, 2, 2, 2, 2, 2, 2, 4, 4, 4, 4] 4\n",
      "9 [1, 2, 2, 2, 2, 2, 2, 5, 5, 5, 5] 5\n",
      "10 [1, 2, 2, 2, 2, 2, 2, 6, 6, 6, 6] 6\n",
      "11 [1, 2, 2, 2, 2, 2, 2, 7, 7, 7, 7] 7\n",
      "12 [1, 2, 2, 2, 2, 2, 2, 8, 8, 8, 8] 8\n",
      "13 [1, 2, 2, 2, 2, 2, 2, 9, 9, 9, 9] 9\n",
      "14 [1, 2, 2, 2, 2, 2, 2, 10, 10, 10, 10] 10\n"
     ]
    }
   ],
   "source": [
    "n=5 # dimension\n",
    "for p in range(n,n+10):\n",
    "    mat=matrix(QQ,coord_vec(n)+[[t]+[1]*(n-1) for t in range(1,p-n+1)])\n",
    "    try:\n",
    "        A=HyperPlaneArr(mat)\n",
    "    except:\n",
    "        continue\n",
    "    print(A.num_planes,A.degs,A.num_planes-n+1)"
   ]
  },
  {
   "cell_type": "markdown",
   "metadata": {},
   "source": [
    "## Over finite fields\n",
    "the degree sequence changes depending on the base field: K=QQ or K=GF(2)"
   ]
  },
  {
   "cell_type": "code",
   "execution_count": 32,
   "metadata": {},
   "outputs": [
    {
     "data": {
      "text/plain": [
       "([1, 3, 3], [1, 2, 4])"
      ]
     },
     "execution_count": 32,
     "metadata": {},
     "output_type": "execute_result"
    }
   ],
   "source": [
    "mat=[[1,0,0],[0,1,0],[0,0,1],[1,1,0],[1,1,1],[1,0,-1],[0,1,1]]\n",
    "A=HyperPlaneArr(mat,base_field=QQ)\n",
    "B=HyperPlaneArr(mat,base_field=GF(2))\n",
    "A.degs, B.degs"
   ]
  },
  {
   "cell_type": "markdown",
   "metadata": {},
   "source": [
    "## Term order and degrees of GB"
   ]
  },
  {
   "cell_type": "code",
   "execution_count": 33,
   "metadata": {},
   "outputs": [
    {
     "data": {
      "text/plain": [
       "(Degree reverse lexicographic term order,\n",
       " Ideal (2*x0*x1*x2 + x1^2*x2 + x1*x2^2, x0^2*x2 + 2*x0*x1*x2 + x0*x2^2, x0^2*x1 + x0*x1^2 + 2*x0*x1*x2, x0^2*x1*x2 + x0*x1^2*x2 + x0*x1*x2^2) of Multivariate Polynomial Ring in x0, x1, x2 over Rational Field,\n",
       " [x1^3*x2 - x1*x2^3, x1^2*x2^2 + x1*x2^3, x0^2*x1 + x0*x1^2 - x1^2*x2 - x1*x2^2, x0^2*x2 - x1^2*x2 + x0*x2^2 - x1*x2^2, x0*x1*x2 + 1/2*x1^2*x2 + 1/2*x1*x2^2])"
      ]
     },
     "execution_count": 33,
     "metadata": {},
     "output_type": "execute_result"
    }
   ],
   "source": [
    "A=HyperPlaneArr([[1,0,0],[0,1,0],[0,0,1],[1,1,1]])\n",
    "Q=A.Q\n",
    "R=Q.parent()\n",
    "R.change_ring(order='degrevlex')\n",
    "v=R.gens()\n",
    "I = ideal(*[Q.derivative(v[j]) for j in range(A.n)],Q, order='deglex')\n",
    "R.term_order(),I,I.groebner_basis()"
   ]
  },
  {
   "cell_type": "code",
   "execution_count": 34,
   "metadata": {},
   "outputs": [
    {
     "data": {
      "text/plain": [
       "[                  x0                   x1                   x2                   -4]\n",
       "[                   0               -x1*x2                x1*x2             -x1 + x2]\n",
       "[                   0                x1*x2         x0*x2 + x2^2           -x0 - 3*x2]\n",
       "[                   0 x0*x1 + x1^2 + x1*x2                    0      -x0 - 2*x1 - x2]"
      ]
     },
     "execution_count": 34,
     "metadata": {},
     "output_type": "execute_result"
    }
   ],
   "source": [
    "I.syzygy_module()"
   ]
  },
  {
   "cell_type": "code",
   "execution_count": 35,
   "metadata": {},
   "outputs": [
    {
     "data": {
      "text/plain": [
       "[x1^3*x2, x1^2*x2^2, x0^2*x1, x0^2*x2, x0*x1*x2]"
      ]
     },
     "execution_count": 35,
     "metadata": {},
     "output_type": "execute_result"
    }
   ],
   "source": [
    "[f.lm() for f in I.groebner_basis()]"
   ]
  },
  {
   "cell_type": "markdown",
   "metadata": {},
   "source": [
    "## Visualisation of vector fields"
   ]
  },
  {
   "cell_type": "markdown",
   "metadata": {},
   "source": [
    "### n=2"
   ]
  },
  {
   "cell_type": "code",
   "execution_count": 13,
   "metadata": {},
   "outputs": [
    {
     "name": "stdout",
     "output_type": "stream",
     "text": [
      "(-4) * (-2*x0 + x1) * x0 * (x0 + x1)\n"
     ]
    },
    {
     "data": {
      "image/png": "[encoded data removed]",
      "text/plain": [
       "<Figure size 1000x500 with 2 Axes>"
      ]
     },
     "metadata": {},
     "output_type": "display_data"
    }
   ],
   "source": [
    "A=HyperPlaneArr([[1,0],[0,1],[1,1],[-2,1]])\n",
    "MG = A.minimal_generators\n",
    "# MG is obtained by the splitting: Euler + {vect. field having no y-component}\n",
    "print(factor(MG[1][0])) # this is a polynomial vanishing along all the planes\n",
    "fig,axs = plt.subplots(1,len(MG),figsize=(5*len(MG),5))\n",
    "for i,u in enumerate(MG):\n",
    "    A.plot_vfield(u,nx=10,ny=10,xlim=(-2,2),ylim=(-2,2),ax=axs[i],quiver=True)"
   ]
  },
  {
   "cell_type": "code",
   "execution_count": 38,
   "metadata": {},
   "outputs": [
    {
     "data": {
      "text/plain": [
       "<Axes: title={'center': '$(x_{0})(x_{1})(x_{0} + x_{1})(-2 x_{0} + x_{1})$'}>"
      ]
     },
     "execution_count": 38,
     "metadata": {},
     "output_type": "execute_result"
    },
    {
     "data": {
      "image/png": "[encoded data removed]",
      "text/plain": [
       "<Figure size 640x480 with 1 Axes>"
      ]
     },
     "metadata": {},
     "output_type": "display_data"
    }
   ],
   "source": [
    "# contour of the defining polynomial\n",
    "A.plot_arr(levels=30,xlim=(-1,1),ylim=(-1,1))"
   ]
  },
  {
   "cell_type": "markdown",
   "metadata": {},
   "source": [
    "### n=3"
   ]
  },
  {
   "cell_type": "code",
   "execution_count": 40,
   "metadata": {
    "scrolled": true
   },
   "outputs": [
    {
     "data": {
      "image/png": "[encoded data removed]",
      "text/plain": [
       "<Figure size 1500x500 with 3 Axes>"
      ]
     },
     "metadata": {},
     "output_type": "display_data"
    }
   ],
   "source": [
    "# for n=3, the z-component is made zero by the splitting\n",
    "A=HyperPlaneArr([[1,0,0],[0,1,0],[0,0,1],[1,1,1]])\n",
    "#A=matrix(K,[[1,0],[0,1],[1,1]])\n",
    "MG = A.minimal_generators[1:] # except for euler\n",
    "fig,axs = plt.subplots(1,len(MG),figsize=(5*len(MG),5))\n",
    "for i,u in enumerate(MG):\n",
    "    A.plot_vfield(u,ax=axs[i],xlim=(-2,2),ylim=(-2,2),nx=15,ny=15)\n"
   ]
  },
  {
   "cell_type": "code",
   "execution_count": 41,
   "metadata": {},
   "outputs": [
    {
     "data": {
      "text/plain": [
       "<Axes: title={'center': '$(x_{0})(x_{1})(x_{2})(x_{0} + x_{1} + x_{2})$'}>"
      ]
     },
     "execution_count": 41,
     "metadata": {},
     "output_type": "execute_result"
    },
    {
     "data": {
      "image/png": "[encoded data removed]",
      "text/plain": [
       "<Figure size 640x480 with 1 Axes>"
      ]
     },
     "metadata": {},
     "output_type": "display_data"
    }
   ],
   "source": [
    "A.plot_arr(levels=30,xlim=(-1.5,1.5),ylim=(-1.5,1.5))"
   ]
  },
  {
   "cell_type": "markdown",
   "metadata": {},
   "source": [
    "## Finding a free arrangement containing a given one"
   ]
  },
  {
   "cell_type": "code",
   "execution_count": 25,
   "metadata": {},
   "outputs": [
    {
     "data": {
      "text/plain": [
       "([(x0, x1, x2),\n",
       "  (4*x0*x1, 4*x1^2 + 4*x1*x2, 0),\n",
       "  (x0^2 + 2*x0*x1 + x0*x2, 2*x0*x1 + 3*x1^2 + 3*x1*x2, 0),\n",
       "  (3*x0^2 - 2*x0*x1 + 3*x0*x2, 2*x0*x1 - 3*x1^2 - 3*x1*x2, 0)],\n",
       " [1, 2, 2, 2])"
      ]
     },
     "execution_count": 25,
     "metadata": {},
     "output_type": "execute_result"
    }
   ],
   "source": [
    "# there are many free additions due to symmetry\n",
    "A=HyperPlaneArr([[1,0,0],[0,1,0],[0,0,1],[1,1,1]])\n",
    "A.minimal_generators,A.is_SPOG()\n"
   ]
  },
  {
   "cell_type": "code",
   "execution_count": 26,
   "metadata": {},
   "outputs": [
    {
     "name": "stdout",
     "output_type": "stream",
     "text": [
      "level coeff: x0 + 3*x2\n",
      "level gen: (4*x0*x1, 4*x1^2 + 4*x1*x2, 0)\n"
     ]
    }
   ],
   "source": [
    "# one of them is [1,0,-1]\n",
    "LHS,RHS = A.level_coeff()\n",
    "print(f\"level coeff: {LHS[0]}\")\n",
    "print(f\"level gen: {LHS[2]}\")\n"
   ]
  },
  {
   "cell_type": "code",
   "execution_count": 27,
   "metadata": {},
   "outputs": [
    {
     "data": {
      "text/plain": [
       "([1, 2, 2], [1, 2, 2])"
      ]
     },
     "execution_count": 27,
     "metadata": {},
     "output_type": "execute_result"
    }
   ],
   "source": [
    "# by symmetry, any permutation of [1,0,1] would make free addition\n",
    "B=A.addition(vector([1,0,1]))\n",
    "C=A.addition([1,1,0])\n",
    "degseq(B.minimal_generators),degseq(C.minimal_generators)"
   ]
  },
  {
   "cell_type": "code",
   "execution_count": 28,
   "metadata": {},
   "outputs": [
    {
     "name": "stdout",
     "output_type": "stream",
     "text": [
      "[1, 2, 2, 2]\n",
      "level coeff: x0 + 3*x2\n",
      "level gen: (4*x0*x1, 4*x1^2 + 4*x1*x2, 0)\n"
     ]
    },
    {
     "data": {
      "text/plain": [
       "((4*x0^2*x1 + 12*x0*x1*x2, 4*x0*x1^2 + 4*x0*x1*x2 + 12*x1^2*x2 + 12*x1*x2^2, 0),\n",
       " (4*x0^2*x1 + 12*x0*x1*x2, 4*x0*x1^2 + 4*x0*x1*x2 + 12*x1^2*x2 + 12*x1*x2^2, 0))"
      ]
     },
     "execution_count": 28,
     "metadata": {},
     "output_type": "execute_result"
    }
   ],
   "source": [
    "A=HyperPlaneArr([[1,0,0],[0,1,0],[0,0,1],[1,1,1]])\n",
    "print(A.is_SPOG())\n",
    "LHS,RHS = A.level_coeff()\n",
    "print(f\"level coeff: {LHS[0]}\")\n",
    "print(f\"level gen: {LHS[2]}\")\n",
    "LHS[0]*LHS[2], sum(c[0]*c[2] for c in RHS) # these should be equal"
   ]
  },
  {
   "cell_type": "code",
   "execution_count": 29,
   "metadata": {},
   "outputs": [
    {
     "data": {
      "text/plain": [
       "[(x0 + 3*x2, -x1 - 3*x2, -x1 + x2)]"
      ]
     },
     "execution_count": 29,
     "metadata": {},
     "output_type": "execute_result"
    }
   ],
   "source": [
    "# relations between generators\n",
    "RM=Sequence([module_elem(A.S**A.n,tuple(A.minimal_generators[i])) for i in range(1,len(A.minimal_generators))])\n",
    "G=syz(RM)\n",
    "G"
   ]
  },
  {
   "cell_type": "code",
   "execution_count": 30,
   "metadata": {},
   "outputs": [
    {
     "name": "stdout",
     "output_type": "stream",
     "text": [
      "[1, 4, 5, 5]\n",
      "level coeff: x0 - 7*x1 + 7*x2\n",
      "level gen: (18*x0^4*x1 + 45*x0^3*x1^2 + 54*x0^2*x1^3 + 27*x0*x1^4 - 18*x0^4*x2 - 27*x0^3*x1*x2 - 9*x0^2*x1^2*x2 - 18*x0*x1^3*x2 - 18*x0^3*x2^2 - 117*x0^2*x1*x2^2 - 81*x0*x1^2*x2^2 + 72*x0^2*x2^3 + 72*x0*x2^4, 27*x0^3*x1^2 + 54*x0^2*x1^3 + 45*x0*x1^4 + 18*x1^5 - 27*x0^3*x1*x2 - 45*x0^2*x1^2*x2 - 9*x0^2*x1*x2^2 - 117*x0*x1^2*x2^2 - 90*x1^3*x2^2 + 72*x0*x1*x2^3 + 72*x1*x2^4, 0)\n"
     ]
    }
   ],
   "source": [
    "A=HyperPlaneArr(identity_matrix(QQ,3).stack(matrix([[1 ,1, 0],[0 ,1, -1],[1 ,1, 1],[1 ,1, 2],[1,1,-2],[1,-1,0]])))\n",
    "print(A.is_SPOG())\n",
    "LHS,RHS = A.level_coeff()\n",
    "print(f\"level coeff: {LHS[0]}\")\n",
    "print(f\"level gen: {LHS[2]}\")\n"
   ]
  },
  {
   "cell_type": "code",
   "execution_count": 71,
   "metadata": {},
   "outputs": [
    {
     "data": {
      "text/plain": [
       "[1, 5, 6, 6, 7]"
      ]
     },
     "execution_count": 71,
     "metadata": {},
     "output_type": "execute_result"
    }
   ],
   "source": [
    "# adding the level coeff does not make it free\n",
    "B=A.addition([-1,7,-7])\n",
    "B.degs"
   ]
  },
  {
   "cell_type": "code",
   "execution_count": 72,
   "metadata": {},
   "outputs": [
    {
     "data": {
      "application/vnd.jupyter.widget-view+json": {
       "model_id": "ca1c252def1c4612a5fe98748a9d4a8b",
       "version_major": 2,
       "version_minor": 0
      },
      "text/plain": [
       "  0%|          | 0/20 [00:00<?, ?it/s]"
      ]
     },
     "metadata": {},
     "output_type": "display_data"
    },
    {
     "name": "stdout",
     "output_type": "stream",
     "text": [
      "plane:  (1, 1, -1) degrees:  [1, 4, 5]\n"
     ]
    }
   ],
   "source": [
    "# search free addition: it seems there is a unique plane\n",
    "plane = A.search_free_addition(a_range=range(-10,10),b_range=range(-10,10))"
   ]
  },
  {
   "cell_type": "code",
   "execution_count": 73,
   "metadata": {},
   "outputs": [
    {
     "data": {
      "text/plain": [
       "[1, 3, 6]"
      ]
     },
     "execution_count": 73,
     "metadata": {},
     "output_type": "execute_result"
    }
   ],
   "source": [
    "# arrangement with no free addition\n",
    "A=HyperPlaneArr(coord_vec(3)+[[1 ,1, 0],[1,3,1],[0 ,3, 1],[0 ,2, 1],[0,1,1],[0,1,-1],[0,1,2]])\n",
    "A.degs"
   ]
  },
  {
   "cell_type": "code",
   "execution_count": 74,
   "metadata": {},
   "outputs": [
    {
     "name": "stdout",
     "output_type": "stream",
     "text": [
      "[1, 3, 5, 6]\n",
      "level coeff: -x0\n",
      "level gen: (12*x0*x1^5 - 8*x0^2*x1^3*x2 + 36*x0*x1^4*x2 - 16*x0^2*x1^2*x2^2 + 19*x0*x1^3*x2^2 + 8*x0^2*x1*x2^3 - 22*x0*x1^2*x2^3 + 16*x0^2*x2^4 - 31*x0*x1*x2^4 - 14*x0*x2^5, 12*x1^6 - 10*x0*x1^4*x2 + 34*x1^5*x2 - 25*x0*x1^3*x2^2 + 10*x1^4*x2^2 - 30*x1^3*x2^3 + 25*x0*x1*x2^4 - 22*x1^2*x2^4 + 10*x0*x2^5 - 4*x1*x2^5, 0)\n"
     ]
    },
    {
     "data": {
      "text/plain": [
       "S(0)⊕S(0)⊕S(0) <-- S(-1)⊕S(-3)⊕S(-6)⊕S(-5) <-- S(-7) <-- 0"
      ]
     },
     "execution_count": 74,
     "metadata": {},
     "output_type": "execute_result"
    }
   ],
   "source": [
    "# in this case, the level coeff ([-1,0,0]) is already in the arrangement\n",
    "# this gives a counter-example to \"SPOG => NT-free minus\"\n",
    "B=A.deletion([1,5])\n",
    "print(B.is_SPOG())\n",
    "LHS,RHS = B.level_coeff()\n",
    "print(f\"level coeff: {LHS[0]}\")\n",
    "print(f\"level gen: {LHS[2]}\")\n",
    "B.free_resolution()\n"
   ]
  },
  {
   "cell_type": "code",
   "execution_count": 118,
   "metadata": {},
   "outputs": [
    {
     "name": "stdout",
     "output_type": "stream",
     "text": [
      "[1, 3, 6]\n",
      "[1, 3, 5, 6]\n",
      "[1, 3, 5, 6]\n",
      "level coeff: -x1 - x2\n",
      "level gen: (3888*x0^6 + 23328*x0^5*x1 + 12960*x0^4*x1^2 - 38880*x0^3*x1^3 - 38880*x0^2*x1^4 - 8112*x0*x1^5 + 12312*x0^5*x2 + 9720*x0^4*x1*x2 - 27648*x0^3*x1^2*x2 - 30816*x0^2*x1^3*x2 - 10112*x0*x1^4*x2 + 432*x1^5*x2 + 288*x0^3*x1*x2^2 - 384*x0^2*x1^2*x2^2 - 144*x0*x1^3*x2^2 + 432*x1^4*x2^2 - 1224*x0^3*x2^3 + 888*x0^2*x1*x2^3 + 3288*x0*x1^2*x2^3 + 2208*x0^2*x2^4 + 856*x0*x1*x2^4 + 720*x0*x2^5, 7776*x0^5*x1 + 34344*x0^4*x1^2 + 16200*x0^3*x1^3 - 48600*x0^2*x1^4 - 46008*x0*x1^5 - 9408*x1^6 + 7776*x0^5*x2 + 35640*x0^4*x1*x2 + 19872*x0^3*x1^2*x2 - 46008*x0^2*x1^3*x2 - 48312*x0*x1^4*x2 - 15080*x1^5*x2 + 1296*x0^4*x2^2 + 3672*x0^3*x1*x2^2 + 1368*x0^2*x1^2*x2^2 - 3624*x0*x1^3*x2^2 - 2520*x1^4*x2^2 - 1224*x0^2*x1*x2^3 + 888*x0*x1^2*x2^3 + 3288*x1^3*x2^3 + 2208*x0*x1*x2^4 + 856*x1^2*x2^4 + 720*x1*x2^5, 0)\n"
     ]
    },
    {
     "data": {
      "application/vnd.jupyter.widget-view+json": {
       "model_id": "956d07ecd2034dd78150889edb134a58",
       "version_major": 2,
       "version_minor": 0
      },
      "text/plain": [
       "  0%|          | 0/40 [00:00<?, ?it/s]"
      ]
     },
     "metadata": {},
     "output_type": "display_data"
    },
    {
     "name": "stdout",
     "output_type": "stream",
     "text": [
      "No planes found\n"
     ]
    },
    {
     "data": {
      "image/png": "[encoded data removed]",
      "text/plain": [
       "<Figure size 640x480 with 1 Axes>"
      ]
     },
     "metadata": {},
     "output_type": "display_data"
    }
   ],
   "source": [
    "# from \"Logarithmic derivation module for a free hyperlane arrangement minus two planes\" by J. Chu \n",
    "A=HyperPlaneArr([[-1,1,0],[2,1,0],[0,1,0],[1,0,0],[1 ,1, 0],[1,2,0],[3,1,0],[0,0,1],[0,1,1],[3,1,1]])\n",
    "A.plot_arr(xlim=(-3,3),ylim=(-3,3))\n",
    "print(A.degs)\n",
    "B=A.deletion([2,3])\n",
    "print(B.degs)\n",
    "print(B.is_SPOG())\n",
    "LHS,RHS = B.level_coeff()\n",
    "print(f\"level coeff: {LHS[0]}\")\n",
    "#print(f\"level gen: {LHS[2]}\")\n",
    "plane = B.search_free_addition(a_range=range(-20,20),b_range=range(-20,20))"
   ]
  },
  {
   "cell_type": "code",
   "execution_count": 63,
   "metadata": {},
   "outputs": [
    {
     "name": "stdout",
     "output_type": "stream",
     "text": [
      "False\n"
     ]
    },
    {
     "data": {
      "text/plain": [
       "0"
      ]
     },
     "execution_count": 63,
     "metadata": {},
     "output_type": "execute_result"
    }
   ],
   "source": [
    "# the level element is always S-dependent to other generators minus Euler\n",
    "print(is_S_indep([B.minimal_generators[i] for i in [1,2,3]]))\n",
    "det(saito([B.minimal_generators[i] for i in [1,2,3]]))"
   ]
  },
  {
   "cell_type": "markdown",
   "metadata": {},
   "source": [
    "## Examples in \"Logarithmic derivation module for a free hyperlane arrangement minus two planes\" by J. Chu "
   ]
  },
  {
   "cell_type": "markdown",
   "metadata": {},
   "source": [
    "### dimension 3"
   ]
  },
  {
   "cell_type": "code",
   "execution_count": 363,
   "metadata": {},
   "outputs": [
    {
     "name": "stdout",
     "output_type": "stream",
     "text": [
      "10 [1, 3, 6]\n",
      "B: 0 [1, 3, 6, 6]\n",
      "B: 1 [1, 3, 6, 6]\n",
      "B: 2 [1, 2, 6]\n",
      "B: 3 [1, 3, 5]\n",
      "B: 4 [1, 3, 5]\n",
      "B: 5 [1, 3, 5]\n",
      "B: 6 [1, 3, 5]\n",
      "B: 7 [1, 3, 6, 6]\n",
      "B: 8 [1, 2, 6]\n",
      "B: 9 [1, 2, 6]\n"
     ]
    },
    {
     "data": {
      "image/png": "[encoded data removed]",
      "text/plain": [
       "<Figure size 640x480 with 1 Axes>"
      ]
     },
     "metadata": {},
     "output_type": "display_data"
    }
   ],
   "source": [
    "#A=HyperPlaneArr([[0,0,1],[1,0,0],[0,1,0],[1 ,0, 1],[1 ,1, 0],[1,-1,0],[0 ,1, 1],[-1 ,0, 1],[1 ,1, 1],[1 ,-2, 1],[1,2,1]])\n",
    "#A=HyperPlaneArr([[1,0,0],[0,1,0],[0,0,1],[1 ,1, 0],[0 ,1, 1],[0 ,1, -1],[1 ,0, 1],[1,-1,0],[1 ,1, 1],[1,1,-2],[1 ,1, 2]])\n",
    "A=HyperPlaneArr([[1,0,0],[0,1,0],[0,0,1],[-1 ,1, 0],[1,1,0],[1,2,0],[2,1,0],[3,1,0],[0,1,1],[3,1,1]])\n",
    "A.plot_arr(xlim=(-3,3),ylim=(-3,3))\n",
    "print(A.num_planes,A.degs)\n",
    "SPOGs = []\n",
    "for i in range(A.num_planes):\n",
    "    B=A.deletion([i])\n",
    "    print('B:',i,B.degs)\n",
    "    if B.is_SPOG():\n",
    "        SPOGs.append(i)"
   ]
  },
  {
   "cell_type": "code",
   "execution_count": 189,
   "metadata": {},
   "outputs": [
    {
     "data": {
      "application/vnd.jupyter.widget-view+json": {
       "model_id": "a45d5b2d8ed64aa0b4bf28c98b1c08e0",
       "version_major": 2,
       "version_minor": 0
      },
      "text/plain": [
       "  0%|          | 0/45 [00:00<?, ?it/s]"
      ]
     },
     "metadata": {},
     "output_type": "display_data"
    },
    {
     "name": "stdout",
     "output_type": "stream",
     "text": [
      "SPOG: (0, 1) [1, 3, 5, 6] level coeff: -x1 - x2\n",
      "pd=1 (0, 2) [1, 2, 6, 6]\n",
      "pd=1 (0, 3) [1, 3, 5, 5]\n",
      "pd=1 (0, 4) [1, 3, 5, 5]\n",
      "pd=1 (0, 5) [1, 3, 5, 5]\n",
      "pd=1 (0, 6) [1, 3, 5, 5]\n",
      "SPOG: (0, 7) [1, 3, 5, 6] level coeff: -3*x0 - x1 - x2\n",
      "free:  (0, 8) [1, 2, 5]\n",
      "free:  (0, 9) [1, 2, 5]\n",
      "free:  (1, 2) [1, 2, 5]\n",
      "pd=1 (1, 3) [1, 3, 5, 5]\n",
      "pd=1 (1, 4) [1, 3, 5, 5]\n",
      "pd=1 (1, 5) [1, 3, 5, 5]\n",
      "pd=1 (1, 6) [1, 3, 5, 5]\n",
      "SPOG: (1, 7) [1, 3, 5, 6] level coeff: 216*x2\n",
      "free:  (1, 8) [1, 2, 5]\n",
      "pd=1 (1, 9) [1, 2, 6, 6]\n",
      "free:  (2, 3) [1, 2, 5]\n",
      "free:  (2, 4) [1, 2, 5]\n",
      "free:  (2, 5) [1, 2, 5]\n",
      "free:  (2, 6) [1, 2, 5]\n",
      "free:  (2, 7) [1, 2, 5]\n",
      "free:  (2, 8) [1, 1, 6]\n",
      "free:  (2, 9) [1, 1, 6]\n",
      "free:  (3, 4) [1, 3, 4]\n",
      "free:  (3, 5) [1, 3, 4]\n",
      "free:  (3, 6) [1, 3, 4]\n",
      "pd=1 (3, 7) [1, 3, 5, 5]\n",
      "free:  (3, 8) [1, 2, 5]\n",
      "free:  (3, 9) [1, 2, 5]\n",
      "free:  (4, 5) [1, 3, 4]\n",
      "free:  (4, 6) [1, 3, 4]\n",
      "pd=1 (4, 7) [1, 3, 5, 5]\n",
      "free:  (4, 8) [1, 2, 5]\n",
      "free:  (4, 9) [1, 2, 5]\n",
      "free:  (5, 6) [1, 3, 4]\n",
      "pd=1 (5, 7) [1, 3, 5, 5]\n",
      "free:  (5, 8) [1, 2, 5]\n",
      "free:  (5, 9) [1, 2, 5]\n",
      "pd=1 (6, 7) [1, 3, 5, 5]\n",
      "free:  (6, 8) [1, 2, 5]\n",
      "free:  (6, 9) [1, 2, 5]\n",
      "pd=1 (7, 8) [1, 2, 6, 6]\n",
      "free:  (7, 9) [1, 2, 5]\n",
      "free:  (8, 9) [1, 1, 6]\n"
     ]
    }
   ],
   "source": [
    "LL = list(itertools.combinations(range(A.num_planes),2))\n",
    "results = {}\n",
    "for i,j in tqdm(LL):\n",
    "    B=A.deletion([i,j])\n",
    "    results[(i,j)]=B.degs\n",
    "    if B.is_SPOG() and (i in SPOGs) and (j in SPOGs):\n",
    "        LHS,RHS = B.level_coeff()\n",
    "        print(f\"SPOG:\",(i,j),B.degs, f\"level coeff: {LHS[0]}\")\n",
    "    elif B.is_free:\n",
    "        print('free: ',(i,j),B.degs)\n",
    "    else:\n",
    "        st = f\"pd={len(B.free_resolution())-1}\"\n",
    "        print(st,(i,j),B.degs)\n"
   ]
  },
  {
   "cell_type": "code",
   "execution_count": 203,
   "metadata": {},
   "outputs": [
    {
     "name": "stdout",
     "output_type": "stream",
     "text": [
      "\n",
      "Looking at 0-th plane\n",
      "Res to 0 free?: True, [1, 2]\n",
      "SPOG: (0, 1) [1, 3, 5, 6]\n",
      "SPOG: (0, 2) [1, 2, 6, 6]\n",
      "SPOG: (0, 3) [1, 3, 5, 5]\n",
      "SPOG: (0, 4) [1, 3, 5, 5]\n",
      "SPOG: (0, 5) [1, 3, 5, 5]\n",
      "SPOG: (0, 6) [1, 3, 5, 5]\n",
      "SPOG: (0, 7) [1, 3, 5, 6]\n",
      "free:  (0, 8) [1, 2, 5]\n",
      "free:  (0, 9) [1, 2, 5]\n",
      "\n",
      "Looking at 1-th plane\n",
      "Res to 1 free?: True, [1, 2]\n",
      "free:  (1, 2) [1, 2, 5]\n",
      "SPOG: (1, 3) [1, 3, 5, 5]\n",
      "SPOG: (1, 4) [1, 3, 5, 5]\n",
      "SPOG: (1, 5) [1, 3, 5, 5]\n",
      "SPOG: (1, 6) [1, 3, 5, 5]\n",
      "SPOG: (1, 7) [1, 3, 5, 6]\n",
      "free:  (1, 8) [1, 2, 5]\n",
      "SPOG: (1, 9) [1, 2, 6, 6]\n",
      "\n",
      "Looking at 2-th plane\n",
      "del 2 is free [1, 2, 6]\n",
      "\n",
      "Looking at 3-th plane\n",
      "del 3 is free [1, 3, 5]\n",
      "\n",
      "Looking at 4-th plane\n",
      "del 4 is free [1, 3, 5]\n",
      "\n",
      "Looking at 5-th plane\n",
      "del 5 is free [1, 3, 5]\n",
      "\n",
      "Looking at 6-th plane\n",
      "del 6 is free [1, 3, 5]\n",
      "\n",
      "Looking at 7-th plane\n",
      "Res to 7 free?: True, [1, 2]\n",
      "SPOG: (7, 8) [1, 2, 6, 6]\n",
      "free:  (7, 9) [1, 2, 5]\n",
      "\n",
      "Looking at 8-th plane\n",
      "del 8 is free [1, 2, 6]\n",
      "\n",
      "Looking at 9-th plane\n",
      "del 9 is free [1, 2, 6]\n"
     ]
    }
   ],
   "source": [
    "for i in range(A.num_planes):\n",
    "    print(f\"\\nLooking at {i}-th plane\")\n",
    "    B=A.deletion([i])\n",
    "    if B.is_free:\n",
    "        print(f\"del {i} is free\",B.degs)\n",
    "    else:\n",
    "        C=A.restriction(i)\n",
    "        print(f\"Res to {i} free?: {C.is_free}, {C.degs}\")\n",
    "        for j in range(i+1,A.num_planes):        \n",
    "            B=A.deletion([i,j])\n",
    "            results[(i,j)]=B.degs\n",
    "            if B.is_SPOG():\n",
    "                #LHS,RHS = B.level_coeff()\n",
    "                print('SPOG:',(i,j),B.degs)#, f\"level coeff: {LHS[0]}\")\n",
    "            elif B.is_free:\n",
    "                print('free: ',(i,j),B.degs)\n",
    "            else:\n",
    "                st = f\"pd={len(B.free_resolution())-1}\"\n",
    "                print(st,(i,j),B.degs)\n"
   ]
  },
  {
   "cell_type": "markdown",
   "metadata": {},
   "source": [
    "### dimension 4"
   ]
  },
  {
   "cell_type": "code",
   "execution_count": 3,
   "metadata": {},
   "outputs": [
    {
     "name": "stdout",
     "output_type": "stream",
     "text": [
      "Num of planes: 10, Deg. Seq. [1, 3, 3, 3]\n"
     ]
    },
    {
     "data": {
      "text/plain": [
       "S(0)⊕S(0)⊕S(0)⊕S(0) <-- S(-1)⊕S(-3)⊕S(-3)⊕S(-3) <-- 0"
      ]
     },
     "execution_count": 3,
     "metadata": {},
     "output_type": "execute_result"
    }
   ],
   "source": [
    "mat=[[ 1,  0,  0,  0],\n",
    "[ 0,  1,  0,  0],\n",
    "[ 0,  0,  1,  0],\n",
    "[-1,  1,  0,  0],\n",
    "[-1,  0,  1,  0],\n",
    "[ 0, -1,  1,  0],\n",
    "[ 0,  0,  0,  1],\n",
    "[ 0,  1, -1,  1],\n",
    "[-1,  1, -1,  1],\n",
    "[ 0,  0, -1,  1]]\n",
    "A=HyperPlaneArr(mat)\n",
    "print(f\"Num of planes: {A.num_planes}, Deg. Seq. {A.degs}\")\n",
    "A.free_resolution()\n"
   ]
  },
  {
   "cell_type": "code",
   "execution_count": 4,
   "metadata": {},
   "outputs": [
    {
     "name": "stdout",
     "output_type": "stream",
     "text": [
      "Num of planes: 8, Deg. Seq. [1, 3, 3, 3, 3, 3, 3]\n"
     ]
    },
    {
     "data": {
      "text/plain": [
       "S(0)⊕S(0)⊕S(0)⊕S(0) <-- S(-1)⊕S(-3)⊕S(-3)⊕S(-3)⊕S(-3)⊕S(-3)⊕S(-3) <-- S(-4)⊕S(-4)⊕S(-4)⊕S(-4) <-- S(-5) <-- 0"
      ]
     },
     "execution_count": 4,
     "metadata": {},
     "output_type": "execute_result"
    }
   ],
   "source": [
    "# example for (d_1,...,d_l,c_1,c_2) is a proper subseq. of the degree seq.\n",
    "B=A.deletion([2,9])\n",
    "print(f\"Num of planes: {B.num_planes}, Deg. Seq. {B.degs}\")\n",
    "B.free_resolution()\n"
   ]
  },
  {
   "cell_type": "code",
   "execution_count": 236,
   "metadata": {},
   "outputs": [
    {
     "name": "stdout",
     "output_type": "stream",
     "text": [
      "\n",
      "Looking at 0-th plane\n",
      "del 0 degrees: [1, 3, 3, 3, 3], is SPOG: [1, 3, 3, 3, 3]\n",
      "Res to 0 free?: True, [1, 2, 3], is SPOG: False\n",
      "SPOG: del (0, 1) [1, 2, 3, 3, 3]\n",
      "pd=2  del (0, 2) [1, 3, 3, 3, 3, 3, 3]\n",
      "SPOG: del (0, 3) [1, 2, 3, 3, 3]\n",
      "free: del (0, 4) [1, 2, 2, 3]\n",
      "pd=1  del (0, 5) [1, 3, 3, 3, 3, 3]\n",
      "SPOG: del (0, 6) [1, 2, 3, 3, 3]\n",
      "pd=2  del (0, 7) [1, 3, 3, 3, 3, 3, 3]\n",
      "free: del (0, 8) [1, 2, 2, 3]\n",
      "pd=1  del (0, 9) [1, 3, 3, 3, 3, 3]\n",
      "\n",
      "Looking at 1-th plane\n",
      "del 1 degrees: [1, 3, 3, 3, 3], is SPOG: [1, 3, 3, 3, 3]\n",
      "Res to 1 free?: False, [1, 3, 3, 3], is SPOG: [1, 3, 3, 3]\n",
      "SPOG: del (1, 2) [1, 2, 3, 3, 3]\n",
      "SPOG: del (1, 3) [1, 2, 3, 3, 3]\n",
      "SPOG: del (1, 4) [1, 2, 3, 3, 3]\n",
      "SPOG: del (1, 5) [1, 2, 3, 3, 3]\n",
      "SPOG: del (1, 6) [1, 2, 3, 3, 3]\n",
      "SPOG: del (1, 7) [1, 2, 3, 3, 3]\n",
      "SPOG: del (1, 8) [1, 2, 3, 3, 3]\n",
      "SPOG: del (1, 9) [1, 2, 3, 3, 3]\n",
      "\n",
      "Looking at 2-th plane\n",
      "del 2 degrees: [1, 3, 3, 3, 3], is SPOG: [1, 3, 3, 3, 3]\n",
      "Res to 2 free?: True, [1, 2, 3], is SPOG: False\n",
      "pd=1  del (2, 3) [1, 3, 3, 3, 3, 3]\n",
      "free: del (2, 4) [1, 2, 2, 3]\n",
      "SPOG: del (2, 5) [1, 2, 3, 3, 3]\n",
      "free: del (2, 6) [1, 2, 2, 3]\n",
      "pd=1  del (2, 7) [1, 3, 3, 3, 3, 3]\n",
      "SPOG: del (2, 8) [1, 2, 3, 3, 3]\n",
      "pd=2  del (2, 9) [1, 3, 3, 3, 3, 3, 3]\n",
      "\n",
      "Looking at 3-th plane\n",
      "del 3 degrees: [1, 3, 3, 3, 3], is SPOG: [1, 3, 3, 3, 3]\n",
      "Res to 3 free?: True, [1, 2, 3], is SPOG: False\n",
      "free: del (3, 4) [1, 2, 2, 3]\n",
      "pd=2  del (3, 5) [1, 3, 3, 3, 3, 3, 3]\n",
      "SPOG: del (3, 6) [1, 2, 3, 3, 3]\n",
      "pd=1  del (3, 7) [1, 3, 3, 3, 3, 3]\n",
      "free: del (3, 8) [1, 2, 2, 3]\n",
      "pd=2  del (3, 9) [1, 3, 3, 3, 3, 3, 3]\n",
      "\n",
      "Looking at 4-th plane\n",
      "del 4 degrees: [1, 2, 3, 3], is SPOG: False\n",
      "Res to 4 free?: True, [1, 3, 3], is SPOG: False\n",
      "del 4 is free\n",
      "\n",
      "Looking at 5-th plane\n",
      "del 5 degrees: [1, 3, 3, 3, 3], is SPOG: [1, 3, 3, 3, 3]\n",
      "Res to 5 free?: True, [1, 2, 3], is SPOG: False\n",
      "free: del (5, 6) [1, 2, 2, 3]\n",
      "pd=2  del (5, 7) [1, 3, 3, 3, 3, 3, 3]\n",
      "SPOG: del (5, 8) [1, 2, 3, 3, 3]\n",
      "pd=1  del (5, 9) [1, 3, 3, 3, 3, 3]\n",
      "\n",
      "Looking at 6-th plane\n",
      "del 6 degrees: [1, 2, 3, 3], is SPOG: False\n",
      "Res to 6 free?: True, [1, 3, 3], is SPOG: False\n",
      "del 6 is free\n",
      "\n",
      "Looking at 7-th plane\n",
      "del 7 degrees: [1, 3, 3, 3, 3], is SPOG: [1, 3, 3, 3, 3]\n",
      "Res to 7 free?: True, [1, 2, 3], is SPOG: False\n",
      "free: del (7, 8) [1, 2, 2, 3]\n",
      "SPOG: del (7, 9) [1, 2, 3, 3, 3]\n",
      "\n",
      "Looking at 8-th plane\n",
      "del 8 degrees: [1, 2, 3, 3], is SPOG: False\n",
      "Res to 8 free?: True, [1, 3, 3], is SPOG: False\n",
      "del 8 is free\n",
      "\n",
      "Looking at 9-th plane\n",
      "del 9 degrees: [1, 3, 3, 3, 3], is SPOG: [1, 3, 3, 3, 3]\n",
      "Res to 9 free?: True, [1, 2, 3], is SPOG: False\n"
     ]
    }
   ],
   "source": [
    "# list all minus-two\n",
    "## restriction to both 0 and 2 are free, but minus {0,2} has more generators than dim+2\n",
    "for i in range(A.num_planes):\n",
    "    print(f\"\\nLooking at {i}-th plane\")\n",
    "    B=A.deletion([i])\n",
    "    print(f\"del {i} degrees: {B.degs}, is SPOG: {B.is_SPOG()}\")\n",
    "    C=A.restriction(i)\n",
    "    print(f\"Res to {i} free?: {C.is_free}, {C.degs}, is SPOG: {C.is_SPOG()}\")\n",
    "    if B.is_free:\n",
    "        print(f\"del {i} is free\")\n",
    "    else:\n",
    "        for j in range(i+1,A.num_planes):        \n",
    "            B=A.deletion([i,j])\n",
    "            results[(i,j)]=B.degs\n",
    "            if B.is_SPOG():\n",
    "                #LHS,RHS = B.level_coeff()\n",
    "                print('SPOG: del',(i,j),B.degs)#, f\"level coeff: {LHS[0]}\")\n",
    "            elif B.is_free:\n",
    "                print('free: del',(i,j),B.degs)\n",
    "            else:\n",
    "                st = f\"pd={len(B.free_resolution())-1}\"\n",
    "                print(st,\" del\",(i,j),B.degs)"
   ]
  },
  {
   "cell_type": "code",
   "execution_count": 216,
   "metadata": {},
   "outputs": [
    {
     "name": "stdout",
     "output_type": "stream",
     "text": [
      "A: Num of planes: 10, Deg. Seq. [1, 3, 3, 3]\n",
      "S(0)⊕S(0)⊕S(0)⊕S(0) <-- S(-1)⊕S(-3)⊕S(-3)⊕S(-3) <-- 0 \n",
      "\n",
      "B: Num of planes: 8, Deg. Seq. [1, 3, 3, 3, 3, 3, 3]\n"
     ]
    },
    {
     "data": {
      "text/plain": [
       "S(0)⊕S(0)⊕S(0)⊕S(0) <-- S(-1)⊕S(-3)⊕S(-3)⊕S(-3)⊕S(-3)⊕S(-3)⊕S(-3) <-- S(-4)⊕S(-4)⊕S(-4)⊕S(-4) <-- S(-5) <-- 0"
      ]
     },
     "execution_count": 216,
     "metadata": {},
     "output_type": "execute_result"
    }
   ],
   "source": [
    "#another example for (d_1,...,d_l,c_1,c_2) is a proper subseq. of the degree seq.\n",
    "mat=[[1,0,0,0],[1,1,0,0],[1,0,1,0],[1,0,0,1],[1,-1,0,0],[1,0,-1,0],[1,0,0,-1],[0,1,-1,0],[0,0,1,-1],[0,1,0,1]]\n",
    "A=HyperPlaneArr(mat)\n",
    "print(f\"A: Num of planes: {A.num_planes}, Deg. Seq. {A.degs}\")\n",
    "print(A.free_resolution(),\"\\n\")\n",
    "B=A.deletion([1,2])\n",
    "print(f\"B: Num of planes: {B.num_planes}, Deg. Seq. {B.degs}\")\n",
    "B.free_resolution()\n"
   ]
  },
  {
   "cell_type": "code",
   "execution_count": 175,
   "metadata": {},
   "outputs": [
    {
     "name": "stdout",
     "output_type": "stream",
     "text": [
      "B: Num of planes: 8, Deg. Seq. [1, 3, 3, 3, 3, 3, 3]\n"
     ]
    },
    {
     "data": {
      "text/plain": [
       "S(0)⊕S(0)⊕S(0)⊕S(0) <-- S(-1)⊕S(-3)⊕S(-3)⊕S(-3)⊕S(-3)⊕S(-3)⊕S(-3) <-- S(-4)⊕S(-4)⊕S(-4)⊕S(-4) <-- S(-5) <-- 0"
      ]
     },
     "execution_count": 175,
     "metadata": {},
     "output_type": "execute_result"
    }
   ],
   "source": [
    "B=A.deletion([1,2])\n",
    "print(f\"B: Num of planes: {B.num_planes}, Deg. Seq. {B.degs}\")\n",
    "B.free_resolution()\n"
   ]
  },
  {
   "cell_type": "code",
   "execution_count": 172,
   "metadata": {},
   "outputs": [
    {
     "name": "stdout",
     "output_type": "stream",
     "text": [
      "A: Num of planes: 12, Deg. Seq. [1, 3, 4, 4]\n",
      "S(0)⊕S(0)⊕S(0)⊕S(0) <-- S(-1)⊕S(-3)⊕S(-4)⊕S(-4) <-- 0 \n",
      "\n",
      "B: Num of planes: 10, Deg. Seq. [1, 3, 3, 4, 4]\n",
      "S(0)⊕S(0)⊕S(0)⊕S(0) <-- S(-1)⊕S(-3)⊕S(-4)⊕S(-4)⊕S(-3) <-- S(-5) <-- 0 \n",
      "\n",
      "B1: Num of planes: 10, Deg. Seq. [1, 3, 4, 4, 4, 5]\n",
      "S(0)⊕S(0)⊕S(0)⊕S(0) <-- S(-1)⊕S(-3)⊕S(-4)⊕S(-4)⊕S(-5)⊕S(-4) <-- S(-5)⊕S(-6) <-- 0 \n",
      "\n",
      "B2: Num of planes: 10, Deg. Seq. [1, 3, 4, 4, 4, 4]\n",
      "S(0)⊕S(0)⊕S(0)⊕S(0) <-- S(-1)⊕S(-3)⊕S(-4)⊕S(-4)⊕S(-4)⊕S(-4) <-- S(-5)⊕S(-5) <-- 0\n"
     ]
    }
   ],
   "source": [
    "mat=coord_vec(4)+[[1 ,-1,0, 0],[1,0 ,-1, 0],[1,0,0,-1],[0 ,1, -1,0],[0,1 ,0, -1],[0,0,1,-1],[0,1 ,-1, 1],[1,-1,1,-1]]\n",
    "A=HyperPlaneArr(mat)\n",
    "print(f\"A: Num of planes: {A.num_planes}, Deg. Seq. {A.degs}\")\n",
    "print(A.free_resolution(),\"\\n\")\n",
    "B=A.deletion([0,1])\n",
    "print(f\"B: Num of planes: {B.num_planes}, Deg. Seq. {B.degs}\")\n",
    "print(B.free_resolution(),\"\\n\")\n",
    "B1=A.deletion([0,7])\n",
    "print(f\"B1: Num of planes: {B1.num_planes}, Deg. Seq. {B1.degs}\")\n",
    "print(B1.free_resolution(),\"\\n\")\n",
    "B2=A.deletion([1,9])\n",
    "print(f\"B2: Num of planes: {B2.num_planes}, Deg. Seq. {B2.degs}\")\n",
    "print(B2.free_resolution())\n"
   ]
  },
  {
   "cell_type": "code",
   "execution_count": 28,
   "metadata": {},
   "outputs": [
    {
     "name": "stdout",
     "output_type": "stream",
     "text": [
      "\n",
      "Looking at 0-th plane\n",
      "del 0 degrees:  [1, 3, 3, 3, 3]\n",
      "Res to 0 free?: True, [1, 2, 3], is SPOG: False,\n",
      "SPOG: del (0, 1)\n",
      "\tdegs [1, 2, 3, 3, 3]          localisation [0, 0, 1, 2]             \n",
      "\trestriction A_i^j [1, 3, 3, 3]             A_j^i [1, 2, 3]                \n",
      "\tmulti-restriction A_i^j [3, 3, 3, 3]             A_j^i [3, 3, 3, 3]             \n",
      "pd=2: del (0, 2)\n",
      "\tdegs [1, 3, 3, 3, 3, 3, 3]    localisation [0, 0, 1, 2]             \n",
      "\trestriction A_i^j [1, 2, 3]                A_j^i [1, 2, 3]                \n",
      "\tmulti-restriction A_i^j [2, 3, 3]                A_j^i [2, 3, 3]                \n",
      "SPOG: del (0, 3)\n",
      "\tdegs [1, 2, 3, 3, 3]          localisation [0, 0, 1, 2]             \n",
      "\trestriction A_i^j [1, 2, 3]                A_j^i [1, 2, 3]                \n",
      "\tmulti-restriction A_i^j [3, 3, 3, 3]             A_j^i [3, 3, 3, 3]             \n",
      "free: del (0, 4)\n",
      "\tdegs [1, 2, 2, 3]             localisation [0, 0, 1, 2]             \n",
      "\trestriction A_i^j [1, 3, 3]                A_j^i [1, 2, 3]                \n",
      "\tmulti-restriction A_i^j [2, 3, 3]                A_j^i [2, 3, 3]                \n",
      "pd=1: del (0, 5)\n",
      "\tdegs [1, 3, 3, 3, 3, 3]       localisation [0, 0, 1, 1]             \n",
      "\trestriction A_i^j [1, 2, 2]                A_j^i [1, 2, 2]                \n",
      "\tmulti-restriction A_i^j [3, 3, 3, 3]             A_j^i [3, 3, 3, 3]             \n",
      "SPOG: del (0, 6)\n",
      "\tdegs [1, 2, 3, 3, 3]          localisation [0, 0, 1, 1]             \n",
      "\trestriction A_i^j [1, 3, 3, 3]             A_j^i [1, 2, 2]                \n",
      "\tmulti-restriction A_i^j [3, 3, 3, 3]             A_j^i [2, 3, 3]                \n",
      "pd=2: del (0, 7)\n",
      "\tdegs [1, 3, 3, 3, 3, 3, 3]    localisation [0, 0, 1, 2]             \n",
      "\trestriction A_i^j [1, 2, 3]                A_j^i [1, 2, 3]                \n",
      "\tmulti-restriction A_i^j [2, 3, 3]                A_j^i [2, 3, 3]                \n",
      "free: del (0, 8)\n",
      "\tdegs [1, 2, 2, 3]             localisation [0, 0, 1, 2]             \n",
      "\trestriction A_i^j [1, 3, 3]                A_j^i [1, 2, 3]                \n",
      "\tmulti-restriction A_i^j [2, 3, 3]                A_j^i [2, 3, 3]                \n",
      "pd=1: del (0, 9)\n",
      "\tdegs [1, 3, 3, 3, 3, 3]       localisation [0, 0, 1, 1]             \n",
      "\trestriction A_i^j [1, 2, 2]                A_j^i [1, 2, 2]                \n",
      "\tmulti-restriction A_i^j [3, 3, 3, 3]             A_j^i [3, 3, 3, 3]             \n",
      "\n",
      "Looking at 1-th plane\n",
      "del 1 degrees:  [1, 3, 3, 3, 3]\n",
      "Res to 1 free?: False, [1, 3, 3, 3], is SPOG: [1, 3, 3, 3],\n",
      "SPOG: del (1, 2)\n",
      "\tdegs [1, 2, 3, 3, 3]          localisation [0, 0, 1, 2]             \n",
      "\trestriction A_i^j [1, 2, 3]                A_j^i [1, 3, 3, 3]             \n",
      "\tmulti-restriction A_i^j [3, 3, 3, 3]             A_j^i [3, 3, 3, 3]             \n",
      "SPOG: del (1, 3)\n",
      "\tdegs [1, 2, 3, 3, 3]          localisation [0, 0, 1, 2]             \n",
      "\trestriction A_i^j [1, 2, 3]                A_j^i [1, 3, 3, 3]             \n",
      "\tmulti-restriction A_i^j [3, 3, 3, 3]             A_j^i [3, 3, 3, 3]             \n",
      "SPOG: del (1, 4)\n",
      "\tdegs [1, 2, 3, 3, 3]          localisation [0, 0, 1, 1]             \n",
      "\trestriction A_i^j [1, 2, 3]                A_j^i [1, 2, 2]                \n",
      "\tmulti-restriction A_i^j [3, 3, 3, 3]             A_j^i [2, 3, 3]                \n",
      "SPOG: del (1, 5)\n",
      "\tdegs [1, 2, 3, 3, 3]          localisation [0, 0, 1, 2]             \n",
      "\trestriction A_i^j [1, 2, 3]                A_j^i [1, 3, 3, 3]             \n",
      "\tmulti-restriction A_i^j [3, 3, 3, 3]             A_j^i [3, 3, 3, 3]             \n",
      "SPOG: del (1, 6)\n",
      "\tdegs [1, 2, 3, 3, 3]          localisation [0, 0, 1, 1]             \n",
      "\trestriction A_i^j [1, 2, 3]                A_j^i [1, 2, 2]                \n",
      "\tmulti-restriction A_i^j [3, 3, 3, 3]             A_j^i [2, 3, 3]                \n",
      "SPOG: del (1, 7)\n",
      "\tdegs [1, 2, 3, 3, 3]          localisation [0, 0, 1, 2]             \n",
      "\trestriction A_i^j [1, 2, 3]                A_j^i [1, 3, 3, 3]             \n",
      "\tmulti-restriction A_i^j [3, 3, 3, 3]             A_j^i [3, 3, 3, 3]             \n",
      "SPOG: del (1, 8)\n",
      "\tdegs [1, 2, 3, 3, 3]          localisation [0, 0, 1, 1]             \n",
      "\trestriction A_i^j [1, 2, 3]                A_j^i [1, 2, 2]                \n",
      "\tmulti-restriction A_i^j [3, 3, 3, 3]             A_j^i [2, 3, 3]                \n",
      "SPOG: del (1, 9)\n",
      "\tdegs [1, 2, 3, 3, 3]          localisation [0, 0, 1, 2]             \n",
      "\trestriction A_i^j [1, 2, 3]                A_j^i [1, 3, 3, 3]             \n",
      "\tmulti-restriction A_i^j [3, 3, 3, 3]             A_j^i [3, 3, 3, 3]             \n",
      "\n",
      "Looking at 2-th plane\n",
      "del 2 degrees:  [1, 3, 3, 3, 3]\n",
      "Res to 2 free?: True, [1, 2, 3], is SPOG: False,\n",
      "pd=1: del (2, 3)\n",
      "\tdegs [1, 3, 3, 3, 3, 3]       localisation [0, 0, 1, 1]             \n",
      "\trestriction A_i^j [1, 2, 2]                A_j^i [1, 2, 2]                \n",
      "\tmulti-restriction A_i^j [3, 3, 3, 3]             A_j^i [3, 3, 3, 3]             \n",
      "free: del (2, 4)\n",
      "\tdegs [1, 2, 2, 3]             localisation [0, 0, 1, 2]             \n",
      "\trestriction A_i^j [1, 3, 3]                A_j^i [1, 2, 3]                \n",
      "\tmulti-restriction A_i^j [2, 3, 3]                A_j^i [2, 3, 3]                \n",
      "SPOG: del (2, 5)\n",
      "\tdegs [1, 2, 3, 3, 3]          localisation [0, 0, 1, 2]             \n",
      "\trestriction A_i^j [1, 2, 3]                A_j^i [1, 2, 3]                \n",
      "\tmulti-restriction A_i^j [3, 3, 3, 3]             A_j^i [3, 3, 3, 3]             \n",
      "free: del (2, 6)\n",
      "\tdegs [1, 2, 2, 3]             localisation [0, 0, 1, 2]             \n",
      "\trestriction A_i^j [1, 3, 3]                A_j^i [1, 2, 3]                \n",
      "\tmulti-restriction A_i^j [2, 3, 3]                A_j^i [2, 3, 3]                \n",
      "pd=1: del (2, 7)\n",
      "\tdegs [1, 3, 3, 3, 3, 3]       localisation [0, 0, 1, 1]             \n",
      "\trestriction A_i^j [1, 2, 2]                A_j^i [1, 2, 2]                \n",
      "\tmulti-restriction A_i^j [3, 3, 3, 3]             A_j^i [3, 3, 3, 3]             \n",
      "SPOG: del (2, 8)\n",
      "\tdegs [1, 2, 3, 3, 3]          localisation [0, 0, 1, 1]             \n",
      "\trestriction A_i^j [1, 3, 3, 3]             A_j^i [1, 2, 2]                \n",
      "\tmulti-restriction A_i^j [3, 3, 3, 3]             A_j^i [2, 3, 3]                \n",
      "pd=2: del (2, 9)\n",
      "\tdegs [1, 3, 3, 3, 3, 3, 3]    localisation [0, 0, 1, 2]             \n",
      "\trestriction A_i^j [1, 2, 3]                A_j^i [1, 2, 3]                \n",
      "\tmulti-restriction A_i^j [2, 3, 3]                A_j^i [2, 3, 3]                \n",
      "\n",
      "Looking at 3-th plane\n",
      "del 3 degrees:  [1, 3, 3, 3, 3]\n",
      "Res to 3 free?: True, [1, 2, 3], is SPOG: False,\n",
      "free: del (3, 4)\n",
      "\tdegs [1, 2, 2, 3]             localisation [0, 0, 1, 2]             \n",
      "\trestriction A_i^j [1, 3, 3]                A_j^i [1, 2, 3]                \n",
      "\tmulti-restriction A_i^j [2, 3, 3]                A_j^i [2, 3, 3]                \n",
      "pd=2: del (3, 5)\n",
      "\tdegs [1, 3, 3, 3, 3, 3, 3]    localisation [0, 0, 1, 2]             \n",
      "\trestriction A_i^j [1, 2, 3]                A_j^i [1, 2, 3]                \n",
      "\tmulti-restriction A_i^j [2, 3, 3]                A_j^i [2, 3, 3]                \n",
      "SPOG: del (3, 6)\n",
      "\tdegs [1, 2, 3, 3, 3]          localisation [0, 0, 1, 1]             \n",
      "\trestriction A_i^j [1, 3, 3, 3]             A_j^i [1, 2, 2]                \n",
      "\tmulti-restriction A_i^j [3, 3, 3, 3]             A_j^i [2, 3, 3]                \n",
      "pd=1: del (3, 7)\n",
      "\tdegs [1, 3, 3, 3, 3, 3]       localisation [0, 0, 1, 1]             \n",
      "\trestriction A_i^j [1, 2, 2]                A_j^i [1, 2, 2]                \n",
      "\tmulti-restriction A_i^j [3, 3, 3, 3]             A_j^i [3, 3, 3, 3]             \n",
      "free: del (3, 8)\n",
      "\tdegs [1, 2, 2, 3]             localisation [0, 0, 1, 2]             \n",
      "\trestriction A_i^j [1, 3, 3]                A_j^i [1, 2, 3]                \n",
      "\tmulti-restriction A_i^j [2, 3, 3]                A_j^i [2, 3, 3]                \n",
      "pd=2: del (3, 9)\n",
      "\tdegs [1, 3, 3, 3, 3, 3, 3]    localisation [0, 0, 1, 2]             \n",
      "\trestriction A_i^j [1, 2, 3]                A_j^i [1, 2, 3]                \n",
      "\tmulti-restriction A_i^j [2, 3, 3]                A_j^i [2, 3, 3]                \n",
      "\n",
      "Looking at 4-th plane\n",
      "del 4 degrees:  [1, 2, 3, 3]\n",
      "Res to 4 free?: True, [1, 3, 3], is SPOG: False,\n",
      "del 4 is free\n",
      "\n",
      "Looking at 5-th plane\n",
      "del 5 degrees:  [1, 3, 3, 3, 3]\n",
      "Res to 5 free?: True, [1, 2, 3], is SPOG: False,\n",
      "free: del (5, 6)\n",
      "\tdegs [1, 2, 2, 3]             localisation [0, 0, 1, 2]             \n",
      "\trestriction A_i^j [1, 3, 3]                A_j^i [1, 2, 3]                \n",
      "\tmulti-restriction A_i^j [2, 3, 3]                A_j^i [2, 3, 3]                \n",
      "pd=2: del (5, 7)\n",
      "\tdegs [1, 3, 3, 3, 3, 3, 3]    localisation [0, 0, 1, 2]             \n",
      "\trestriction A_i^j [1, 2, 3]                A_j^i [1, 2, 3]                \n",
      "\tmulti-restriction A_i^j [2, 3, 3]                A_j^i [2, 3, 3]                \n",
      "SPOG: del (5, 8)\n",
      "\tdegs [1, 2, 3, 3, 3]          localisation [0, 0, 1, 1]             \n",
      "\trestriction A_i^j [1, 3, 3, 3]             A_j^i [1, 2, 2]                \n",
      "\tmulti-restriction A_i^j [3, 3, 3, 3]             A_j^i [2, 3, 3]                \n",
      "pd=1: del (5, 9)\n",
      "\tdegs [1, 3, 3, 3, 3, 3]       localisation [0, 0, 1, 1]             \n",
      "\trestriction A_i^j [1, 2, 2]                A_j^i [1, 2, 2]                \n",
      "\tmulti-restriction A_i^j [3, 3, 3, 3]             A_j^i [3, 3, 3, 3]             \n",
      "\n",
      "Looking at 6-th plane\n",
      "del 6 degrees:  [1, 2, 3, 3]\n",
      "Res to 6 free?: True, [1, 3, 3], is SPOG: False,\n",
      "del 6 is free\n",
      "\n",
      "Looking at 7-th plane\n",
      "del 7 degrees:  [1, 3, 3, 3, 3]\n",
      "Res to 7 free?: True, [1, 2, 3], is SPOG: False,\n",
      "free: del (7, 8)\n",
      "\tdegs [1, 2, 2, 3]             localisation [0, 0, 1, 2]             \n",
      "\trestriction A_i^j [1, 3, 3]                A_j^i [1, 2, 3]                \n",
      "\tmulti-restriction A_i^j [2, 3, 3]                A_j^i [2, 3, 3]                \n",
      "SPOG: del (7, 9)\n",
      "\tdegs [1, 2, 3, 3, 3]          localisation [0, 0, 1, 2]             \n",
      "\trestriction A_i^j [1, 2, 3]                A_j^i [1, 2, 3]                \n",
      "\tmulti-restriction A_i^j [3, 3, 3, 3]             A_j^i [3, 3, 3, 3]             \n",
      "\n",
      "Looking at 8-th plane\n",
      "del 8 degrees:  [1, 2, 3, 3]\n",
      "Res to 8 free?: True, [1, 3, 3], is SPOG: False,\n",
      "del 8 is free\n",
      "\n",
      "Looking at 9-th plane\n",
      "del 9 degrees:  [1, 3, 3, 3, 3]\n",
      "Res to 9 free?: True, [1, 2, 3], is SPOG: False,\n"
     ]
    }
   ],
   "source": [
    "# list all minus-two\n",
    "## note: when multi-restriction is non-free, pd<2.\n",
    "results = {}\n",
    "for i in range(A.num_planes):\n",
    "    print(f\"\\nLooking at {i}-th plane\")\n",
    "    B=A.deletion([i])\n",
    "    print(f\"del {i} degrees: \",B.degs)\n",
    "    C=A.restriction(i)\n",
    "    print(f\"Res to {i} free?: {C.is_free}, {C.degs}, is SPOG: {C.is_SPOG()},\")\n",
    "    if B.is_free:\n",
    "        print(f\"del {i} is free\")\n",
    "    else:\n",
    "        for j in range(i+1,A.num_planes):        \n",
    "            B=A.deletion([i,j])\n",
    "            results[(i,j)]=B.degs\n",
    "            prt = \"\"\n",
    "            if B.is_SPOG():\n",
    "                #LHS,RHS = B.level_coeff()\n",
    "                prt += f'SPOG: del {(i,j)}\\n\\tdegs {str(B.degs):<25}' #, f\"level coeff: {LHS[0]}\")\n",
    "            elif B.is_free:\n",
    "                prt += f'free: del {(i,j)}\\n\\tdegs {str(B.degs):<25}'\n",
    "            else:\n",
    "                prt += f'pd={len(B.free_resolution())-1}: del {(i,j)}\\n\\tdegs {str(B.degs):<25}'\n",
    "            \n",
    "            prt += f'localisation {str(A.localisation([i,j]).degs):<25}\\n'\n",
    "            Aij = A.deletion([i]).restriction(j-1)\n",
    "            Aji = A.deletion([j]).restriction(i)\n",
    "            prt += f'\\trestriction A_i^j {str(Aij.degs):<25}'\n",
    "            prt += f'A_j^i {str(Aji.degs):<25}\\n'\n",
    "            prt += f'\\tmulti-restriction A_i^j {str(degseq(Aij.compute_multi_minimal_generators())):<25}'\n",
    "            prt += f'A_j^i {str(degseq(Aji.compute_multi_minimal_generators())):<25}'\n",
    "            print(prt)"
   ]
  },
  {
   "cell_type": "code",
   "execution_count": 8,
   "metadata": {},
   "outputs": [
    {
     "name": "stdout",
     "output_type": "stream",
     "text": [
      "\n",
      "Looking at 0-th plane\n",
      "del 0 degrees:  [1, 3, 3, 3, 3]\n",
      "Res to 0 free?: False, [1, 3, 3, 3], is SPOG: [1, 3, 3, 3],\n",
      "SPOG: del (0, 1)\n",
      "\tdegs [1, 2, 3, 3, 3]          localisation [0, 0, 1, 2]             \n",
      "\trestriction A_i^j [1, 2, 3]                A_j^i [1, 3, 3, 3]             \n",
      "\tmulti-restriction A_i^j [3, 3, 3, 3]             A_j^i [3, 3, 3, 3]             \n",
      "SPOG: del (0, 2)\n",
      "\tdegs [1, 2, 3, 3, 3]          localisation [0, 0, 1, 2]             \n",
      "\trestriction A_i^j [1, 2, 3]                A_j^i [1, 3, 3, 3]             \n",
      "\tmulti-restriction A_i^j [3, 3, 3, 3]             A_j^i [3, 3, 3, 3]             \n",
      "SPOG: del (0, 3)\n",
      "\tdegs [1, 2, 3, 3, 3]          localisation [0, 0, 1, 2]             \n",
      "\trestriction A_i^j [1, 2, 3]                A_j^i [1, 3, 3, 3]             \n",
      "\tmulti-restriction A_i^j [3, 3, 3, 3]             A_j^i [3, 3, 3, 3]             \n",
      "SPOG: del (0, 4)\n",
      "\tdegs [1, 2, 3, 3, 3]          localisation [0, 0, 1, 2]             \n",
      "\trestriction A_i^j [1, 2, 3]                A_j^i [1, 3, 3, 3]             \n",
      "\tmulti-restriction A_i^j [3, 3, 3, 3]             A_j^i [3, 3, 3, 3]             \n",
      "SPOG: del (0, 5)\n",
      "\tdegs [1, 2, 3, 3, 3]          localisation [0, 0, 1, 2]             \n",
      "\trestriction A_i^j [1, 2, 3]                A_j^i [1, 3, 3, 3]             \n",
      "\tmulti-restriction A_i^j [3, 3, 3, 3]             A_j^i [3, 3, 3, 3]             \n",
      "SPOG: del (0, 6)\n",
      "\tdegs [1, 2, 3, 3, 3]          localisation [0, 0, 1, 2]             \n",
      "\trestriction A_i^j [1, 2, 3]                A_j^i [1, 3, 3, 3]             \n",
      "\tmulti-restriction A_i^j [3, 3, 3, 3]             A_j^i [3, 3, 3, 3]             \n",
      "SPOG: del (0, 7)\n",
      "\tdegs [1, 2, 3, 3, 3]          localisation [0, 0, 1, 1]             \n",
      "\trestriction A_i^j [1, 2, 3]                A_j^i [1, 2, 2]                \n",
      "\tmulti-restriction A_i^j [3, 3, 3, 3]             A_j^i [2, 3, 3]                \n",
      "SPOG: del (0, 8)\n",
      "\tdegs [1, 2, 3, 3, 3]          localisation [0, 0, 1, 1]             \n",
      "\trestriction A_i^j [1, 2, 3]                A_j^i [1, 2, 2]                \n",
      "\tmulti-restriction A_i^j [3, 3, 3, 3]             A_j^i [2, 3, 3]                \n",
      "SPOG: del (0, 9)\n",
      "\tdegs [1, 2, 3, 3, 3]          localisation [0, 0, 1, 1]             \n",
      "\trestriction A_i^j [1, 2, 3]                A_j^i [1, 2, 2]                \n",
      "\tmulti-restriction A_i^j [3, 3, 3, 3]             A_j^i [2, 3, 3]                \n",
      "\n",
      "Looking at 1-th plane\n",
      "del 1 degrees:  [1, 3, 3, 3, 3]\n",
      "Res to 1 free?: True, [1, 2, 3], is SPOG: False,\n",
      "pd=2: del (1, 2)\n",
      "\tdegs [1, 3, 3, 3, 3, 3, 3]    localisation [0, 0, 1, 2]             \n",
      "\trestriction A_i^j [1, 2, 3]                A_j^i [1, 2, 3]                \n",
      "\tmulti-restriction A_i^j [2, 3, 3]                A_j^i [2, 3, 3]                \n",
      "pd=1: del (1, 3)\n",
      "\tdegs [1, 3, 3, 3, 3, 3]       localisation [0, 0, 1, 1]             \n",
      "\trestriction A_i^j [1, 2, 2]                A_j^i [1, 2, 2]                \n",
      "\tmulti-restriction A_i^j [3, 3, 3, 3]             A_j^i [3, 3, 3, 3]             \n",
      "SPOG: del (1, 4)\n",
      "\tdegs [1, 2, 3, 3, 3]          localisation [0, 0, 1, 2]             \n",
      "\trestriction A_i^j [1, 2, 3]                A_j^i [1, 2, 3]                \n",
      "\tmulti-restriction A_i^j [3, 3, 3, 3]             A_j^i [3, 3, 3, 3]             \n",
      "pd=1: del (1, 5)\n",
      "\tdegs [1, 3, 3, 3, 3, 3]       localisation [0, 0, 1, 1]             \n",
      "\trestriction A_i^j [1, 2, 2]                A_j^i [1, 2, 2]                \n",
      "\tmulti-restriction A_i^j [3, 3, 3, 3]             A_j^i [3, 3, 3, 3]             \n",
      "pd=2: del (1, 6)\n",
      "\tdegs [1, 3, 3, 3, 3, 3, 3]    localisation [0, 0, 1, 2]             \n",
      "\trestriction A_i^j [1, 2, 3]                A_j^i [1, 2, 3]                \n",
      "\tmulti-restriction A_i^j [2, 3, 3]                A_j^i [2, 3, 3]                \n",
      "free: del (1, 7)\n",
      "\tdegs [1, 2, 2, 3]             localisation [0, 0, 1, 2]             \n",
      "\trestriction A_i^j [1, 3, 3]                A_j^i [1, 2, 3]                \n",
      "\tmulti-restriction A_i^j [2, 3, 3]                A_j^i [2, 3, 3]                \n",
      "SPOG: del (1, 8)\n",
      "\tdegs [1, 2, 3, 3, 3]          localisation [0, 0, 1, 1]             \n",
      "\trestriction A_i^j [1, 3, 3, 3]             A_j^i [1, 2, 2]                \n",
      "\tmulti-restriction A_i^j [3, 3, 3, 3]             A_j^i [2, 3, 3]                \n",
      "free: del (1, 9)\n",
      "\tdegs [1, 2, 2, 3]             localisation [0, 0, 1, 2]             \n",
      "\trestriction A_i^j [1, 3, 3]                A_j^i [1, 2, 3]                \n",
      "\tmulti-restriction A_i^j [2, 3, 3]                A_j^i [2, 3, 3]                \n",
      "\n",
      "Looking at 2-th plane\n",
      "del 2 degrees:  [1, 3, 3, 3, 3]\n",
      "Res to 2 free?: True, [1, 2, 3], is SPOG: False,\n",
      "pd=2: del (2, 3)\n",
      "\tdegs [1, 3, 3, 3, 3, 3, 3]    localisation [0, 0, 1, 2]             \n",
      "\trestriction A_i^j [1, 2, 3]                A_j^i [1, 2, 3]                \n",
      "\tmulti-restriction A_i^j [2, 3, 3]                A_j^i [2, 3, 3]                \n",
      "pd=1: del (2, 4)\n",
      "\tdegs [1, 3, 3, 3, 3, 3]       localisation [0, 0, 1, 1]             \n",
      "\trestriction A_i^j [1, 2, 2]                A_j^i [1, 2, 2]                \n",
      "\tmulti-restriction A_i^j [3, 3, 3, 3]             A_j^i [3, 3, 3, 3]             \n",
      "SPOG: del (2, 5)\n",
      "\tdegs [1, 2, 3, 3, 3]          localisation [0, 0, 1, 2]             \n",
      "\trestriction A_i^j [1, 2, 3]                A_j^i [1, 2, 3]                \n",
      "\tmulti-restriction A_i^j [3, 3, 3, 3]             A_j^i [3, 3, 3, 3]             \n",
      "pd=1: del (2, 6)\n",
      "\tdegs [1, 3, 3, 3, 3, 3]       localisation [0, 0, 1, 1]             \n",
      "\trestriction A_i^j [1, 2, 2]                A_j^i [1, 2, 2]                \n",
      "\tmulti-restriction A_i^j [3, 3, 3, 3]             A_j^i [3, 3, 3, 3]             \n",
      "free: del (2, 7)\n",
      "\tdegs [1, 2, 2, 3]             localisation [0, 0, 1, 2]             \n",
      "\trestriction A_i^j [1, 3, 3]                A_j^i [1, 2, 3]                \n",
      "\tmulti-restriction A_i^j [2, 3, 3]                A_j^i [2, 3, 3]                \n",
      "free: del (2, 8)\n",
      "\tdegs [1, 2, 2, 3]             localisation [0, 0, 1, 2]             \n",
      "\trestriction A_i^j [1, 3, 3]                A_j^i [1, 2, 3]                \n",
      "\tmulti-restriction A_i^j [2, 3, 3]                A_j^i [2, 3, 3]                \n",
      "SPOG: del (2, 9)\n",
      "\tdegs [1, 2, 3, 3, 3]          localisation [0, 0, 1, 1]             \n",
      "\trestriction A_i^j [1, 3, 3, 3]             A_j^i [1, 2, 2]                \n",
      "\tmulti-restriction A_i^j [3, 3, 3, 3]             A_j^i [2, 3, 3]                \n",
      "\n",
      "Looking at 3-th plane\n",
      "del 3 degrees:  [1, 3, 3, 3, 3]\n",
      "Res to 3 free?: True, [1, 2, 3], is SPOG: False,\n",
      "pd=2: del (3, 4)\n",
      "\tdegs [1, 3, 3, 3, 3, 3, 3]    localisation [0, 0, 1, 2]             \n",
      "\trestriction A_i^j [1, 2, 3]                A_j^i [1, 2, 3]                \n",
      "\tmulti-restriction A_i^j [2, 3, 3]                A_j^i [2, 3, 3]                \n",
      "pd=1: del (3, 5)\n",
      "\tdegs [1, 3, 3, 3, 3, 3]       localisation [0, 0, 1, 1]             \n",
      "\trestriction A_i^j [1, 2, 2]                A_j^i [1, 2, 2]                \n",
      "\tmulti-restriction A_i^j [3, 3, 3, 3]             A_j^i [3, 3, 3, 3]             \n",
      "SPOG: del (3, 6)\n",
      "\tdegs [1, 2, 3, 3, 3]          localisation [0, 0, 1, 2]             \n",
      "\trestriction A_i^j [1, 2, 3]                A_j^i [1, 2, 3]                \n",
      "\tmulti-restriction A_i^j [3, 3, 3, 3]             A_j^i [3, 3, 3, 3]             \n",
      "SPOG: del (3, 7)\n",
      "\tdegs [1, 2, 3, 3, 3]          localisation [0, 0, 1, 1]             \n",
      "\trestriction A_i^j [1, 3, 3, 3]             A_j^i [1, 2, 2]                \n",
      "\tmulti-restriction A_i^j [3, 3, 3, 3]             A_j^i [2, 3, 3]                \n",
      "free: del (3, 8)\n",
      "\tdegs [1, 2, 2, 3]             localisation [0, 0, 1, 2]             \n",
      "\trestriction A_i^j [1, 3, 3]                A_j^i [1, 2, 3]                \n",
      "\tmulti-restriction A_i^j [2, 3, 3]                A_j^i [2, 3, 3]                \n",
      "free: del (3, 9)\n",
      "\tdegs [1, 2, 2, 3]             localisation [0, 0, 1, 2]             \n",
      "\trestriction A_i^j [1, 3, 3]                A_j^i [1, 2, 3]                \n",
      "\tmulti-restriction A_i^j [2, 3, 3]                A_j^i [2, 3, 3]                \n",
      "\n",
      "Looking at 4-th plane\n",
      "del 4 degrees:  [1, 3, 3, 3, 3]\n",
      "Res to 4 free?: True, [1, 2, 3], is SPOG: False,\n",
      "pd=2: del (4, 5)\n",
      "\tdegs [1, 3, 3, 3, 3, 3, 3]    localisation [0, 0, 1, 2]             \n",
      "\trestriction A_i^j [1, 2, 3]                A_j^i [1, 2, 3]                \n",
      "\tmulti-restriction A_i^j [2, 3, 3]                A_j^i [2, 3, 3]                \n",
      "pd=1: del (4, 6)\n",
      "\tdegs [1, 3, 3, 3, 3, 3]       localisation [0, 0, 1, 1]             \n",
      "\trestriction A_i^j [1, 2, 2]                A_j^i [1, 2, 2]                \n",
      "\tmulti-restriction A_i^j [3, 3, 3, 3]             A_j^i [3, 3, 3, 3]             \n",
      "free: del (4, 7)\n",
      "\tdegs [1, 2, 2, 3]             localisation [0, 0, 1, 2]             \n",
      "\trestriction A_i^j [1, 3, 3]                A_j^i [1, 2, 3]                \n",
      "\tmulti-restriction A_i^j [2, 3, 3]                A_j^i [2, 3, 3]                \n",
      "SPOG: del (4, 8)\n",
      "\tdegs [1, 2, 3, 3, 3]          localisation [0, 0, 1, 1]             \n",
      "\trestriction A_i^j [1, 3, 3, 3]             A_j^i [1, 2, 2]                \n",
      "\tmulti-restriction A_i^j [3, 3, 3, 3]             A_j^i [2, 3, 3]                \n",
      "free: del (4, 9)\n",
      "\tdegs [1, 2, 2, 3]             localisation [0, 0, 1, 2]             \n",
      "\trestriction A_i^j [1, 3, 3]                A_j^i [1, 2, 3]                \n",
      "\tmulti-restriction A_i^j [2, 3, 3]                A_j^i [2, 3, 3]                \n",
      "\n",
      "Looking at 5-th plane\n",
      "del 5 degrees:  [1, 3, 3, 3, 3]\n",
      "Res to 5 free?: True, [1, 2, 3], is SPOG: False,\n",
      "pd=2: del (5, 6)\n",
      "\tdegs [1, 3, 3, 3, 3, 3, 3]    localisation [0, 0, 1, 2]             \n",
      "\trestriction A_i^j [1, 2, 3]                A_j^i [1, 2, 3]                \n",
      "\tmulti-restriction A_i^j [2, 3, 3]                A_j^i [2, 3, 3]                \n",
      "free: del (5, 7)\n",
      "\tdegs [1, 2, 2, 3]             localisation [0, 0, 1, 2]             \n",
      "\trestriction A_i^j [1, 3, 3]                A_j^i [1, 2, 3]                \n",
      "\tmulti-restriction A_i^j [2, 3, 3]                A_j^i [2, 3, 3]                \n",
      "free: del (5, 8)\n",
      "\tdegs [1, 2, 2, 3]             localisation [0, 0, 1, 2]             \n",
      "\trestriction A_i^j [1, 3, 3]                A_j^i [1, 2, 3]                \n",
      "\tmulti-restriction A_i^j [2, 3, 3]                A_j^i [2, 3, 3]                \n",
      "SPOG: del (5, 9)\n",
      "\tdegs [1, 2, 3, 3, 3]          localisation [0, 0, 1, 1]             \n",
      "\trestriction A_i^j [1, 3, 3, 3]             A_j^i [1, 2, 2]                \n",
      "\tmulti-restriction A_i^j [3, 3, 3, 3]             A_j^i [2, 3, 3]                \n",
      "\n",
      "Looking at 6-th plane\n",
      "del 6 degrees:  [1, 3, 3, 3, 3]\n",
      "Res to 6 free?: True, [1, 2, 3], is SPOG: False,\n",
      "SPOG: del (6, 7)\n",
      "\tdegs [1, 2, 3, 3, 3]          localisation [0, 0, 1, 1]             \n",
      "\trestriction A_i^j [1, 3, 3, 3]             A_j^i [1, 2, 2]                \n",
      "\tmulti-restriction A_i^j [3, 3, 3, 3]             A_j^i [2, 3, 3]                \n",
      "free: del (6, 8)\n",
      "\tdegs [1, 2, 2, 3]             localisation [0, 0, 1, 2]             \n",
      "\trestriction A_i^j [1, 3, 3]                A_j^i [1, 2, 3]                \n",
      "\tmulti-restriction A_i^j [2, 3, 3]                A_j^i [2, 3, 3]                \n",
      "free: del (6, 9)\n",
      "\tdegs [1, 2, 2, 3]             localisation [0, 0, 1, 2]             \n",
      "\trestriction A_i^j [1, 3, 3]                A_j^i [1, 2, 3]                \n",
      "\tmulti-restriction A_i^j [2, 3, 3]                A_j^i [2, 3, 3]                \n",
      "\n",
      "Looking at 7-th plane\n",
      "del 7 degrees:  [1, 2, 3, 3]\n",
      "Res to 7 free?: True, [1, 3, 3], is SPOG: False,\n",
      "del 7 is free\n",
      "\n",
      "Looking at 8-th plane\n",
      "del 8 degrees:  [1, 2, 3, 3]\n",
      "Res to 8 free?: True, [1, 3, 3], is SPOG: False,\n",
      "del 8 is free\n",
      "\n",
      "Looking at 9-th plane\n",
      "del 9 degrees:  [1, 2, 3, 3]\n",
      "Res to 9 free?: True, [1, 3, 3], is SPOG: False,\n",
      "del 9 is free\n"
     ]
    }
   ],
   "source": [
    "# list all minus-two\n",
    "## note: when multi-restriction is non-free, pd<2.\n",
    "#mat=coord_vec(4)+[[1 ,-1,0, 0],[1,0 ,-1, 0],[1,0,0,-1],[0 ,1, -1,0],[0,1 ,0, -1],[0,0,1,-1],[0,1 ,-1, 1],[1,-1,1,-1]]\n",
    "mat=[[1,0,0,0],[1,1,0,0],[1,0,1,0],[1,0,0,1],[1,-1,0,0],[1,0,-1,0],[1,0,0,-1],[0,1,-1,0],[0,0,1,-1],[0,1,0,1]]\n",
    "\n",
    "A=HyperPlaneArr(mat)\n",
    "results = {}\n",
    "for i in range(A.num_planes):\n",
    "    print(f\"\\nLooking at {i}-th plane\")\n",
    "    B=A.deletion([i])\n",
    "    print(f\"del {i} degrees: \",B.degs)\n",
    "    C=A.restriction(i)\n",
    "    print(f\"Res to {i} free?: {C.is_free}, {C.degs}, is SPOG: {C.is_SPOG()},\")\n",
    "    if B.is_free:\n",
    "        print(f\"del {i} is free\")\n",
    "    else:\n",
    "        for j in range(i+1,A.num_planes):        \n",
    "            B=A.deletion([i,j])\n",
    "            results[(i,j)]=B.degs\n",
    "            prt = \"\"\n",
    "            if B.is_SPOG():\n",
    "                #LHS,RHS = B.level_coeff()\n",
    "                prt += f'SPOG: del {(i,j)}\\n\\tdegs {str(B.degs):<25}' #, f\"level coeff: {LHS[0]}\")\n",
    "            elif B.is_free:\n",
    "                prt += f'free: del {(i,j)}\\n\\tdegs {str(B.degs):<25}'\n",
    "            else:\n",
    "                prt += f'pd={len(B.free_resolution())-1}: del {(i,j)}\\n\\tdegs {str(B.degs):<25}'\n",
    "            \n",
    "            prt += f'localisation {str(A.localisation([i,j]).degs):<25}\\n'\n",
    "            Aij = A.deletion([i]).restriction(j-1)\n",
    "            Aji = A.deletion([j]).restriction(i)\n",
    "            prt += f'\\trestriction A_i^j {str(Aij.degs):<25}'\n",
    "            prt += f'A_j^i {str(Aji.degs):<25}\\n'\n",
    "            prt += f'\\tmulti-restriction A_i^j {str(degseq(Aij.compute_multi_minimal_generators())):<25}'\n",
    "            prt += f'A_j^i {str(degseq(Aji.compute_multi_minimal_generators())):<25}'\n",
    "            print(prt)"
   ]
  },
  {
   "cell_type": "markdown",
   "metadata": {},
   "source": [
    "### Ziegler's restriction (multi-restriction)"
   ]
  },
  {
   "cell_type": "code",
   "execution_count": 3,
   "metadata": {},
   "outputs": [
    {
     "name": "stdout",
     "output_type": "stream",
     "text": [
      "A: Num of planes: 10, Deg. Seq. [1, 3, 3, 3]\n"
     ]
    }
   ],
   "source": [
    "mat=[[ 1,  0,  0,  0],\n",
    "[ 0,  1,  0,  0],\n",
    "[ 0,  0,  1,  0],\n",
    "[-1,  1,  0,  0],\n",
    "[-1,  0,  1,  0],\n",
    "[ 0, -1,  1,  0],\n",
    "[ 0,  0,  0,  1],\n",
    "[ 0,  1, -1,  1],\n",
    "[-1,  1, -1,  1],\n",
    "[ 0,  0, -1,  1]]\n",
    "A=HyperPlaneArr(mat)\n",
    "print(f\"A: Num of planes: {A.num_planes}, Deg. Seq. {A.degs}\")"
   ]
  },
  {
   "cell_type": "code",
   "execution_count": 4,
   "metadata": {},
   "outputs": [
    {
     "name": "stdout",
     "output_type": "stream",
     "text": [
      "[2, 1, 1, 2, 1, 1]\n",
      "[1, 2, 3]\n"
     ]
    },
    {
     "data": {
      "text/plain": [
       "([2, 3, 3],\n",
       " [(x0^2 - 2*x0*x1, -x1^2, x2^2),\n",
       "  (x0^2*x2 - x0*x1*x2, 0, x1*x2^2 + x2^3),\n",
       "  (x0^3 - 2*x0^2*x1 + x0*x1^2 - x0^2*x2 + x0*x1*x2, 0, 0)])"
      ]
     },
     "execution_count": 4,
     "metadata": {},
     "output_type": "execute_result"
    }
   ],
   "source": [
    "# note that the indices will shift after deletion. \n",
    "# so here we are removing H0 and then restricting to H2 in the original arr.\n",
    "B=A.deletion([0]).restriction(1)\n",
    "print(B.multiplicity)\n",
    "print(B.degs)\n",
    "MG = B.compute_multi_minimal_generators()\n",
    "degseq(MG), MG"
   ]
  },
  {
   "cell_type": "code",
   "execution_count": 4,
   "metadata": {},
   "outputs": [
    {
     "name": "stdout",
     "output_type": "stream",
     "text": [
      "[2, 1, 1, 1, 2, 1]\n",
      "[1, 2, 3]\n"
     ]
    },
    {
     "data": {
      "text/plain": [
       "([2, 3, 3],\n",
       " [(x0^2, 2*x0*x1 - x1^2, 2*x0*x2 - 2*x1*x2 + x2^2),\n",
       "  (0, x0*x1*x2 - x1^2*x2, x0*x1*x2 - x1^2*x2),\n",
       "  (0, x0^2*x1 - 2*x0*x1^2 + x1^3 + 4*x0*x1*x2 - 4*x1^2*x2, x0^2*x2 - x1^2*x2 + 2*x0*x2^2 - 3*x1*x2^2 + x2^3)])"
      ]
     },
     "execution_count": 4,
     "metadata": {},
     "output_type": "execute_result"
    }
   ],
   "source": [
    "B=A.deletion([2]).restriction(0)\n",
    "print(B.multiplicity)\n",
    "print(B.degs)\n",
    "MG = B.compute_multi_minimal_generators()\n",
    "degseq(MG), MG"
   ]
  },
  {
   "cell_type": "markdown",
   "metadata": {},
   "source": [
    "## Same lattice but different degree sequences\n",
    "degree sequence is in general not combinatorial"
   ]
  },
  {
   "cell_type": "code",
   "execution_count": 124,
   "metadata": {},
   "outputs": [
    {
     "name": "stdout",
     "output_type": "stream",
     "text": [
      "S(0)⊕S(0)⊕S(0) <-- S(-1)⊕S(-5)⊕S(-6)⊕S(-6) <-- S(-8) <-- 0\n"
     ]
    },
    {
     "data": {
      "image/png": "[encoded data removed]",
      "text/plain": [
       "<Figure size 640x480 with 1 Axes>"
      ]
     },
     "metadata": {},
     "output_type": "display_data"
    }
   ],
   "source": [
    "a=2\n",
    "A=HyperPlaneArr(coord_vec(3)+[[1,1,0],[1,0,-1],[1,0,1],[0,1,-a],[0,1,2],[1,1,-a-1],[1,1,3]])\n",
    "A.plot_arr(xlim=(-3.5,3.5),ylim=(-4.5,4.5))\n",
    "A.degs, latex(factor(A.Q),\"\\n\")\n",
    "print(A.free_resolution())"
   ]
  },
  {
   "cell_type": "code",
   "execution_count": 127,
   "metadata": {},
   "outputs": [
    {
     "name": "stdout",
     "output_type": "stream",
     "text": [
      "S(0)⊕S(0)⊕S(0) <-- S(-1)⊕S(-6)⊕S(-6)⊕S(-6)⊕S(-6)⊕S(-6) <-- S(-7)⊕S(-7)⊕S(-7) <-- 0\n"
     ]
    },
    {
     "data": {
      "image/png": "[encoded data removed]",
      "text/plain": [
       "<Figure size 640x480 with 1 Axes>"
      ]
     },
     "metadata": {},
     "output_type": "display_data"
    }
   ],
   "source": [
    "a=3\n",
    "A=HyperPlaneArr(coord_vec(3)+[[1,1,0],[1,0,-1],[1,0,1],[0,1,-a],[0,1,2],[1,1,-a-1],[1,1,3]])\n",
    "A.plot_arr(xlim=(-3.5,3.5),ylim=(-4.5,4.5))\n",
    "A.degs, latex(factor(A.Q),\"\\n\")\n",
    "print(A.free_resolution())"
   ]
  },
  {
   "cell_type": "code",
   "execution_count": 99,
   "metadata": {},
   "outputs": [
    {
     "name": "stdout",
     "output_type": "stream",
     "text": [
      "[1, 5, 6]\n"
     ]
    },
    {
     "data": {
      "application/vnd.jupyter.widget-view+json": {
       "model_id": "f0bb863ba0364df7b2bab239b8274c89",
       "version_major": 2,
       "version_minor": 0
      },
      "text/plain": [
       "  0%|          | 0/12 [00:00<?, ?it/s]"
      ]
     },
     "metadata": {},
     "output_type": "display_data"
    },
    {
     "name": "stdout",
     "output_type": "stream",
     "text": [
      "0 [1, 5, 5]\n",
      "1 [1, 5, 5]\n",
      "2 [1, 5, 6, 7]\n",
      "3 [1, 5, 6, 7]\n",
      "4 [1, 5, 6, 6]\n",
      "5 [1, 5, 5]\n",
      "6 [1, 5, 5]\n",
      "7 [1, 5, 6, 6]\n",
      "8 [1, 5, 5]\n",
      "9 [1, 5, 5]\n",
      "10 [1, 5, 6, 7]\n",
      "11 [1, 5, 5]\n"
     ]
    },
    {
     "data": {
      "image/png": "[encoded data removed]",
      "text/plain": [
       "<Figure size 640x480 with 1 Axes>"
      ]
     },
     "metadata": {},
     "output_type": "display_data"
    }
   ],
   "source": [
    "result1 = {}\n",
    "a=1\n",
    "mat=matrix(QQ,coord_vec(3)+[[1,1,0],[1,0,-1],[1,0,1],[0,1,-a],[0,1,1],[1,1,-a-1],[1,1,2],[-1,1,0],[1,-1,-2]])\n",
    "A=HyperPlaneArr(mat)\n",
    "A.plot_arr(xlim=(-3.5,3.5),ylim=(-4.5,4.5))\n",
    "print(A.degs)\n",
    "for i in tqdm(range(mat.nrows())):\n",
    "    B=A.deletion([i])\n",
    "    result1[i]=B.degs\n",
    "    print(i,result1[i])"
   ]
  },
  {
   "cell_type": "code",
   "execution_count": 13,
   "metadata": {},
   "outputs": [
    {
     "data": {
      "text/plain": [
       "([1, 5, 5, 5, 5], [1, 5, 5, 5, 6])"
      ]
     },
     "execution_count": 13,
     "metadata": {},
     "output_type": "execute_result"
    }
   ],
   "source": [
    "# Ziegler arrangements\n",
    "M = [[0,1,0],[2,2,1],[3,1,1],[8,-1,4],[9,3,-1]]\n",
    "A=HyperPlaneArr(M+[[9,-2,3],[11,2,1],[5,5,-2]],base_field=QQ)\n",
    "B=HyperPlaneArr(M+[[21,-4,7],[19,4,1],[10,10,-5]],base_field=QQ)\n",
    "\n",
    "A.degs, B.degs"
   ]
  },
  {
   "cell_type": "code",
   "execution_count": 16,
   "metadata": {},
   "outputs": [
    {
     "data": {
      "text/plain": [
       "<Axes: title={'center': '$(x_{1})(2 x_{0} + 2 x_{1} + x_{2})(3 x_{0} + x_{1} + x_{2})(8 x_{0} - x_{1} + 4 x_{2})(9 x_{0} + 3 x_{1} - x_{2})(21 x_{0} - 4 x_{1} + 7 x_{2})(19 x_{0} + 4 x_{1} + x_{2})(10 x_{0} + 10 x_{1} - 4 x_{2})$'}>"
      ]
     },
     "execution_count": 16,
     "metadata": {},
     "output_type": "execute_result"
    },
    {
     "data": {
      "image/png": "[encoded data removed]",
      "text/plain": [
       "<Figure size 640x480 with 1 Axes>"
      ]
     },
     "metadata": {},
     "output_type": "display_data"
    }
   ],
   "source": [
    "B.plot_arr(xlim=(-3.5,3.5),ylim=(-2.5,2.5))\n"
   ]
  },
  {
   "cell_type": "markdown",
   "metadata": {},
   "source": [
    "## Edelman-Reiner’s counter-example to Orlik's conjecture"
   ]
  },
  {
   "cell_type": "code",
   "execution_count": 218,
   "metadata": {},
   "outputs": [],
   "source": [
    "mat=coord_vec(5)+[[1,1,1,1,1],[1,-1,1,1,1],[1,1,-1,1,1],[1,1,1,-1,1],[1,1,1,1,-1],[1,-1,-1,1,1],[1,-1,1,-1,1],[1,-1,1,1,-1],[1,-1,-1,1,-1],[1,-1,1,-1,-1],[1,-1,-1,-1,1],[1,1,-1,-1,1],[1,1,-1,1,-1],[1,1,-1,-1,-1],[1,1,1,-1,-1],[1,-1,-1,-1,-1]]\n",
    "A=HyperPlaneArr(mat)"
   ]
  },
  {
   "cell_type": "code",
   "execution_count": 156,
   "metadata": {
    "collapsed": true,
    "jupyter": {
     "outputs_hidden": true
    },
    "tags": []
   },
   "outputs": [
    {
     "name": "stdout",
     "output_type": "stream",
     "text": [
      "pd=1 (0, 1) [1, 5, 5, 5, 5, 8, 8]\n",
      "pd=1 (0, 2) [1, 5, 5, 5, 5, 8, 8]\n",
      "pd=1 (0, 3) [1, 5, 5, 5, 5, 8, 8]\n",
      "pd=1 (0, 4) [1, 5, 5, 5, 5, 8, 8]\n",
      "pd=1 (0, 5) [1, 5, 5, 5, 5, 5, 7]\n",
      "pd=1 (0, 6) [1, 5, 5, 5, 5, 5, 7]\n",
      "pd=1 (0, 7) [1, 5, 5, 5, 5, 5, 7]\n",
      "pd=1 (0, 8) [1, 5, 5, 5, 5, 5, 7]\n",
      "pd=1 (0, 9) [1, 5, 5, 5, 5, 5, 7]\n",
      "pd=1 (0, 10) [1, 5, 5, 5, 5, 5, 7]\n",
      "pd=1 (0, 11) [1, 5, 5, 5, 5, 5, 7]\n",
      "pd=1 (0, 12) [1, 5, 5, 5, 5, 5, 7]\n",
      "pd=1 (0, 13) [1, 5, 5, 5, 5, 5, 7]\n",
      "pd=1 (0, 14) [1, 5, 5, 5, 5, 5, 7]\n",
      "pd=1 (0, 15) [1, 5, 5, 5, 5, 5, 7]\n",
      "pd=1 (0, 16) [1, 5, 5, 5, 5, 5, 7]\n",
      "pd=1 (0, 17) [1, 5, 5, 5, 5, 5, 7]\n",
      "pd=1 (0, 18) [1, 5, 5, 5, 5, 5, 7]\n",
      "pd=1 (0, 19) [1, 5, 5, 5, 5, 5, 7]\n",
      "pd=1 (0, 20) [1, 5, 5, 5, 5, 5, 7]\n",
      "pd=1 (1, 2) [1, 5, 5, 5, 5, 8, 8]\n",
      "pd=1 (1, 3) [1, 5, 5, 5, 5, 8, 8]\n",
      "pd=1 (1, 4) [1, 5, 5, 5, 5, 8, 8]\n",
      "pd=1 (1, 5) [1, 5, 5, 5, 5, 5, 7]\n",
      "pd=1 (1, 6) [1, 5, 5, 5, 5, 5, 7]\n",
      "pd=1 (1, 7) [1, 5, 5, 5, 5, 5, 7]\n",
      "pd=1 (1, 8) [1, 5, 5, 5, 5, 5, 7]\n",
      "pd=1 (1, 9) [1, 5, 5, 5, 5, 5, 7]\n",
      "pd=1 (1, 10) [1, 5, 5, 5, 5, 5, 7]\n",
      "pd=1 (1, 11) [1, 5, 5, 5, 5, 5, 7]\n",
      "pd=1 (1, 12) [1, 5, 5, 5, 5, 5, 7]\n",
      "pd=1 (1, 13) [1, 5, 5, 5, 5, 5, 7]\n",
      "pd=1 (1, 14) [1, 5, 5, 5, 5, 5, 7]\n",
      "pd=1 (1, 15) [1, 5, 5, 5, 5, 5, 7]\n",
      "pd=1 (1, 16) [1, 5, 5, 5, 5, 5, 7]\n",
      "pd=1 (1, 17) [1, 5, 5, 5, 5, 5, 7]\n",
      "pd=1 (1, 18) [1, 5, 5, 5, 5, 5, 7]\n",
      "pd=1 (1, 19) [1, 5, 5, 5, 5, 5, 7]\n",
      "pd=1 (1, 20) [1, 5, 5, 5, 5, 5, 7]\n",
      "pd=1 (2, 3) [1, 5, 5, 5, 5, 8, 8]\n",
      "pd=1 (2, 4) [1, 5, 5, 5, 5, 8, 8]\n",
      "pd=1 (2, 5) [1, 5, 5, 5, 5, 5, 7]\n",
      "pd=1 (2, 6) [1, 5, 5, 5, 5, 5, 7]\n",
      "pd=1 (2, 7) [1, 5, 5, 5, 5, 5, 7]\n",
      "pd=1 (2, 8) [1, 5, 5, 5, 5, 5, 7]\n",
      "pd=1 (2, 9) [1, 5, 5, 5, 5, 5, 7]\n",
      "pd=1 (2, 10) [1, 5, 5, 5, 5, 5, 7]\n",
      "pd=1 (2, 11) [1, 5, 5, 5, 5, 5, 7]\n",
      "pd=1 (2, 12) [1, 5, 5, 5, 5, 5, 7]\n",
      "pd=1 (2, 13) [1, 5, 5, 5, 5, 5, 7]\n",
      "pd=1 (2, 14) [1, 5, 5, 5, 5, 5, 7]\n",
      "pd=1 (2, 15) [1, 5, 5, 5, 5, 5, 7]\n",
      "pd=1 (2, 16) [1, 5, 5, 5, 5, 5, 7]\n",
      "pd=1 (2, 17) [1, 5, 5, 5, 5, 5, 7]\n",
      "pd=1 (2, 18) [1, 5, 5, 5, 5, 5, 7]\n",
      "pd=1 (2, 19) [1, 5, 5, 5, 5, 5, 7]\n",
      "pd=1 (2, 20) [1, 5, 5, 5, 5, 5, 7]\n",
      "pd=1 (3, 4) [1, 5, 5, 5, 5, 8, 8]\n",
      "pd=1 (3, 5) [1, 5, 5, 5, 5, 5, 7]\n",
      "pd=1 (3, 6) [1, 5, 5, 5, 5, 5, 7]\n",
      "pd=1 (3, 7) [1, 5, 5, 5, 5, 5, 7]\n",
      "pd=1 (3, 8) [1, 5, 5, 5, 5, 5, 7]\n",
      "pd=1 (3, 9) [1, 5, 5, 5, 5, 5, 7]\n",
      "pd=1 (3, 10) [1, 5, 5, 5, 5, 5, 7]\n",
      "pd=1 (3, 11) [1, 5, 5, 5, 5, 5, 7]\n",
      "pd=1 (3, 12) [1, 5, 5, 5, 5, 5, 7]\n",
      "pd=1 (3, 13) [1, 5, 5, 5, 5, 5, 7]\n",
      "pd=1 (3, 14) [1, 5, 5, 5, 5, 5, 7]\n",
      "pd=1 (3, 15) [1, 5, 5, 5, 5, 5, 7]\n",
      "pd=1 (3, 16) [1, 5, 5, 5, 5, 5, 7]\n",
      "pd=1 (3, 17) [1, 5, 5, 5, 5, 5, 7]\n",
      "pd=1 (3, 18) [1, 5, 5, 5, 5, 5, 7]\n",
      "pd=1 (3, 19) [1, 5, 5, 5, 5, 5, 7]\n",
      "pd=1 (3, 20) [1, 5, 5, 5, 5, 5, 7]\n",
      "pd=1 (4, 5) [1, 5, 5, 5, 5, 5, 7]\n",
      "pd=1 (4, 6) [1, 5, 5, 5, 5, 5, 7]\n",
      "pd=1 (4, 7) [1, 5, 5, 5, 5, 5, 7]\n",
      "pd=1 (4, 8) [1, 5, 5, 5, 5, 5, 7]\n",
      "pd=1 (4, 9) [1, 5, 5, 5, 5, 5, 7]\n",
      "pd=1 (4, 10) [1, 5, 5, 5, 5, 5, 7]\n",
      "pd=1 (4, 11) [1, 5, 5, 5, 5, 5, 7]\n",
      "pd=1 (4, 12) [1, 5, 5, 5, 5, 5, 7]\n",
      "pd=1 (4, 13) [1, 5, 5, 5, 5, 5, 7]\n",
      "pd=1 (4, 14) [1, 5, 5, 5, 5, 5, 7]\n",
      "pd=1 (4, 15) [1, 5, 5, 5, 5, 5, 7]\n",
      "pd=1 (4, 16) [1, 5, 5, 5, 5, 5, 7]\n",
      "pd=1 (4, 17) [1, 5, 5, 5, 5, 5, 7]\n",
      "pd=1 (4, 18) [1, 5, 5, 5, 5, 5, 7]\n",
      "pd=1 (4, 19) [1, 5, 5, 5, 5, 5, 7]\n",
      "SPOG: (5, 6) [1, 4, 5, 5, 5, 5]\n",
      "SPOG: (5, 7) [1, 4, 5, 5, 5, 5]\n",
      "SPOG: (5, 8) [1, 4, 5, 5, 5, 5]\n",
      "SPOG: (5, 9) [1, 4, 5, 5, 5, 5]\n",
      "pd=1 (5, 10) [1, 5, 5, 5, 5, 5, 5]\n",
      "pd=1 (5, 11) [1, 5, 5, 5, 5, 5, 5]\n",
      "pd=1 (5, 12) [1, 5, 5, 5, 5, 5, 5]\n",
      "pd=1 (5, 13) [1, 5, 5, 5, 5, 5, 5]\n",
      "pd=1 (5, 14) [1, 5, 5, 5, 5, 5, 5]\n",
      "pd=1 (5, 15) [1, 5, 5, 5, 5, 5, 5]\n",
      "pd=1 (5, 16) [1, 5, 5, 5, 5, 5, 5]\n",
      "pd=1 (5, 17) [1, 5, 5, 5, 5, 5, 5]\n",
      "pd=1 (5, 18) [1, 5, 5, 5, 5, 5, 5]\n",
      "pd=1 (5, 19) [1, 5, 5, 5, 5, 5, 5]\n",
      "SPOG: (5, 20) [1, 4, 5, 5, 5, 5]\n",
      "pd=1 (6, 7) [1, 5, 5, 5, 5, 5, 5]\n",
      "pd=1 (6, 8) [1, 5, 5, 5, 5, 5, 5]\n",
      "pd=1 (6, 9) [1, 5, 5, 5, 5, 5, 5]\n",
      "SPOG: (6, 10) [1, 4, 5, 5, 5, 5]\n",
      "SPOG: (6, 11) [1, 4, 5, 5, 5, 5]\n",
      "SPOG: (6, 12) [1, 4, 5, 5, 5, 5]\n",
      "pd=1 (6, 13) [1, 5, 5, 5, 5, 5, 5]\n",
      "pd=1 (6, 14) [1, 5, 5, 5, 5, 5, 5]\n",
      "pd=1 (6, 15) [1, 5, 5, 5, 5, 5, 5]\n",
      "pd=1 (6, 16) [1, 5, 5, 5, 5, 5, 5]\n",
      "pd=1 (6, 17) [1, 5, 5, 5, 5, 5, 5]\n",
      "SPOG: (6, 18) [1, 4, 5, 5, 5, 5]\n",
      "pd=1 (6, 19) [1, 5, 5, 5, 5, 5, 5]\n",
      "pd=1 (6, 20) [1, 5, 5, 5, 5, 5, 5]\n",
      "pd=1 (7, 8) [1, 5, 5, 5, 5, 5, 5]\n",
      "pd=1 (7, 9) [1, 5, 5, 5, 5, 5, 5]\n",
      "SPOG: (7, 10) [1, 4, 5, 5, 5, 5]\n",
      "pd=1 (7, 11) [1, 5, 5, 5, 5, 5, 5]\n",
      "pd=1 (7, 12) [1, 5, 5, 5, 5, 5, 5]\n",
      "pd=1 (7, 13) [1, 5, 5, 5, 5, 5, 5]\n",
      "SPOG: (7, 14) [1, 4, 5, 5, 5, 5]\n",
      "pd=1 (7, 15) [1, 5, 5, 5, 5, 5, 5]\n",
      "SPOG: (7, 16) [1, 4, 5, 5, 5, 5]\n",
      "SPOG: (7, 17) [1, 4, 5, 5, 5, 5]\n",
      "pd=1 (7, 18) [1, 5, 5, 5, 5, 5, 5]\n",
      "pd=1 (7, 19) [1, 5, 5, 5, 5, 5, 5]\n",
      "pd=1 (7, 20) [1, 5, 5, 5, 5, 5, 5]\n",
      "pd=1 (8, 9) [1, 5, 5, 5, 5, 5, 5]\n",
      "pd=1 (8, 10) [1, 5, 5, 5, 5, 5, 5]\n",
      "SPOG: (8, 11) [1, 4, 5, 5, 5, 5]\n",
      "pd=1 (8, 12) [1, 5, 5, 5, 5, 5, 5]\n",
      "SPOG: (8, 13) [1, 4, 5, 5, 5, 5]\n",
      "pd=1 (8, 14) [1, 5, 5, 5, 5, 5, 5]\n",
      "pd=1 (8, 15) [1, 5, 5, 5, 5, 5, 5]\n",
      "SPOG: (8, 16) [1, 4, 5, 5, 5, 5]\n",
      "pd=1 (8, 17) [1, 5, 5, 5, 5, 5, 5]\n",
      "pd=1 (8, 18) [1, 5, 5, 5, 5, 5, 5]\n",
      "SPOG: (8, 19) [1, 4, 5, 5, 5, 5]\n",
      "pd=1 (8, 20) [1, 5, 5, 5, 5, 5, 5]\n",
      "pd=1 (9, 10) [1, 5, 5, 5, 5, 5, 5]\n",
      "pd=1 (9, 11) [1, 5, 5, 5, 5, 5, 5]\n",
      "SPOG: (9, 12) [1, 4, 5, 5, 5, 5]\n",
      "pd=1 (9, 13) [1, 5, 5, 5, 5, 5, 5]\n",
      "pd=1 (9, 14) [1, 5, 5, 5, 5, 5, 5]\n",
      "SPOG: (9, 15) [1, 4, 5, 5, 5, 5]\n",
      "pd=1 (9, 16) [1, 5, 5, 5, 5, 5, 5]\n",
      "SPOG: (9, 17) [1, 4, 5, 5, 5, 5]\n",
      "pd=1 (9, 18) [1, 5, 5, 5, 5, 5, 5]\n",
      "SPOG: (9, 19) [1, 4, 5, 5, 5, 5]\n",
      "pd=1 (9, 20) [1, 5, 5, 5, 5, 5, 5]\n",
      "pd=1 (10, 11) [1, 5, 5, 5, 5, 5, 5]\n",
      "pd=1 (10, 12) [1, 5, 5, 5, 5, 5, 5]\n",
      "SPOG: (10, 13) [1, 4, 5, 5, 5, 5]\n",
      "pd=1 (10, 14) [1, 5, 5, 5, 5, 5, 5]\n",
      "SPOG: (10, 15) [1, 4, 5, 5, 5, 5]\n",
      "pd=1 (10, 16) [1, 5, 5, 5, 5, 5, 5]\n",
      "pd=1 (10, 17) [1, 5, 5, 5, 5, 5, 5]\n",
      "pd=1 (10, 18) [1, 5, 5, 5, 5, 5, 5]\n",
      "SPOG: (10, 19) [1, 4, 5, 5, 5, 5]\n",
      "pd=1 (10, 20) [1, 5, 5, 5, 5, 5, 5]\n",
      "pd=1 (11, 12) [1, 5, 5, 5, 5, 5, 5]\n",
      "pd=1 (11, 13) [1, 5, 5, 5, 5, 5, 5]\n",
      "SPOG: (11, 14) [1, 4, 5, 5, 5, 5]\n",
      "SPOG: (11, 15) [1, 4, 5, 5, 5, 5]\n",
      "pd=1 (11, 16) [1, 5, 5, 5, 5, 5, 5]\n",
      "SPOG: (11, 17) [1, 4, 5, 5, 5, 5]\n",
      "pd=1 (11, 18) [1, 5, 5, 5, 5, 5, 5]\n",
      "pd=1 (11, 19) [1, 5, 5, 5, 5, 5, 5]\n",
      "pd=1 (11, 20) [1, 5, 5, 5, 5, 5, 5]\n",
      "SPOG: (12, 13) [1, 4, 5, 5, 5, 5]\n",
      "SPOG: (12, 14) [1, 4, 5, 5, 5, 5]\n",
      "pd=1 (12, 15) [1, 5, 5, 5, 5, 5, 5]\n",
      "SPOG: (12, 16) [1, 4, 5, 5, 5, 5]\n",
      "pd=1 (12, 17) [1, 5, 5, 5, 5, 5, 5]\n",
      "pd=1 (12, 18) [1, 5, 5, 5, 5, 5, 5]\n",
      "pd=1 (12, 19) [1, 5, 5, 5, 5, 5, 5]\n",
      "pd=1 (12, 20) [1, 5, 5, 5, 5, 5, 5]\n",
      "pd=1 (13, 14) [1, 5, 5, 5, 5, 5, 5]\n",
      "pd=1 (13, 15) [1, 5, 5, 5, 5, 5, 5]\n",
      "pd=1 (13, 16) [1, 5, 5, 5, 5, 5, 5]\n",
      "SPOG: (13, 17) [1, 4, 5, 5, 5, 5]\n",
      "pd=1 (13, 18) [1, 5, 5, 5, 5, 5, 5]\n",
      "pd=1 (13, 19) [1, 5, 5, 5, 5, 5, 5]\n",
      "SPOG: (13, 20) [1, 4, 5, 5, 5, 5]\n",
      "pd=1 (14, 15) [1, 5, 5, 5, 5, 5, 5]\n",
      "pd=1 (14, 16) [1, 5, 5, 5, 5, 5, 5]\n",
      "pd=1 (14, 17) [1, 5, 5, 5, 5, 5, 5]\n",
      "pd=1 (14, 18) [1, 5, 5, 5, 5, 5, 5]\n",
      "SPOG: (14, 19) [1, 4, 5, 5, 5, 5]\n",
      "SPOG: (14, 20) [1, 4, 5, 5, 5, 5]\n",
      "SPOG: (15, 16) [1, 4, 5, 5, 5, 5]\n",
      "pd=1 (15, 17) [1, 5, 5, 5, 5, 5, 5]\n",
      "pd=1 (15, 18) [1, 5, 5, 5, 5, 5, 5]\n",
      "pd=1 (15, 19) [1, 5, 5, 5, 5, 5, 5]\n",
      "SPOG: (15, 20) [1, 4, 5, 5, 5, 5]\n",
      "pd=1 (16, 17) [1, 5, 5, 5, 5, 5, 5]\n",
      "SPOG: (16, 18) [1, 4, 5, 5, 5, 5]\n",
      "pd=1 (16, 19) [1, 5, 5, 5, 5, 5, 5]\n",
      "pd=1 (16, 20) [1, 5, 5, 5, 5, 5, 5]\n",
      "SPOG: (17, 18) [1, 4, 5, 5, 5, 5]\n",
      "pd=1 (17, 19) [1, 5, 5, 5, 5, 5, 5]\n",
      "pd=1 (17, 20) [1, 5, 5, 5, 5, 5, 5]\n",
      "SPOG: (18, 19) [1, 4, 5, 5, 5, 5]\n",
      "SPOG: (18, 20) [1, 4, 5, 5, 5, 5]\n",
      "pd=1 (19, 20) [1, 5, 5, 5, 5, 5, 5]\n"
     ]
    },
    {
     "data": {
      "text/plain": [
       "[(((0,), {'A': <__main__.HyperPlaneArr object at 0x7f3fab9caf80>}),\n",
       "  {(0, 1): [1, 5, 5, 5, 5, 8, 8],\n",
       "   (0, 2): [1, 5, 5, 5, 5, 8, 8],\n",
       "   (0, 3): [1, 5, 5, 5, 5, 8, 8],\n",
       "   (0, 4): [1, 5, 5, 5, 5, 8, 8],\n",
       "   (0, 5): [1, 5, 5, 5, 5, 5, 7],\n",
       "   (0, 6): [1, 5, 5, 5, 5, 5, 7],\n",
       "   (0, 7): [1, 5, 5, 5, 5, 5, 7],\n",
       "   (0, 8): [1, 5, 5, 5, 5, 5, 7],\n",
       "   (0, 9): [1, 5, 5, 5, 5, 5, 7],\n",
       "   (0, 10): [1, 5, 5, 5, 5, 5, 7],\n",
       "   (0, 11): [1, 5, 5, 5, 5, 5, 7],\n",
       "   (0, 12): [1, 5, 5, 5, 5, 5, 7],\n",
       "   (0, 13): [1, 5, 5, 5, 5, 5, 7],\n",
       "   (0, 14): [1, 5, 5, 5, 5, 5, 7],\n",
       "   (0, 15): [1, 5, 5, 5, 5, 5, 7],\n",
       "   (0, 16): [1, 5, 5, 5, 5, 5, 7],\n",
       "   (0, 17): [1, 5, 5, 5, 5, 5, 7],\n",
       "   (0, 18): [1, 5, 5, 5, 5, 5, 7],\n",
       "   (0, 19): [1, 5, 5, 5, 5, 5, 7],\n",
       "   (0, 20): [1, 5, 5, 5, 5, 5, 7]}),\n",
       " (((1,), {'A': <__main__.HyperPlaneArr object at 0x7f3fabafad70>}),\n",
       "  {(1, 2): [1, 5, 5, 5, 5, 8, 8],\n",
       "   (1, 3): [1, 5, 5, 5, 5, 8, 8],\n",
       "   (1, 4): [1, 5, 5, 5, 5, 8, 8],\n",
       "   (1, 5): [1, 5, 5, 5, 5, 5, 7],\n",
       "   (1, 6): [1, 5, 5, 5, 5, 5, 7],\n",
       "   (1, 7): [1, 5, 5, 5, 5, 5, 7],\n",
       "   (1, 8): [1, 5, 5, 5, 5, 5, 7],\n",
       "   (1, 9): [1, 5, 5, 5, 5, 5, 7],\n",
       "   (1, 10): [1, 5, 5, 5, 5, 5, 7],\n",
       "   (1, 11): [1, 5, 5, 5, 5, 5, 7],\n",
       "   (1, 12): [1, 5, 5, 5, 5, 5, 7],\n",
       "   (1, 13): [1, 5, 5, 5, 5, 5, 7],\n",
       "   (1, 14): [1, 5, 5, 5, 5, 5, 7],\n",
       "   (1, 15): [1, 5, 5, 5, 5, 5, 7],\n",
       "   (1, 16): [1, 5, 5, 5, 5, 5, 7],\n",
       "   (1, 17): [1, 5, 5, 5, 5, 5, 7],\n",
       "   (1, 18): [1, 5, 5, 5, 5, 5, 7],\n",
       "   (1, 19): [1, 5, 5, 5, 5, 5, 7],\n",
       "   (1, 20): [1, 5, 5, 5, 5, 5, 7]}),\n",
       " (((2,), {'A': <__main__.HyperPlaneArr object at 0x7f3fab5fd780>}),\n",
       "  {(2, 3): [1, 5, 5, 5, 5, 8, 8],\n",
       "   (2, 4): [1, 5, 5, 5, 5, 8, 8],\n",
       "   (2, 5): [1, 5, 5, 5, 5, 5, 7],\n",
       "   (2, 6): [1, 5, 5, 5, 5, 5, 7],\n",
       "   (2, 7): [1, 5, 5, 5, 5, 5, 7],\n",
       "   (2, 8): [1, 5, 5, 5, 5, 5, 7],\n",
       "   (2, 9): [1, 5, 5, 5, 5, 5, 7],\n",
       "   (2, 10): [1, 5, 5, 5, 5, 5, 7],\n",
       "   (2, 11): [1, 5, 5, 5, 5, 5, 7],\n",
       "   (2, 12): [1, 5, 5, 5, 5, 5, 7],\n",
       "   (2, 13): [1, 5, 5, 5, 5, 5, 7],\n",
       "   (2, 14): [1, 5, 5, 5, 5, 5, 7],\n",
       "   (2, 15): [1, 5, 5, 5, 5, 5, 7],\n",
       "   (2, 16): [1, 5, 5, 5, 5, 5, 7],\n",
       "   (2, 17): [1, 5, 5, 5, 5, 5, 7],\n",
       "   (2, 18): [1, 5, 5, 5, 5, 5, 7],\n",
       "   (2, 19): [1, 5, 5, 5, 5, 5, 7],\n",
       "   (2, 20): [1, 5, 5, 5, 5, 5, 7]}),\n",
       " (((3,), {'A': <__main__.HyperPlaneArr object at 0x7f3fb655c8e0>}),\n",
       "  {(3, 4): [1, 5, 5, 5, 5, 8, 8],\n",
       "   (3, 5): [1, 5, 5, 5, 5, 5, 7],\n",
       "   (3, 6): [1, 5, 5, 5, 5, 5, 7],\n",
       "   (3, 7): [1, 5, 5, 5, 5, 5, 7],\n",
       "   (3, 8): [1, 5, 5, 5, 5, 5, 7],\n",
       "   (3, 9): [1, 5, 5, 5, 5, 5, 7],\n",
       "   (3, 10): [1, 5, 5, 5, 5, 5, 7],\n",
       "   (3, 11): [1, 5, 5, 5, 5, 5, 7],\n",
       "   (3, 12): [1, 5, 5, 5, 5, 5, 7],\n",
       "   (3, 13): [1, 5, 5, 5, 5, 5, 7],\n",
       "   (3, 14): [1, 5, 5, 5, 5, 5, 7],\n",
       "   (3, 15): [1, 5, 5, 5, 5, 5, 7],\n",
       "   (3, 16): [1, 5, 5, 5, 5, 5, 7],\n",
       "   (3, 17): [1, 5, 5, 5, 5, 5, 7],\n",
       "   (3, 18): [1, 5, 5, 5, 5, 5, 7],\n",
       "   (3, 19): [1, 5, 5, 5, 5, 5, 7],\n",
       "   (3, 20): [1, 5, 5, 5, 5, 5, 7]}),\n",
       " (((4,), {'A': <__main__.HyperPlaneArr object at 0x7f3fab8d5540>}),\n",
       "  {(4, 5): [1, 5, 5, 5, 5, 5, 7],\n",
       "   (4, 6): [1, 5, 5, 5, 5, 5, 7],\n",
       "   (4, 7): [1, 5, 5, 5, 5, 5, 7],\n",
       "   (4, 8): [1, 5, 5, 5, 5, 5, 7],\n",
       "   (4, 9): [1, 5, 5, 5, 5, 5, 7],\n",
       "   (4, 10): [1, 5, 5, 5, 5, 5, 7],\n",
       "   (4, 11): [1, 5, 5, 5, 5, 5, 7],\n",
       "   (4, 12): [1, 5, 5, 5, 5, 5, 7],\n",
       "   (4, 13): [1, 5, 5, 5, 5, 5, 7],\n",
       "   (4, 14): [1, 5, 5, 5, 5, 5, 7],\n",
       "   (4, 15): [1, 5, 5, 5, 5, 5, 7],\n",
       "   (4, 16): [1, 5, 5, 5, 5, 5, 7],\n",
       "   (4, 17): [1, 5, 5, 5, 5, 5, 7],\n",
       "   (4, 18): [1, 5, 5, 5, 5, 5, 7],\n",
       "   (4, 19): [1, 5, 5, 5, 5, 5, 7],\n",
       "   (4, 20): [1, 5, 5, 5, 5, 5, 7]}),\n",
       " (((5,), {'A': <__main__.HyperPlaneArr object at 0x7f3fab9f3d90>}),\n",
       "  {(5, 6): [1, 4, 5, 5, 5, 5],\n",
       "   (5, 7): [1, 4, 5, 5, 5, 5],\n",
       "   (5, 8): [1, 4, 5, 5, 5, 5],\n",
       "   (5, 9): [1, 4, 5, 5, 5, 5],\n",
       "   (5, 10): [1, 5, 5, 5, 5, 5, 5],\n",
       "   (5, 11): [1, 5, 5, 5, 5, 5, 5],\n",
       "   (5, 12): [1, 5, 5, 5, 5, 5, 5],\n",
       "   (5, 13): [1, 5, 5, 5, 5, 5, 5],\n",
       "   (5, 14): [1, 5, 5, 5, 5, 5, 5],\n",
       "   (5, 15): [1, 5, 5, 5, 5, 5, 5],\n",
       "   (5, 16): [1, 5, 5, 5, 5, 5, 5],\n",
       "   (5, 17): [1, 5, 5, 5, 5, 5, 5],\n",
       "   (5, 18): [1, 5, 5, 5, 5, 5, 5],\n",
       "   (5, 19): [1, 5, 5, 5, 5, 5, 5],\n",
       "   (5, 20): [1, 4, 5, 5, 5, 5]}),\n",
       " (((6,), {'A': <__main__.HyperPlaneArr object at 0x7f3fab9c8820>}),\n",
       "  {(6, 7): [1, 5, 5, 5, 5, 5, 5],\n",
       "   (6, 8): [1, 5, 5, 5, 5, 5, 5],\n",
       "   (6, 9): [1, 5, 5, 5, 5, 5, 5],\n",
       "   (6, 10): [1, 4, 5, 5, 5, 5],\n",
       "   (6, 11): [1, 4, 5, 5, 5, 5],\n",
       "   (6, 12): [1, 4, 5, 5, 5, 5],\n",
       "   (6, 13): [1, 5, 5, 5, 5, 5, 5],\n",
       "   (6, 14): [1, 5, 5, 5, 5, 5, 5],\n",
       "   (6, 15): [1, 5, 5, 5, 5, 5, 5],\n",
       "   (6, 16): [1, 5, 5, 5, 5, 5, 5],\n",
       "   (6, 17): [1, 5, 5, 5, 5, 5, 5],\n",
       "   (6, 18): [1, 4, 5, 5, 5, 5],\n",
       "   (6, 19): [1, 5, 5, 5, 5, 5, 5],\n",
       "   (6, 20): [1, 5, 5, 5, 5, 5, 5]}),\n",
       " (((7,), {'A': <__main__.HyperPlaneArr object at 0x7f3fac6a7250>}),\n",
       "  {(7, 8): [1, 5, 5, 5, 5, 5, 5],\n",
       "   (7, 9): [1, 5, 5, 5, 5, 5, 5],\n",
       "   (7, 10): [1, 4, 5, 5, 5, 5],\n",
       "   (7, 11): [1, 5, 5, 5, 5, 5, 5],\n",
       "   (7, 12): [1, 5, 5, 5, 5, 5, 5],\n",
       "   (7, 13): [1, 5, 5, 5, 5, 5, 5],\n",
       "   (7, 14): [1, 4, 5, 5, 5, 5],\n",
       "   (7, 15): [1, 5, 5, 5, 5, 5, 5],\n",
       "   (7, 16): [1, 4, 5, 5, 5, 5],\n",
       "   (7, 17): [1, 4, 5, 5, 5, 5],\n",
       "   (7, 18): [1, 5, 5, 5, 5, 5, 5],\n",
       "   (7, 19): [1, 5, 5, 5, 5, 5, 5],\n",
       "   (7, 20): [1, 5, 5, 5, 5, 5, 5]}),\n",
       " (((8,), {'A': <__main__.HyperPlaneArr object at 0x7f3fabafae00>}),\n",
       "  {(8, 9): [1, 5, 5, 5, 5, 5, 5],\n",
       "   (8, 10): [1, 5, 5, 5, 5, 5, 5],\n",
       "   (8, 11): [1, 4, 5, 5, 5, 5],\n",
       "   (8, 12): [1, 5, 5, 5, 5, 5, 5],\n",
       "   (8, 13): [1, 4, 5, 5, 5, 5],\n",
       "   (8, 14): [1, 5, 5, 5, 5, 5, 5],\n",
       "   (8, 15): [1, 5, 5, 5, 5, 5, 5],\n",
       "   (8, 16): [1, 4, 5, 5, 5, 5],\n",
       "   (8, 17): [1, 5, 5, 5, 5, 5, 5],\n",
       "   (8, 18): [1, 5, 5, 5, 5, 5, 5],\n",
       "   (8, 19): [1, 4, 5, 5, 5, 5],\n",
       "   (8, 20): [1, 5, 5, 5, 5, 5, 5]}),\n",
       " (((9,), {'A': <__main__.HyperPlaneArr object at 0x7f3fabafaf80>}),\n",
       "  {(9, 10): [1, 5, 5, 5, 5, 5, 5],\n",
       "   (9, 11): [1, 5, 5, 5, 5, 5, 5],\n",
       "   (9, 12): [1, 4, 5, 5, 5, 5],\n",
       "   (9, 13): [1, 5, 5, 5, 5, 5, 5],\n",
       "   (9, 14): [1, 5, 5, 5, 5, 5, 5],\n",
       "   (9, 15): [1, 4, 5, 5, 5, 5],\n",
       "   (9, 16): [1, 5, 5, 5, 5, 5, 5],\n",
       "   (9, 17): [1, 4, 5, 5, 5, 5],\n",
       "   (9, 18): [1, 5, 5, 5, 5, 5, 5],\n",
       "   (9, 19): [1, 4, 5, 5, 5, 5],\n",
       "   (9, 20): [1, 5, 5, 5, 5, 5, 5]}),\n",
       " (((10,), {'A': <__main__.HyperPlaneArr object at 0x7f3fabaef820>}),\n",
       "  {(10, 11): [1, 5, 5, 5, 5, 5, 5],\n",
       "   (10, 12): [1, 5, 5, 5, 5, 5, 5],\n",
       "   (10, 13): [1, 4, 5, 5, 5, 5],\n",
       "   (10, 14): [1, 5, 5, 5, 5, 5, 5],\n",
       "   (10, 15): [1, 4, 5, 5, 5, 5],\n",
       "   (10, 16): [1, 5, 5, 5, 5, 5, 5],\n",
       "   (10, 17): [1, 5, 5, 5, 5, 5, 5],\n",
       "   (10, 18): [1, 5, 5, 5, 5, 5, 5],\n",
       "   (10, 19): [1, 4, 5, 5, 5, 5],\n",
       "   (10, 20): [1, 5, 5, 5, 5, 5, 5]}),\n",
       " (((11,), {'A': <__main__.HyperPlaneArr object at 0x7f3fab797fa0>}),\n",
       "  {(11, 12): [1, 5, 5, 5, 5, 5, 5],\n",
       "   (11, 13): [1, 5, 5, 5, 5, 5, 5],\n",
       "   (11, 14): [1, 4, 5, 5, 5, 5],\n",
       "   (11, 15): [1, 4, 5, 5, 5, 5],\n",
       "   (11, 16): [1, 5, 5, 5, 5, 5, 5],\n",
       "   (11, 17): [1, 4, 5, 5, 5, 5],\n",
       "   (11, 18): [1, 5, 5, 5, 5, 5, 5],\n",
       "   (11, 19): [1, 5, 5, 5, 5, 5, 5],\n",
       "   (11, 20): [1, 5, 5, 5, 5, 5, 5]}),\n",
       " (((12,), {'A': <__main__.HyperPlaneArr object at 0x7f3fac02ace0>}),\n",
       "  {(12, 13): [1, 4, 5, 5, 5, 5],\n",
       "   (12, 14): [1, 4, 5, 5, 5, 5],\n",
       "   (12, 15): [1, 5, 5, 5, 5, 5, 5],\n",
       "   (12, 16): [1, 4, 5, 5, 5, 5],\n",
       "   (12, 17): [1, 5, 5, 5, 5, 5, 5],\n",
       "   (12, 18): [1, 5, 5, 5, 5, 5, 5],\n",
       "   (12, 19): [1, 5, 5, 5, 5, 5, 5],\n",
       "   (12, 20): [1, 5, 5, 5, 5, 5, 5]}),\n",
       " (((13,), {'A': <__main__.HyperPlaneArr object at 0x7f3faba28eb0>}),\n",
       "  {(13, 14): [1, 5, 5, 5, 5, 5, 5],\n",
       "   (13, 15): [1, 5, 5, 5, 5, 5, 5],\n",
       "   (13, 16): [1, 5, 5, 5, 5, 5, 5],\n",
       "   (13, 17): [1, 4, 5, 5, 5, 5],\n",
       "   (13, 18): [1, 5, 5, 5, 5, 5, 5],\n",
       "   (13, 19): [1, 5, 5, 5, 5, 5, 5],\n",
       "   (13, 20): [1, 4, 5, 5, 5, 5]}),\n",
       " (((14,), {'A': <__main__.HyperPlaneArr object at 0x7f3fabbe0e50>}),\n",
       "  {(14, 15): [1, 5, 5, 5, 5, 5, 5],\n",
       "   (14, 16): [1, 5, 5, 5, 5, 5, 5],\n",
       "   (14, 17): [1, 5, 5, 5, 5, 5, 5],\n",
       "   (14, 18): [1, 5, 5, 5, 5, 5, 5],\n",
       "   (14, 19): [1, 4, 5, 5, 5, 5],\n",
       "   (14, 20): [1, 4, 5, 5, 5, 5]}),\n",
       " (((15,), {'A': <__main__.HyperPlaneArr object at 0x7f3fab6d7ac0>}),\n",
       "  {(15, 16): [1, 4, 5, 5, 5, 5],\n",
       "   (15, 17): [1, 5, 5, 5, 5, 5, 5],\n",
       "   (15, 18): [1, 5, 5, 5, 5, 5, 5],\n",
       "   (15, 19): [1, 5, 5, 5, 5, 5, 5],\n",
       "   (15, 20): [1, 4, 5, 5, 5, 5]}),\n",
       " (((16,), {'A': <__main__.HyperPlaneArr object at 0x7f3fab6fe5f0>}),\n",
       "  {(16, 17): [1, 5, 5, 5, 5, 5, 5],\n",
       "   (16, 18): [1, 4, 5, 5, 5, 5],\n",
       "   (16, 19): [1, 5, 5, 5, 5, 5, 5],\n",
       "   (16, 20): [1, 5, 5, 5, 5, 5, 5]}),\n",
       " (((17,), {'A': <__main__.HyperPlaneArr object at 0x7f3fabb5b880>}),\n",
       "  {(17, 18): [1, 4, 5, 5, 5, 5],\n",
       "   (17, 19): [1, 5, 5, 5, 5, 5, 5],\n",
       "   (17, 20): [1, 5, 5, 5, 5, 5, 5]}),\n",
       " (((18,), {'A': <__main__.HyperPlaneArr object at 0x7f3fab736470>}),\n",
       "  {(18, 19): [1, 4, 5, 5, 5, 5], (18, 20): [1, 4, 5, 5, 5, 5]}),\n",
       " (((19,), {'A': <__main__.HyperPlaneArr object at 0x7f3fab797d30>}),\n",
       "  {(19, 20): [1, 5, 5, 5, 5, 5, 5]})]"
      ]
     },
     "execution_count": 156,
     "metadata": {},
     "output_type": "execute_result"
    }
   ],
   "source": [
    "res = list(sage.parallel.multiprocessing_sage.parallel_iter(int(0), list_ntf2, [((i,), {\"A\":A}) for i in range(A.num_planes-1)]))"
   ]
  },
  {
   "cell_type": "code",
   "execution_count": 160,
   "metadata": {
    "collapsed": true,
    "jupyter": {
     "outputs_hidden": true
    },
    "tags": []
   },
   "outputs": [
    {
     "name": "stdout",
     "output_type": "stream",
     "text": [
      "0 True\n",
      "1 True\n",
      "2 True\n",
      "3 True\n",
      "4 True\n",
      "5 False\n",
      "6 False\n",
      "7 False\n",
      "8 False\n",
      "9 False\n",
      "10 False\n",
      "11 False\n",
      "12 False\n",
      "13 False\n",
      "14 False\n",
      "15 False\n",
      "16 False\n",
      "17 False\n",
      "18 False\n",
      "19 False\n",
      "20 False\n"
     ]
    }
   ],
   "source": [
    "for i in range(A.num_planes):\n",
    "    B=A.restriction(i)\n",
    "    print(i,B.is_free)"
   ]
  },
  {
   "cell_type": "code",
   "execution_count": null,
   "metadata": {},
   "outputs": [],
   "source": [
    "# list all minus-two\n",
    "## restriction to both 0 and 2 are free, but minus {0,2} has more generators than dim+2\n",
    "for i in range(A.num_planes):\n",
    "    print(f\"\\nLooking at {i}-th plane\")\n",
    "    B=A.deletion([i])\n",
    "    print(f\"del {i} degrees: \",B.degs)\n",
    "    C=A.restriction(i)\n",
    "    print(f\"Res to {i} free?: {C.is_free}, {C.degs}, is SPOG: {C.is_SPOG()},\")\n",
    "    if B.is_free:\n",
    "        print(f\"del {i} is free\")\n"
   ]
  },
  {
   "cell_type": "markdown",
   "metadata": {},
   "source": [
    "## free plus one can have a large PD"
   ]
  },
  {
   "cell_type": "code",
   "execution_count": 29,
   "metadata": {},
   "outputs": [
    {
     "data": {
      "text/plain": [
       "S(0)⊕S(0)⊕S(0)⊕S(0)⊕S(0) <-- S(-1)⊕S(-2)⊕S(-2)⊕S(-2)⊕S(-2)⊕S(-2)⊕S(-2)⊕S(-2)⊕S(-2)⊕S(-2)⊕S(-2) <-- S(-3)⊕S(-3)⊕S(-3)⊕S(-3)⊕S(-3)⊕S(-3)⊕S(-3)⊕S(-3)⊕S(-3)⊕S(-3) <-- S(-4)⊕S(-4)⊕S(-4)⊕S(-4)⊕S(-4) <-- S(-5) <-- 0"
      ]
     },
     "execution_count": 29,
     "metadata": {},
     "output_type": "execute_result"
    }
   ],
   "source": [
    "mat=coord_vec(5)+[[1,1,1,1,1]]\n",
    "A=HyperPlaneArr(mat)\n",
    "A.free_resolution()"
   ]
  },
  {
   "cell_type": "code",
   "execution_count": 243,
   "metadata": {},
   "outputs": [
    {
     "data": {
      "text/plain": [
       "S(0)⊕S(0)⊕S(0)⊕S(0)⊕S(0) <-- S(-1)⊕S(-4)⊕S(-4)⊕S(-5)⊕S(-5)⊕S(-5) <-- S(-6) <-- 0"
      ]
     },
     "execution_count": 243,
     "metadata": {},
     "output_type": "execute_result"
    }
   ],
   "source": [
    "mat=coord_vec(5)+[[1,1,1,1,1],[1,-1,1,1,1],[1,1,-1,1,1],[1,1,1,-1,1],[1,1,1,1,-1],[1,-1,-1,1,1],[1,-1,1,-1,1],[1,-1,1,1,-1],[1,-1,-1,1,-1],[1,-1,1,-1,-1],[1,-1,-1,-1,1],[1,1,-1,-1,1],[1,1,-1,1,-1]]\n",
    "A=HyperPlaneArr(mat)\n",
    "A.free_resolution()"
   ]
  }
 ],
 "metadata": {
  "kernelspec": {
   "display_name": "SageMath 10.0",
   "language": "sage",
   "name": "sagemath"
  },
  "language_info": {
   "codemirror_mode": {
    "name": "ipython",
    "version": 3
   },
   "file_extension": ".py",
   "mimetype": "text/x-python",
   "name": "python",
   "nbconvert_exporter": "python",
   "pygments_lexer": "ipython3",
   "version": "3.10.10"
  }
 },
 "nbformat": 4,
 "nbformat_minor": 4
}
